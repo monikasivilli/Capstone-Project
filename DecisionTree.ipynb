{
 "cells": [
  {
   "cell_type": "markdown",
   "metadata": {},
   "source": [
    "# Decision Tree #"
   ]
  },
  {
   "cell_type": "markdown",
   "metadata": {},
   "source": [
    "<b> Table of Contents: </b>\n",
    "<br> [1. COVID Confirmed Cases as Target Variable](#10)\n",
    "<br> [](#20)\n",
    "<br> [](#30)\n"
   ]
  },
  {
   "cell_type": "markdown",
   "metadata": {},
   "source": [
    "_Import Modules_"
   ]
  },
  {
   "cell_type": "code",
   "execution_count": 1,
   "metadata": {},
   "outputs": [],
   "source": [
    "import pandas as pd\n",
    "from sklearn.tree import DecisionTreeClassifier # Import Decision Tree Classifier\n",
    "from sklearn.model_selection import train_test_split # Import train_test_split function\n",
    "from sklearn import metrics #Import scikit-learn metrics module for accuracy calculation\n",
    "from sklearn.preprocessing import Normalizer"
   ]
  },
  {
   "cell_type": "markdown",
   "metadata": {},
   "source": [
    "Loading the Dataset"
   ]
  },
  {
   "cell_type": "code",
   "execution_count": 2,
   "metadata": {},
   "outputs": [],
   "source": [
    "# load the dataset\n",
    "df_tristate_cases = pd.read_csv(\"tristate_final_data.csv\")"
   ]
  },
  {
   "cell_type": "code",
   "execution_count": 3,
   "metadata": {},
   "outputs": [
    {
     "data": {
      "text/html": [
       "<div>\n",
       "<style scoped>\n",
       "    .dataframe tbody tr th:only-of-type {\n",
       "        vertical-align: middle;\n",
       "    }\n",
       "\n",
       "    .dataframe tbody tr th {\n",
       "        vertical-align: top;\n",
       "    }\n",
       "\n",
       "    .dataframe thead th {\n",
       "        text-align: right;\n",
       "    }\n",
       "</style>\n",
       "<table border=\"1\" class=\"dataframe\">\n",
       "  <thead>\n",
       "    <tr style=\"text-align: right;\">\n",
       "      <th></th>\n",
       "      <th>NAME</th>\n",
       "      <th>Covid Confirmed Cases</th>\n",
       "      <th>Covid Deaths</th>\n",
       "      <th>Population</th>\n",
       "      <th>Covid Case Rate (per 1000)</th>\n",
       "      <th>Covid Death Rate (per 1000)</th>\n",
       "      <th>Households SNAP</th>\n",
       "      <th>Estimated Individuals SNAP</th>\n",
       "      <th>Total Citizen Educated in US</th>\n",
       "      <th>Citizen Less than High School  Education</th>\n",
       "      <th>...</th>\n",
       "      <th>Asian Race</th>\n",
       "      <th>Pacific Islander Race</th>\n",
       "      <th>Other Race Alone</th>\n",
       "      <th>Hispanic or Latino</th>\n",
       "      <th>Median Age</th>\n",
       "      <th>Male Median Age</th>\n",
       "      <th>Female Median Age</th>\n",
       "      <th>Total Households</th>\n",
       "      <th>Average Household Size</th>\n",
       "      <th>Total Families</th>\n",
       "    </tr>\n",
       "  </thead>\n",
       "  <tbody>\n",
       "    <tr>\n",
       "      <th>0</th>\n",
       "      <td>Albany County, New York</td>\n",
       "      <td>87943</td>\n",
       "      <td>3989</td>\n",
       "      <td>304204</td>\n",
       "      <td>289.092188</td>\n",
       "      <td>13.112911</td>\n",
       "      <td>15,087</td>\n",
       "      <td>34,247</td>\n",
       "      <td>204,833</td>\n",
       "      <td>15,255</td>\n",
       "      <td>...</td>\n",
       "      <td>98</td>\n",
       "      <td>4,744</td>\n",
       "      <td>7,647</td>\n",
       "      <td>289,287</td>\n",
       "      <td>38.5</td>\n",
       "      <td>36.8</td>\n",
       "      <td>40.0</td>\n",
       "      <td>126,251</td>\n",
       "      <td>2</td>\n",
       "      <td>60,631</td>\n",
       "    </tr>\n",
       "    <tr>\n",
       "      <th>1</th>\n",
       "      <td>Allegany County, New York</td>\n",
       "      <td>2601</td>\n",
       "      <td>126</td>\n",
       "      <td>48946</td>\n",
       "      <td>53.140195</td>\n",
       "      <td>2.574266</td>\n",
       "      <td>2,994</td>\n",
       "      <td>7,305</td>\n",
       "      <td>30,331</td>\n",
       "      <td>3,219</td>\n",
       "      <td>...</td>\n",
       "      <td>9</td>\n",
       "      <td>206</td>\n",
       "      <td>557</td>\n",
       "      <td>48,276</td>\n",
       "      <td>37.8</td>\n",
       "      <td>36.2</td>\n",
       "      <td>39.2</td>\n",
       "      <td>18,208</td>\n",
       "      <td>2</td>\n",
       "      <td>10,576</td>\n",
       "    </tr>\n",
       "    <tr>\n",
       "      <th>2</th>\n",
       "      <td>Bronx County, New York</td>\n",
       "      <td>2544478</td>\n",
       "      <td>234021</td>\n",
       "      <td>1385108</td>\n",
       "      <td>1837.024983</td>\n",
       "      <td>168.955056</td>\n",
       "      <td>184,934</td>\n",
       "      <td>512,267</td>\n",
       "      <td>927,374</td>\n",
       "      <td>264,309</td>\n",
       "      <td>...</td>\n",
       "      <td>1,288</td>\n",
       "      <td>351,011</td>\n",
       "      <td>73,243</td>\n",
       "      <td>643,695</td>\n",
       "      <td>32.8</td>\n",
       "      <td>30.6</td>\n",
       "      <td>34.9</td>\n",
       "      <td>483,449</td>\n",
       "      <td>3</td>\n",
       "      <td>368,196</td>\n",
       "    </tr>\n",
       "    <tr>\n",
       "      <th>3</th>\n",
       "      <td>Broome County, New York</td>\n",
       "      <td>24218</td>\n",
       "      <td>1802</td>\n",
       "      <td>200600</td>\n",
       "      <td>120.727817</td>\n",
       "      <td>8.983051</td>\n",
       "      <td>13,226</td>\n",
       "      <td>30,684</td>\n",
       "      <td>129,802</td>\n",
       "      <td>12,429</td>\n",
       "      <td>...</td>\n",
       "      <td>82</td>\n",
       "      <td>1,912</td>\n",
       "      <td>5,087</td>\n",
       "      <td>193,822</td>\n",
       "      <td>40.2</td>\n",
       "      <td>38.1</td>\n",
       "      <td>42.2</td>\n",
       "      <td>82,167</td>\n",
       "      <td>2</td>\n",
       "      <td>40,559</td>\n",
       "    </tr>\n",
       "    <tr>\n",
       "      <th>4</th>\n",
       "      <td>Cattaraugus County, New York</td>\n",
       "      <td>3875</td>\n",
       "      <td>128</td>\n",
       "      <td>80317</td>\n",
       "      <td>48.246324</td>\n",
       "      <td>1.593685</td>\n",
       "      <td>5,801</td>\n",
       "      <td>13,980</td>\n",
       "      <td>53,201</td>\n",
       "      <td>6,188</td>\n",
       "      <td>...</td>\n",
       "      <td>15</td>\n",
       "      <td>305</td>\n",
       "      <td>1,363</td>\n",
       "      <td>78,972</td>\n",
       "      <td>40.7</td>\n",
       "      <td>39.8</td>\n",
       "      <td>41.6</td>\n",
       "      <td>32,263</td>\n",
       "      <td>2</td>\n",
       "      <td>18,801</td>\n",
       "    </tr>\n",
       "  </tbody>\n",
       "</table>\n",
       "<p>5 rows × 39 columns</p>\n",
       "</div>"
      ],
      "text/plain": [
       "                           NAME  Covid Confirmed Cases  Covid Deaths   \\\n",
       "0       Albany County, New York                  87943           3989   \n",
       "1     Allegany County, New York                   2601            126   \n",
       "2        Bronx County, New York                2544478         234021   \n",
       "3       Broome County, New York                  24218           1802   \n",
       "4  Cattaraugus County, New York                   3875            128   \n",
       "\n",
       "   Population  Covid Case Rate (per 1000)  Covid Death Rate (per 1000)  \\\n",
       "0      304204                  289.092188                    13.112911   \n",
       "1       48946                   53.140195                     2.574266   \n",
       "2     1385108                 1837.024983                   168.955056   \n",
       "3      200600                  120.727817                     8.983051   \n",
       "4       80317                   48.246324                     1.593685   \n",
       "\n",
       "   Households SNAP   Estimated Individuals SNAP   \\\n",
       "0            15,087                       34,247   \n",
       "1             2,994                        7,305   \n",
       "2           184,934                      512,267   \n",
       "3            13,226                       30,684   \n",
       "4             5,801                       13,980   \n",
       "\n",
       "   Total Citizen Educated in US   Citizen Less than High School  Education   \\\n",
       "0                        204,833                                     15,255   \n",
       "1                         30,331                                      3,219   \n",
       "2                        927,374                                    264,309   \n",
       "3                        129,802                                     12,429   \n",
       "4                         53,201                                      6,188   \n",
       "\n",
       "   ...  Asian Race   Pacific Islander Race   Other Race Alone   \\\n",
       "0  ...           98                   4,744              7,647   \n",
       "1  ...            9                     206                557   \n",
       "2  ...        1,288                 351,011             73,243   \n",
       "3  ...           82                   1,912              5,087   \n",
       "4  ...           15                     305              1,363   \n",
       "\n",
       "   Hispanic or Latino  Median Age Male Median Age Female Median Age  \\\n",
       "0              289,287       38.5            36.8              40.0   \n",
       "1               48,276       37.8            36.2              39.2   \n",
       "2              643,695       32.8            30.6              34.9   \n",
       "3              193,822       40.2            38.1              42.2   \n",
       "4               78,972       40.7            39.8              41.6   \n",
       "\n",
       "   Total Households   Average Household Size   Total Families   \n",
       "0            126,251                        2           60,631  \n",
       "1             18,208                        2           10,576  \n",
       "2            483,449                        3          368,196  \n",
       "3             82,167                        2           40,559  \n",
       "4             32,263                        2           18,801  \n",
       "\n",
       "[5 rows x 39 columns]"
      ]
     },
     "execution_count": 3,
     "metadata": {},
     "output_type": "execute_result"
    }
   ],
   "source": [
    "df_tristate_cases.head()"
   ]
  },
  {
   "cell_type": "code",
   "execution_count": 4,
   "metadata": {},
   "outputs": [
    {
     "name": "stdout",
     "output_type": "stream",
     "text": [
      "<class 'pandas.core.frame.DataFrame'>\n",
      "RangeIndex: 91 entries, 0 to 90\n",
      "Data columns (total 39 columns):\n",
      "NAME                                          91 non-null object\n",
      "Covid Confirmed Cases                         91 non-null int64\n",
      "Covid Deaths                                  91 non-null int64\n",
      "Population                                    91 non-null int64\n",
      "Covid Case Rate (per 1000)                    91 non-null float64\n",
      "Covid Death Rate (per 1000)                   91 non-null float64\n",
      " Households SNAP                              91 non-null object\n",
      " Estimated Individuals SNAP                   91 non-null object\n",
      " Total Citizen Educated in US                 91 non-null object\n",
      " Citizen Less than High School  Education     91 non-null object\n",
      " Citizen High School  Graduate                91 non-null object\n",
      " Citizen Some College  Education              91 non-null object\n",
      " Citizen College Degree                       91 non-null object\n",
      " Citizen Graduate or Professional Degree      91 non-null object\n",
      " Total Citizen Income                         91 non-null object\n",
      " Citizen No Income                            91 non-null object\n",
      "Citizen Income $1-$9,999                      91 non-null object\n",
      "Citizen Income $10,000-$14,999                91 non-null object\n",
      "Citizen Income $15,000-$24,999                91 non-null object\n",
      "Citizen Income $25,000-$34,999                91 non-null object\n",
      "Citizen Income $35,000-$49,999                91 non-null object\n",
      "Citizen Income $50,000-$64,999                91 non-null object\n",
      "Citizen Income $65,000-$74,999                91 non-null object\n",
      "Citizen Income $75,000 +                      91 non-null object\n",
      " Total Population                             91 non-null object\n",
      " One Race Population                          91 non-null object\n",
      " White Race                                   91 non-null object\n",
      " Black Race                                   91 non-null object\n",
      " Native American Race                         91 non-null object\n",
      " Asian Race                                   91 non-null object\n",
      " Pacific Islander Race                        91 non-null object\n",
      " Other Race Alone                             91 non-null object\n",
      " Hispanic or Latino                           91 non-null object\n",
      "Median Age                                    91 non-null float64\n",
      "Male Median Age                               91 non-null float64\n",
      "Female Median Age                             91 non-null float64\n",
      " Total Households                             91 non-null object\n",
      " Average Household Size                       91 non-null int64\n",
      " Total Families                               91 non-null object\n",
      "dtypes: float64(5), int64(4), object(30)\n",
      "memory usage: 27.9+ KB\n"
     ]
    }
   ],
   "source": [
    "df_tristate_cases.info()"
   ]
  },
  {
   "cell_type": "markdown",
   "metadata": {},
   "source": [
    "### <a id = \"10\"> <h2> 1. COVID Confirmed Cases as Target Variable </h2> </a>\n",
    "___"
   ]
  },
  {
   "cell_type": "code",
   "execution_count": 5,
   "metadata": {},
   "outputs": [
    {
     "data": {
      "text/plain": [
       "[' Asian Race ',\n",
       " ' Average Household Size ',\n",
       " ' Black Race ',\n",
       " ' Citizen College Degree  ',\n",
       " ' Citizen Graduate or Professional Degree ',\n",
       " ' Citizen High School  Graduate ',\n",
       " ' Citizen Less than High School  Education ',\n",
       " ' Citizen No Income ',\n",
       " ' Citizen Some College  Education ',\n",
       " ' Estimated Individuals SNAP ',\n",
       " ' Hispanic or Latino ',\n",
       " ' Households SNAP ',\n",
       " ' Native American Race ',\n",
       " ' One Race Population ',\n",
       " ' Other Race Alone ',\n",
       " ' Pacific Islander Race ',\n",
       " ' Total Citizen Educated in US ',\n",
       " ' Total Citizen Income ',\n",
       " ' Total Families ',\n",
       " ' Total Households ',\n",
       " ' Total Population ',\n",
       " ' White Race ',\n",
       " 'Citizen Income $1-$9,999',\n",
       " 'Citizen Income $10,000-$14,999',\n",
       " 'Citizen Income $15,000-$24,999',\n",
       " 'Citizen Income $25,000-$34,999',\n",
       " 'Citizen Income $35,000-$49,999',\n",
       " 'Citizen Income $50,000-$64,999',\n",
       " 'Citizen Income $65,000-$74,999',\n",
       " 'Citizen Income $75,000 +',\n",
       " 'Covid Case Rate (per 1000)',\n",
       " 'Covid Confirmed Cases',\n",
       " 'Covid Death Rate (per 1000)',\n",
       " 'Covid Deaths ',\n",
       " 'Female Median Age',\n",
       " 'Male Median Age',\n",
       " 'Median Age',\n",
       " 'NAME',\n",
       " 'Population']"
      ]
     },
     "execution_count": 5,
     "metadata": {},
     "output_type": "execute_result"
    }
   ],
   "source": [
    "# ---------------------------------------------------------------------------------------------------\n",
    "# Extract needed features as a list of columns \n",
    "# excluding target variable 'COVID Confirmed Cases' \n",
    "# ---------------------------------------------------------------------------------------------------\n",
    "## create a list of all the columns\n",
    "list_all_columns = df_tristate_cases.columns.tolist()\n",
    "\n",
    "## remove features in list, which are not needed for testing for feature selection, namely:\n",
    "list_remove_features = ['Households SNAP', 'Total Families'] \n",
    "\n",
    "# Create sets of a,b\n",
    "setA = set(list_all_columns)\n",
    "setB = set(list_remove_features)\n",
    "\n",
    "# Get new set with elements that are only in a but not in b\n",
    "setlist_X_columns = setA.difference(list_remove_features)\n",
    "\n",
    "# convert set object to a list\n",
    "list_X_columns = list(setlist_X_columns)\n",
    "\n",
    "# Define dependent variables\n",
    "X = df_tristate_cases[list_X_columns].to_numpy()\n",
    "\n",
    "#show the columns that need to be included as features\n",
    "## sort alphabetically\n",
    "list_X_columns.sort()\n",
    "## show list \n",
    "list_X_columns"
   ]
  },
  {
   "cell_type": "code",
   "execution_count": 6,
   "metadata": {},
   "outputs": [],
   "source": [
    "# Define Features and Target variables\n",
    "X = df_tristate_cases[list_X_columns]\n",
    "Y = df_tristate_cases['Covid Confirmed Cases']"
   ]
  },
  {
   "cell_type": "code",
   "execution_count": 7,
   "metadata": {},
   "outputs": [],
   "source": [
    "# Split dataset into training set and test set \n",
    "# 70% training and 30% test\n",
    "X_train, X_test, y_train, y_test = train_test_split(X, Y, test_size=0.3,random_state=2019) "
   ]
  },
  {
   "cell_type": "code",
   "execution_count": 8,
   "metadata": {},
   "outputs": [
    {
     "ename": "ValueError",
     "evalue": "could not convert string to float: '1,288'",
     "output_type": "error",
     "traceback": [
      "\u001b[0;31m---------------------------------------------------------------------------\u001b[0m",
      "\u001b[0;31mValueError\u001b[0m                                Traceback (most recent call last)",
      "\u001b[0;32m<ipython-input-8-effc1cc2cd4f>\u001b[0m in \u001b[0;36m<module>\u001b[0;34m\u001b[0m\n\u001b[1;32m      3\u001b[0m \u001b[0;34m\u001b[0m\u001b[0m\n\u001b[1;32m      4\u001b[0m \u001b[0;31m# Train Decision Tree Classifer\u001b[0m\u001b[0;34m\u001b[0m\u001b[0;34m\u001b[0m\u001b[0;34m\u001b[0m\u001b[0m\n\u001b[0;32m----> 5\u001b[0;31m \u001b[0mclf\u001b[0m \u001b[0;34m=\u001b[0m \u001b[0mclf\u001b[0m\u001b[0;34m.\u001b[0m\u001b[0mfit\u001b[0m\u001b[0;34m(\u001b[0m\u001b[0mX_train\u001b[0m\u001b[0;34m,\u001b[0m\u001b[0my_train\u001b[0m\u001b[0;34m)\u001b[0m\u001b[0;34m\u001b[0m\u001b[0;34m\u001b[0m\u001b[0m\n\u001b[0m\u001b[1;32m      6\u001b[0m \u001b[0;34m\u001b[0m\u001b[0m\n\u001b[1;32m      7\u001b[0m \u001b[0;31m#Predict the response for test dataset\u001b[0m\u001b[0;34m\u001b[0m\u001b[0;34m\u001b[0m\u001b[0;34m\u001b[0m\u001b[0m\n",
      "\u001b[0;32m/opt/tljh/user/lib/python3.6/site-packages/sklearn/tree/_classes.py\u001b[0m in \u001b[0;36mfit\u001b[0;34m(self, X, y, sample_weight, check_input, X_idx_sorted)\u001b[0m\n\u001b[1;32m    875\u001b[0m             \u001b[0msample_weight\u001b[0m\u001b[0;34m=\u001b[0m\u001b[0msample_weight\u001b[0m\u001b[0;34m,\u001b[0m\u001b[0;34m\u001b[0m\u001b[0;34m\u001b[0m\u001b[0m\n\u001b[1;32m    876\u001b[0m             \u001b[0mcheck_input\u001b[0m\u001b[0;34m=\u001b[0m\u001b[0mcheck_input\u001b[0m\u001b[0;34m,\u001b[0m\u001b[0;34m\u001b[0m\u001b[0;34m\u001b[0m\u001b[0m\n\u001b[0;32m--> 877\u001b[0;31m             X_idx_sorted=X_idx_sorted)\n\u001b[0m\u001b[1;32m    878\u001b[0m         \u001b[0;32mreturn\u001b[0m \u001b[0mself\u001b[0m\u001b[0;34m\u001b[0m\u001b[0;34m\u001b[0m\u001b[0m\n\u001b[1;32m    879\u001b[0m \u001b[0;34m\u001b[0m\u001b[0m\n",
      "\u001b[0;32m/opt/tljh/user/lib/python3.6/site-packages/sklearn/tree/_classes.py\u001b[0m in \u001b[0;36mfit\u001b[0;34m(self, X, y, sample_weight, check_input, X_idx_sorted)\u001b[0m\n\u001b[1;32m    147\u001b[0m \u001b[0;34m\u001b[0m\u001b[0m\n\u001b[1;32m    148\u001b[0m         \u001b[0;32mif\u001b[0m \u001b[0mcheck_input\u001b[0m\u001b[0;34m:\u001b[0m\u001b[0;34m\u001b[0m\u001b[0;34m\u001b[0m\u001b[0m\n\u001b[0;32m--> 149\u001b[0;31m             \u001b[0mX\u001b[0m \u001b[0;34m=\u001b[0m \u001b[0mcheck_array\u001b[0m\u001b[0;34m(\u001b[0m\u001b[0mX\u001b[0m\u001b[0;34m,\u001b[0m \u001b[0mdtype\u001b[0m\u001b[0;34m=\u001b[0m\u001b[0mDTYPE\u001b[0m\u001b[0;34m,\u001b[0m \u001b[0maccept_sparse\u001b[0m\u001b[0;34m=\u001b[0m\u001b[0;34m\"csc\"\u001b[0m\u001b[0;34m)\u001b[0m\u001b[0;34m\u001b[0m\u001b[0;34m\u001b[0m\u001b[0m\n\u001b[0m\u001b[1;32m    150\u001b[0m             \u001b[0my\u001b[0m \u001b[0;34m=\u001b[0m \u001b[0mcheck_array\u001b[0m\u001b[0;34m(\u001b[0m\u001b[0my\u001b[0m\u001b[0;34m,\u001b[0m \u001b[0mensure_2d\u001b[0m\u001b[0;34m=\u001b[0m\u001b[0;32mFalse\u001b[0m\u001b[0;34m,\u001b[0m \u001b[0mdtype\u001b[0m\u001b[0;34m=\u001b[0m\u001b[0;32mNone\u001b[0m\u001b[0;34m)\u001b[0m\u001b[0;34m\u001b[0m\u001b[0;34m\u001b[0m\u001b[0m\n\u001b[1;32m    151\u001b[0m             \u001b[0;32mif\u001b[0m \u001b[0missparse\u001b[0m\u001b[0;34m(\u001b[0m\u001b[0mX\u001b[0m\u001b[0;34m)\u001b[0m\u001b[0;34m:\u001b[0m\u001b[0;34m\u001b[0m\u001b[0;34m\u001b[0m\u001b[0m\n",
      "\u001b[0;32m/opt/tljh/user/lib/python3.6/site-packages/sklearn/utils/validation.py\u001b[0m in \u001b[0;36mcheck_array\u001b[0;34m(array, accept_sparse, accept_large_sparse, dtype, order, copy, force_all_finite, ensure_2d, allow_nd, ensure_min_samples, ensure_min_features, warn_on_dtype, estimator)\u001b[0m\n\u001b[1;32m    529\u001b[0m                     \u001b[0marray\u001b[0m \u001b[0;34m=\u001b[0m \u001b[0marray\u001b[0m\u001b[0;34m.\u001b[0m\u001b[0mastype\u001b[0m\u001b[0;34m(\u001b[0m\u001b[0mdtype\u001b[0m\u001b[0;34m,\u001b[0m \u001b[0mcasting\u001b[0m\u001b[0;34m=\u001b[0m\u001b[0;34m\"unsafe\"\u001b[0m\u001b[0;34m,\u001b[0m \u001b[0mcopy\u001b[0m\u001b[0;34m=\u001b[0m\u001b[0;32mFalse\u001b[0m\u001b[0;34m)\u001b[0m\u001b[0;34m\u001b[0m\u001b[0;34m\u001b[0m\u001b[0m\n\u001b[1;32m    530\u001b[0m                 \u001b[0;32melse\u001b[0m\u001b[0;34m:\u001b[0m\u001b[0;34m\u001b[0m\u001b[0;34m\u001b[0m\u001b[0m\n\u001b[0;32m--> 531\u001b[0;31m                     \u001b[0marray\u001b[0m \u001b[0;34m=\u001b[0m \u001b[0mnp\u001b[0m\u001b[0;34m.\u001b[0m\u001b[0masarray\u001b[0m\u001b[0;34m(\u001b[0m\u001b[0marray\u001b[0m\u001b[0;34m,\u001b[0m \u001b[0morder\u001b[0m\u001b[0;34m=\u001b[0m\u001b[0morder\u001b[0m\u001b[0;34m,\u001b[0m \u001b[0mdtype\u001b[0m\u001b[0;34m=\u001b[0m\u001b[0mdtype\u001b[0m\u001b[0;34m)\u001b[0m\u001b[0;34m\u001b[0m\u001b[0;34m\u001b[0m\u001b[0m\n\u001b[0m\u001b[1;32m    532\u001b[0m             \u001b[0;32mexcept\u001b[0m \u001b[0mComplexWarning\u001b[0m\u001b[0;34m:\u001b[0m\u001b[0;34m\u001b[0m\u001b[0;34m\u001b[0m\u001b[0m\n\u001b[1;32m    533\u001b[0m                 raise ValueError(\"Complex data not supported\\n\"\n",
      "\u001b[0;32m/opt/tljh/user/lib/python3.6/site-packages/numpy/core/_asarray.py\u001b[0m in \u001b[0;36masarray\u001b[0;34m(a, dtype, order)\u001b[0m\n\u001b[1;32m     83\u001b[0m \u001b[0;34m\u001b[0m\u001b[0m\n\u001b[1;32m     84\u001b[0m     \"\"\"\n\u001b[0;32m---> 85\u001b[0;31m     \u001b[0;32mreturn\u001b[0m \u001b[0marray\u001b[0m\u001b[0;34m(\u001b[0m\u001b[0ma\u001b[0m\u001b[0;34m,\u001b[0m \u001b[0mdtype\u001b[0m\u001b[0;34m,\u001b[0m \u001b[0mcopy\u001b[0m\u001b[0;34m=\u001b[0m\u001b[0;32mFalse\u001b[0m\u001b[0;34m,\u001b[0m \u001b[0morder\u001b[0m\u001b[0;34m=\u001b[0m\u001b[0morder\u001b[0m\u001b[0;34m)\u001b[0m\u001b[0;34m\u001b[0m\u001b[0;34m\u001b[0m\u001b[0m\n\u001b[0m\u001b[1;32m     86\u001b[0m \u001b[0;34m\u001b[0m\u001b[0m\n\u001b[1;32m     87\u001b[0m \u001b[0;34m\u001b[0m\u001b[0m\n",
      "\u001b[0;31mValueError\u001b[0m: could not convert string to float: '1,288'"
     ]
    }
   ],
   "source": [
    "# Create Decision Tree classifer object\n",
    "clf = DecisionTreeClassifier()\n",
    "\n",
    "# Train Decision Tree Classifer\n",
    "clf = clf.fit(X_train,y_train)\n",
    "\n",
    "#Predict the response for test dataset\n",
    "y_pred = clf.predict(X_test)"
   ]
  },
  {
   "cell_type": "code",
   "execution_count": 9,
   "metadata": {},
   "outputs": [
    {
     "ename": "NameError",
     "evalue": "name 'y_pred' is not defined",
     "output_type": "error",
     "traceback": [
      "\u001b[0;31m---------------------------------------------------------------------------\u001b[0m",
      "\u001b[0;31mNameError\u001b[0m                                 Traceback (most recent call last)",
      "\u001b[0;32m<ipython-input-9-8937c08d392f>\u001b[0m in \u001b[0;36m<module>\u001b[0;34m\u001b[0m\n\u001b[1;32m      1\u001b[0m \u001b[0;31m# Model Accuracy, how often is the classifier correct?\u001b[0m\u001b[0;34m\u001b[0m\u001b[0;34m\u001b[0m\u001b[0;34m\u001b[0m\u001b[0m\n\u001b[0;32m----> 2\u001b[0;31m \u001b[0mprint\u001b[0m\u001b[0;34m(\u001b[0m\u001b[0;34m\"Accuracy:\"\u001b[0m\u001b[0;34m,\u001b[0m\u001b[0mmetrics\u001b[0m\u001b[0;34m.\u001b[0m\u001b[0maccuracy_score\u001b[0m\u001b[0;34m(\u001b[0m\u001b[0my_test\u001b[0m\u001b[0;34m,\u001b[0m \u001b[0my_pred\u001b[0m\u001b[0;34m)\u001b[0m\u001b[0;34m)\u001b[0m\u001b[0;34m\u001b[0m\u001b[0;34m\u001b[0m\u001b[0m\n\u001b[0m",
      "\u001b[0;31mNameError\u001b[0m: name 'y_pred' is not defined"
     ]
    }
   ],
   "source": [
    "# Model Accuracy, how often is the classifier correct?\n",
    "print(\"Accuracy:\",metrics.accuracy_score(y_test, y_pred))"
   ]
  },
  {
   "cell_type": "code",
   "execution_count": 38,
   "metadata": {},
   "outputs": [
    {
     "name": "stdout",
     "output_type": "stream",
     "text": [
      "              precision    recall  f1-score   support\n",
      "\n",
      "           0       0.91      0.92      0.92      3131\n",
      "           1       0.53      0.53      0.53       568\n",
      "\n",
      "    accuracy                           0.86      3699\n",
      "   macro avg       0.72      0.72      0.72      3699\n",
      "weighted avg       0.86      0.86      0.86      3699\n",
      "\n"
     ]
    }
   ],
   "source": [
    "print(metrics.classification_report(y_test, y_pred))"
   ]
  },
  {
   "cell_type": "code",
   "execution_count": 39,
   "metadata": {},
   "outputs": [
    {
     "name": "stdout",
     "output_type": "stream",
     "text": [
      "[[2869  262]\n",
      " [ 269  299]]\n"
     ]
    }
   ],
   "source": [
    "print(metrics.confusion_matrix(y_test, y_pred))"
   ]
  }
 ],
 "metadata": {
  "kernelspec": {
   "display_name": "Python 3",
   "language": "python",
   "name": "python3"
  },
  "language_info": {
   "codemirror_mode": {
    "name": "ipython",
    "version": 3
   },
   "file_extension": ".py",
   "mimetype": "text/x-python",
   "name": "python",
   "nbconvert_exporter": "python",
   "pygments_lexer": "ipython3",
   "version": "3.6.7"
  }
 },
 "nbformat": 4,
 "nbformat_minor": 4
}
