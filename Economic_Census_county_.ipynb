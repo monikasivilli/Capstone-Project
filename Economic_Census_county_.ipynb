{
 "cells": [
  {
   "cell_type": "markdown",
   "metadata": {},
   "source": [
    "# US Census Bureau COVID-19 Site  \n",
    "_American Community Survey_\n",
    "___"
   ]
  },
  {
   "cell_type": "markdown",
   "metadata": {},
   "source": [
    "__June 2020 Income and Benfefits by U.S. Counties__"
   ]
  },
  {
   "cell_type": "markdown",
   "metadata": {},
   "source": [
    "This dataset shows household income ranges and cutoffs. This is shown by county boundaries. This service is updated annually to contain the most currently released American Community Survey (ACS) 5-year data, and contains estimates and margins of error. The data is from 12 June 2020. \n",
    "\n",
    "This dataset was taken from the COVID-19 Census Site resources to collect accurate and updated Census information during the pandemic. "
   ]
  },
  {
   "cell_type": "markdown",
   "metadata": {},
   "source": [
    "__Sources__"
   ]
  },
  {
   "cell_type": "code",
   "execution_count": null,
   "metadata": {},
   "outputs": [],
   "source": [
    "# source: https://covid19.census.gov/datasets/56f051341b4a40aa9aa5e2c33f85547a_2/data?geometry=167.484%2C-16.868%2C-166.852%2C72.108"
   ]
  },
  {
   "cell_type": "code",
   "execution_count": null,
   "metadata": {},
   "outputs": [],
   "source": [
    "# Import Census data and Geographies\n",
    "# List of Geographies and codes: https://jtleider.github.io/censusdata/geographies.html\n",
    "\n",
    "from census import Census\n",
    "from us import states\n",
    "c = Census(\"cd1f52ad7e8ea45d92f2f657f56da781e3687cc8b\")\n",
    "\n",
    "# importing additional libraries\n",
    "import numpy as np\n",
    "import matplotlib.pyplot as plt\n",
    "import seaborn as sns\n",
    "sns.set()\n",
    "import sklearn\n",
    "\n",
    "#  importing the censusdata and pandas modules, and setting some display options in pandas\n",
    "\n",
    "import pandas as pd\n",
    "import censusdata\n",
    "pd.set_option('display.expand_frame_repr', False)\n",
    "pd.set_option('display.precision', 2)"
   ]
  },
  {
   "cell_type": "markdown",
   "metadata": {},
   "source": [
    "<b> Import Modules </b>"
   ]
  },
  {
   "cell_type": "code",
   "execution_count": null,
   "metadata": {},
   "outputs": [],
   "source": [
    "# Imported packages\n",
    "import numpy as np\n",
    "import statistics\n",
    "import pandas as pd\n",
    "import matplotlib.pyplot as plt \n",
    "%matplotlib inline\n",
    "import seaborn as sns\n",
    "from numpy import array\n",
    "from numpy import cov\n",
    "import warnings\n",
    "warnings.filterwarnings('ignore')"
   ]
  },
  {
   "cell_type": "markdown",
   "metadata": {},
   "source": [
    "<b> Left align all markdown tables </b>"
   ]
  },
  {
   "cell_type": "code",
   "execution_count": null,
   "metadata": {},
   "outputs": [],
   "source": [
    "%%html\n",
    "<style>\n",
    "    table {\n",
    "        display: inline-block\n",
    "    }\n",
    "</style>"
   ]
  },
  {
   "cell_type": "markdown",
   "metadata": {},
   "source": [
    "<b> Read csv file to a pandas dataframe </b>"
   ]
  },
  {
   "cell_type": "code",
   "execution_count": null,
   "metadata": {},
   "outputs": [],
   "source": [
    "# load in data\n",
    "df_count = pd.read_csv(\"Capstone-Project/economic_county_data.csv\")\n",
    "\n",
    "df_count.head()"
   ]
  },
  {
   "cell_type": "markdown",
   "metadata": {},
   "source": [
    "<b> Number of rows, number of columns in dataset </b>"
   ]
  },
  {
   "cell_type": "code",
   "execution_count": 36,
   "metadata": {},
   "outputs": [
    {
     "name": "stdout",
     "output_type": "stream",
     "text": [
      "There are # number of rows in the dataset    : 3233\n",
      "There are # number of columns in the dataset : 28\n"
     ]
    }
   ],
   "source": [
    "print('There are # number of rows in the dataset    :', df_count.shape[0])\n",
    "print('There are # number of columns in the dataset :', df_count.shape[1])"
   ]
  },
  {
   "cell_type": "markdown",
   "metadata": {},
   "source": [
    "| **# Rows** | **# Features** |\n",
    "|----------|--------------|\n",
    "| 12330    | 18           |\n"
   ]
  },
  {
   "cell_type": "markdown",
   "metadata": {},
   "source": [
    "<b> Features datatypes and non-null </b>"
   ]
  },
  {
   "cell_type": "code",
   "execution_count": 17,
   "metadata": {},
   "outputs": [],
   "source": [
    "#df_count.info()\n",
    "# convert table to markdown, source: https://tableconvert.com/"
   ]
  },
  {
   "cell_type": "markdown",
   "metadata": {},
   "source": [
    "| Variable                 | # values            |  Data Type |\n",
    "|--------------------------|--------------------|---------|\n",
    "| OBJECTID           | 3233 non\\-null   | int64    |\n",
    "| GEO\\_NAME          |  3233 non\\-null  | object  |\n",
    "| GEO\\_PARENT\\_NAME  |   3233 non\\-null | object |\n",
    "| B11001\\_001E       |  3220 non\\-null  | float64 |\n",
    "| B11001\\_001M       |  3220 non\\-null  | float64 |\n",
    "| DP03\\_0052E        |  3219 non\\-null  | float64 |\n",
    "| DP03\\_0052M        |  3219 non\\-null  | float64 |\n",
    "| DP03\\_0053E        |  3219 non\\-null  | float64 |\n",
    "| DP03\\_0053M        |  3219 non\\-null  | float64 |\n",
    "| DP03\\_0054E        |  3219 non\\-null  | float64 |\n",
    "| DP03\\_0054M        |  3219 non\\-null  | float64 |\n",
    "| DP03\\_0055E        |  3219 non\\-null  | float64 |\n",
    "| DP03\\_0055M        |  3219 non\\-null  | float64 |\n",
    "| DP03\\_0056E        |  3219 non\\-null  | float64 |\n",
    "| DP03\\_0056M        |  3219 non\\-null  | float64 |\n",
    "| DP03\\_0057E        |  3219 non\\-null  | float64 |\n",
    "| DP03\\_0057M        |  3219 non\\-null  | float64 |\n",
    "| DP03\\_0058E        |  3219 non\\-null  | float64 |\n",
    "| DP03\\_0058M        |  3219 non\\-null  | float64 |\n",
    "| DP03\\_0070E        |  3219 non\\-null  | float64 |\n",
    "| DP03\\_0070M        |  3219 non\\-null  | float64 |\n",
    "| DP03\\_0072E        |  3219 non\\-null  | float64 |\n",
    "| DP03\\_0072M        |  3219 non\\-null  | float64 |\n",
    "| DP03\\_0074E        |  3219 non\\-null  | float64 |\n",
    "| DP03\\_0074M        |  3219 non\\-null  | float64 |\n",
    "| HOUSELT75KP\\_CALC  |  3219 non\\-null  | float64 |\n",
    "| INCLT75E\\_CALC     |  3219 non\\-null  | float64 |\n",
    "| INCLT75M\\_CALC     |  3219 non\\-null  | float64 |"
   ]
  },
  {
   "cell_type": "markdown",
   "metadata": {},
   "source": [
    "## Take-Away\n",
    "* All features and the target variable have no null values"
   ]
  },
  {
   "cell_type": "markdown",
   "metadata": {},
   "source": [
    "<b> Feature Desciptions </b>"
   ]
  },
  {
   "cell_type": "code",
   "execution_count": null,
   "metadata": {},
   "outputs": [],
   "source": [
    "# Variable List Desciptions \n",
    "    #B11001_001E Total Households\n",
    "    #B11001_001M Total Households margin of error \n",
    "    #DP03_0052M Total Households with income - Less then $10,000\n",
    "    #DP03_0052M Total Households with income - Less then $10,000 margin of error \n",
    "    #DP03_0053E Total Households with income - $10,000 to $14,999\n",
    "    #DP03_0053M Total Households with income - $10,000 to $14,999 margin of error\n",
    "    #DP03_0054E Total Households with income - $15,000 to $24,999\n",
    "    #DP03_0054M Total Households with income - $15,000 to $24,999 margin of error\n",
    "    #DP03_0055E Total Households with income - $25,000 to $34,999\n",
    "    #DP03_0055M Total Households with income - $25,000 to $34,999 margin of error\n",
    "    #DP03_0056E Total Households with income - $35,000 to $49,999\n",
    "    #DP03_0056M Total Households with income - $35,000 to $49,999 margin of error\n",
    "    #DP03_0057E Total Households with income - $50,000 to $74,999\n",
    "    #DP03_0057M Total Households with income - $50,000 to $74,999 margin of error\n",
    "    #DP03_0058E Total Households with income - $75,000 to $99,999\n",
    "    #DP03_0058M Total Households with income - $75,000 to $99,999 margin of error\n",
    "    #DP03_0070E Total Households - With Supplemental Security Income\n",
    "    #DP03_0070M Total Households - With Supplemental Security Income margin of error \n",
    "    #DP03_0072E Total Households - With cash public assistance income\n",
    "    #DP03_0072M Total Households - With cash public assistance income margin of error\n",
    "    #DP03_0074E Total Households - With Food Stamp/SNAP benefits in the past 12 months\n",
    "    #DP03_0074M Total Households - With Food Stamp/SNAP benefits in the past 12 months margin of error\n",
    "    #HOUSELT75KP_CALC Percent of Household whose income in the past 12 months was less than $75,000\n",
    "    #INCLT75E_CALC Total Households with income - less than $75,000\n",
    "    #INCLT75M_CALC Total Households with income - less than $75,000 margin of error"
   ]
  },
  {
   "cell_type": "markdown",
   "metadata": {},
   "source": [
    "<b> Descriptive Statistics </b>"
   ]
  },
  {
   "cell_type": "code",
   "execution_count": 19,
   "metadata": {},
   "outputs": [
    {
     "data": {
      "text/html": [
       "<div>\n",
       "<style scoped>\n",
       "    .dataframe tbody tr th:only-of-type {\n",
       "        vertical-align: middle;\n",
       "    }\n",
       "\n",
       "    .dataframe tbody tr th {\n",
       "        vertical-align: top;\n",
       "    }\n",
       "\n",
       "    .dataframe thead th {\n",
       "        text-align: right;\n",
       "    }\n",
       "</style>\n",
       "<table border=\"1\" class=\"dataframe\">\n",
       "  <thead>\n",
       "    <tr style=\"text-align: right;\">\n",
       "      <th></th>\n",
       "      <th>OBJECTID</th>\n",
       "      <th>B11001_001E</th>\n",
       "      <th>B11001_001M</th>\n",
       "      <th>DP03_0052E</th>\n",
       "      <th>DP03_0052M</th>\n",
       "      <th>DP03_0053E</th>\n",
       "      <th>DP03_0053M</th>\n",
       "      <th>DP03_0054E</th>\n",
       "      <th>DP03_0054M</th>\n",
       "      <th>DP03_0055E</th>\n",
       "      <th>...</th>\n",
       "      <th>DP03_0058M</th>\n",
       "      <th>DP03_0070E</th>\n",
       "      <th>DP03_0070M</th>\n",
       "      <th>DP03_0072E</th>\n",
       "      <th>DP03_0072M</th>\n",
       "      <th>DP03_0074E</th>\n",
       "      <th>DP03_0074M</th>\n",
       "      <th>HOUSELT75KP_CALC</th>\n",
       "      <th>INCLT75E_CALC</th>\n",
       "      <th>INCLT75M_CALC</th>\n",
       "    </tr>\n",
       "  </thead>\n",
       "  <tbody>\n",
       "    <tr>\n",
       "      <th>count</th>\n",
       "      <td>3233.00</td>\n",
       "      <td>3.22e+03</td>\n",
       "      <td>3220.00</td>\n",
       "      <td>3219.0</td>\n",
       "      <td>3219.00</td>\n",
       "      <td>3219.00</td>\n",
       "      <td>3219.00</td>\n",
       "      <td>3219.00</td>\n",
       "      <td>3219.00</td>\n",
       "      <td>3219.00</td>\n",
       "      <td>...</td>\n",
       "      <td>3219.00</td>\n",
       "      <td>3219.00</td>\n",
       "      <td>3219.00</td>\n",
       "      <td>3219.00</td>\n",
       "      <td>3219.00</td>\n",
       "      <td>3219.00</td>\n",
       "      <td>3219.00</td>\n",
       "      <td>3219.00</td>\n",
       "      <td>3.22e+03</td>\n",
       "      <td>3219.00</td>\n",
       "    </tr>\n",
       "    <tr>\n",
       "      <th>mean</th>\n",
       "      <td>1617.00</td>\n",
       "      <td>3.76e+04</td>\n",
       "      <td>387.36</td>\n",
       "      <td>2458.7</td>\n",
       "      <td>235.82</td>\n",
       "      <td>1755.09</td>\n",
       "      <td>204.71</td>\n",
       "      <td>3530.50</td>\n",
       "      <td>281.57</td>\n",
       "      <td>3498.90</td>\n",
       "      <td>...</td>\n",
       "      <td>293.23</td>\n",
       "      <td>2005.20</td>\n",
       "      <td>199.49</td>\n",
       "      <td>944.46</td>\n",
       "      <td>133.06</td>\n",
       "      <td>4692.76</td>\n",
       "      <td>304.16</td>\n",
       "      <td>68.87</td>\n",
       "      <td>2.25e+04</td>\n",
       "      <td>1667.27</td>\n",
       "    </tr>\n",
       "    <tr>\n",
       "      <th>std</th>\n",
       "      <td>933.43</td>\n",
       "      <td>1.14e+05</td>\n",
       "      <td>384.07</td>\n",
       "      <td>7445.6</td>\n",
       "      <td>239.27</td>\n",
       "      <td>5235.47</td>\n",
       "      <td>200.98</td>\n",
       "      <td>10120.61</td>\n",
       "      <td>276.69</td>\n",
       "      <td>9970.79</td>\n",
       "      <td>...</td>\n",
       "      <td>325.63</td>\n",
       "      <td>6685.05</td>\n",
       "      <td>209.23</td>\n",
       "      <td>3463.96</td>\n",
       "      <td>156.55</td>\n",
       "      <td>14536.99</td>\n",
       "      <td>310.99</td>\n",
       "      <td>10.75</td>\n",
       "      <td>6.49e+04</td>\n",
       "      <td>1659.80</td>\n",
       "    </tr>\n",
       "    <tr>\n",
       "      <th>min</th>\n",
       "      <td>1.00</td>\n",
       "      <td>3.30e+01</td>\n",
       "      <td>9.00</td>\n",
       "      <td>0.0</td>\n",
       "      <td>2.00</td>\n",
       "      <td>0.00</td>\n",
       "      <td>4.00</td>\n",
       "      <td>0.00</td>\n",
       "      <td>3.00</td>\n",
       "      <td>2.00</td>\n",
       "      <td>...</td>\n",
       "      <td>3.00</td>\n",
       "      <td>0.00</td>\n",
       "      <td>3.00</td>\n",
       "      <td>0.00</td>\n",
       "      <td>2.00</td>\n",
       "      <td>0.00</td>\n",
       "      <td>3.00</td>\n",
       "      <td>24.20</td>\n",
       "      <td>1.50e+01</td>\n",
       "      <td>29.00</td>\n",
       "    </tr>\n",
       "    <tr>\n",
       "      <th>25%</th>\n",
       "      <td>809.00</td>\n",
       "      <td>4.32e+03</td>\n",
       "      <td>177.00</td>\n",
       "      <td>307.0</td>\n",
       "      <td>91.50</td>\n",
       "      <td>264.00</td>\n",
       "      <td>83.00</td>\n",
       "      <td>531.50</td>\n",
       "      <td>118.00</td>\n",
       "      <td>490.00</td>\n",
       "      <td>...</td>\n",
       "      <td>107.00</td>\n",
       "      <td>224.50</td>\n",
       "      <td>73.50</td>\n",
       "      <td>84.00</td>\n",
       "      <td>45.00</td>\n",
       "      <td>550.00</td>\n",
       "      <td>120.00</td>\n",
       "      <td>63.22</td>\n",
       "      <td>3.07e+03</td>\n",
       "      <td>698.00</td>\n",
       "    </tr>\n",
       "    <tr>\n",
       "      <th>50%</th>\n",
       "      <td>1617.00</td>\n",
       "      <td>9.95e+03</td>\n",
       "      <td>283.00</td>\n",
       "      <td>754.0</td>\n",
       "      <td>171.00</td>\n",
       "      <td>622.00</td>\n",
       "      <td>151.00</td>\n",
       "      <td>1213.00</td>\n",
       "      <td>207.00</td>\n",
       "      <td>1136.00</td>\n",
       "      <td>...</td>\n",
       "      <td>192.00</td>\n",
       "      <td>612.00</td>\n",
       "      <td>145.00</td>\n",
       "      <td>223.00</td>\n",
       "      <td>87.00</td>\n",
       "      <td>1430.00</td>\n",
       "      <td>223.00</td>\n",
       "      <td>69.97</td>\n",
       "      <td>7.20e+03</td>\n",
       "      <td>1202.00</td>\n",
       "    </tr>\n",
       "    <tr>\n",
       "      <th>75%</th>\n",
       "      <td>2425.00</td>\n",
       "      <td>2.54e+04</td>\n",
       "      <td>456.25</td>\n",
       "      <td>1931.0</td>\n",
       "      <td>296.00</td>\n",
       "      <td>1423.50</td>\n",
       "      <td>253.00</td>\n",
       "      <td>2812.50</td>\n",
       "      <td>342.00</td>\n",
       "      <td>2733.50</td>\n",
       "      <td>...</td>\n",
       "      <td>344.00</td>\n",
       "      <td>1506.00</td>\n",
       "      <td>249.00</td>\n",
       "      <td>610.00</td>\n",
       "      <td>158.00</td>\n",
       "      <td>3570.00</td>\n",
       "      <td>378.00</td>\n",
       "      <td>75.79</td>\n",
       "      <td>1.72e+04</td>\n",
       "      <td>1999.50</td>\n",
       "    </tr>\n",
       "    <tr>\n",
       "      <th>max</th>\n",
       "      <td>3233.00</td>\n",
       "      <td>3.31e+06</td>\n",
       "      <td>5533.00</td>\n",
       "      <td>192319.0</td>\n",
       "      <td>2727.00</td>\n",
       "      <td>168753.00</td>\n",
       "      <td>2965.00</td>\n",
       "      <td>296864.00</td>\n",
       "      <td>3160.00</td>\n",
       "      <td>282438.00</td>\n",
       "      <td>...</td>\n",
       "      <td>4013.00</td>\n",
       "      <td>226027.00</td>\n",
       "      <td>2811.00</td>\n",
       "      <td>117110.00</td>\n",
       "      <td>2153.00</td>\n",
       "      <td>296809.00</td>\n",
       "      <td>3498.00</td>\n",
       "      <td>100.00</td>\n",
       "      <td>1.86e+06</td>\n",
       "      <td>19774.00</td>\n",
       "    </tr>\n",
       "  </tbody>\n",
       "</table>\n",
       "<p>8 rows × 26 columns</p>\n",
       "</div>"
      ],
      "text/plain": [
       "       OBJECTID  B11001_001E  B11001_001M  DP03_0052E  DP03_0052M  DP03_0053E  DP03_0053M  DP03_0054E  DP03_0054M  DP03_0055E  ...  DP03_0058M  DP03_0070E  DP03_0070M  DP03_0072E  DP03_0072M  DP03_0074E  DP03_0074M  HOUSELT75KP_CALC  INCLT75E_CALC  INCLT75M_CALC\n",
       "count   3233.00     3.22e+03      3220.00      3219.0     3219.00     3219.00     3219.00     3219.00     3219.00     3219.00  ...     3219.00     3219.00     3219.00     3219.00     3219.00     3219.00     3219.00           3219.00       3.22e+03        3219.00\n",
       "mean    1617.00     3.76e+04       387.36      2458.7      235.82     1755.09      204.71     3530.50      281.57     3498.90  ...      293.23     2005.20      199.49      944.46      133.06     4692.76      304.16             68.87       2.25e+04        1667.27\n",
       "std      933.43     1.14e+05       384.07      7445.6      239.27     5235.47      200.98    10120.61      276.69     9970.79  ...      325.63     6685.05      209.23     3463.96      156.55    14536.99      310.99             10.75       6.49e+04        1659.80\n",
       "min        1.00     3.30e+01         9.00         0.0        2.00        0.00        4.00        0.00        3.00        2.00  ...        3.00        0.00        3.00        0.00        2.00        0.00        3.00             24.20       1.50e+01          29.00\n",
       "25%      809.00     4.32e+03       177.00       307.0       91.50      264.00       83.00      531.50      118.00      490.00  ...      107.00      224.50       73.50       84.00       45.00      550.00      120.00             63.22       3.07e+03         698.00\n",
       "50%     1617.00     9.95e+03       283.00       754.0      171.00      622.00      151.00     1213.00      207.00     1136.00  ...      192.00      612.00      145.00      223.00       87.00     1430.00      223.00             69.97       7.20e+03        1202.00\n",
       "75%     2425.00     2.54e+04       456.25      1931.0      296.00     1423.50      253.00     2812.50      342.00     2733.50  ...      344.00     1506.00      249.00      610.00      158.00     3570.00      378.00             75.79       1.72e+04        1999.50\n",
       "max     3233.00     3.31e+06      5533.00    192319.0     2727.00   168753.00     2965.00   296864.00     3160.00   282438.00  ...     4013.00   226027.00     2811.00   117110.00     2153.00   296809.00     3498.00            100.00       1.86e+06       19774.00\n",
       "\n",
       "[8 rows x 26 columns]"
      ]
     },
     "execution_count": 19,
     "metadata": {},
     "output_type": "execute_result"
    }
   ],
   "source": [
    "df_count.describe().round(2)"
   ]
  },
  {
   "cell_type": "markdown",
   "metadata": {},
   "source": [
    "# Calculations\n",
    "___"
   ]
  },
  {
   "cell_type": "markdown",
   "metadata": {},
   "source": [
    "_Total Number of Households by State_"
   ]
  },
  {
   "cell_type": "code",
   "execution_count": 37,
   "metadata": {},
   "outputs": [
    {
     "name": "stdout",
     "output_type": "stream",
     "text": [
      "GEO_PARENT_NAME\n",
      "Alabama                                         1.86e+06\n",
      "Alaska                                          2.53e+05\n",
      "American Samoa                                  0.00e+00\n",
      "Arizona                                         2.52e+06\n",
      "Arkansas                                        1.15e+06\n",
      "California                                      1.30e+07\n",
      "Colorado                                        2.11e+06\n",
      "Commonwealth of the Northern Mariana Islands    0.00e+00\n",
      "Connecticut                                     1.37e+06\n",
      "Delaware                                        3.58e+05\n",
      "District of Columbia                            2.81e+05\n",
      "Florida                                         7.62e+06\n",
      "Georgia                                         3.71e+06\n",
      "Guam                                            0.00e+00\n",
      "Hawaii                                          4.57e+05\n",
      "Idaho                                           6.18e+05\n",
      "Illinois                                        4.83e+06\n",
      "Indiana                                         2.55e+06\n",
      "Iowa                                            1.26e+06\n",
      "Kansas                                          1.12e+06\n",
      "Kentucky                                        1.73e+06\n",
      "Louisiana                                       1.74e+06\n",
      "Maine                                           5.57e+05\n",
      "Maryland                                        2.19e+06\n",
      "Massachusetts                                   2.60e+06\n",
      "Michigan                                        3.91e+06\n",
      "Minnesota                                       2.17e+06\n",
      "Mississippi                                     1.11e+06\n",
      "Missouri                                        2.40e+06\n",
      "Montana                                         4.23e+05\n",
      "Nebraska                                        7.54e+05\n",
      "Nevada                                          1.08e+06\n",
      "New Hampshire                                   5.28e+05\n",
      "New Jersey                                      3.21e+06\n",
      "New Mexico                                      7.76e+05\n",
      "New York                                        7.32e+06\n",
      "North Carolina                                  3.92e+06\n",
      "North Dakota                                    3.15e+05\n",
      "Ohio                                            4.65e+06\n",
      "Oklahoma                                        1.47e+06\n",
      "Oregon                                          1.59e+06\n",
      "Pennsylvania                                    5.03e+06\n",
      "Puerto Rico                                     1.21e+06\n",
      "Rhode Island                                    4.11e+05\n",
      "South Carolina                                  1.89e+06\n",
      "South Dakota                                    3.42e+05\n",
      "Tennessee                                       2.57e+06\n",
      "Texas                                           9.55e+06\n",
      "United States Virgin Islands                    0.00e+00\n",
      "Utah                                            9.58e+05\n",
      "Vermont                                         2.60e+05\n",
      "Virginia                                        3.13e+06\n",
      "Washington                                      2.80e+06\n",
      "West Virginia                                   7.35e+05\n",
      "Wisconsin                                       2.34e+06\n",
      "Wyoming                                         2.31e+05\n",
      "Name: B11001_001E, dtype: float64\n"
     ]
    }
   ],
   "source": [
    "# group state counties together for total households \n",
    "# example: find out the total number of households in Albama \n",
    "total_house = df_count['B11001_001E'].groupby(df_count['GEO_PARENT_NAME'])\n",
    "print(total_house.sum())"
   ]
  },
  {
   "cell_type": "markdown",
   "metadata": {},
   "source": [
    "_Total Number of Counties by State_"
   ]
  },
  {
   "cell_type": "code",
   "execution_count": 39,
   "metadata": {},
   "outputs": [
    {
     "name": "stdout",
     "output_type": "stream",
     "text": [
      "Texas                                           254\n",
      "Georgia                                         159\n",
      "Virginia                                        133\n",
      "Kentucky                                        120\n",
      "Missouri                                        115\n",
      "Kansas                                          105\n",
      "Illinois                                        102\n",
      "North Carolina                                  100\n",
      "Iowa                                             99\n",
      "Tennessee                                        95\n",
      "Nebraska                                         93\n",
      "Indiana                                          92\n",
      "Ohio                                             88\n",
      "Minnesota                                        87\n",
      "Michigan                                         83\n",
      "Mississippi                                      82\n",
      "Puerto Rico                                      78\n",
      "Oklahoma                                         77\n",
      "Arkansas                                         75\n",
      "Wisconsin                                        72\n",
      "Florida                                          67\n",
      "Pennsylvania                                     67\n",
      "Alabama                                          67\n",
      "South Dakota                                     66\n",
      "Louisiana                                        64\n",
      "Colorado                                         64\n",
      "New York                                         62\n",
      "California                                       58\n",
      "Montana                                          56\n",
      "West Virginia                                    55\n",
      "North Dakota                                     53\n",
      "South Carolina                                   46\n",
      "Idaho                                            44\n",
      "Washington                                       39\n",
      "Oregon                                           36\n",
      "New Mexico                                       33\n",
      "Alaska                                           29\n",
      "Utah                                             29\n",
      "Maryland                                         24\n",
      "Wyoming                                          23\n",
      "New Jersey                                       21\n",
      "Nevada                                           17\n",
      "Maine                                            16\n",
      "Arizona                                          15\n",
      "Vermont                                          14\n",
      "Massachusetts                                    14\n",
      "New Hampshire                                    10\n",
      "Connecticut                                       8\n",
      "Rhode Island                                      5\n",
      "Hawaii                                            5\n",
      "American Samoa                                    5\n",
      "Commonwealth of the Northern Mariana Islands      4\n",
      "Delaware                                          3\n",
      "United States Virgin Islands                      3\n",
      "District of Columbia                              1\n",
      "Guam                                              1\n",
      "Name: GEO_PARENT_NAME, dtype: int64\n"
     ]
    }
   ],
   "source": [
    "# total number of counties per state\n",
    "total_county = df_count['GEO_PARENT_NAME'].value_counts()\n",
    "print(total_county)"
   ]
  },
  {
   "cell_type": "code",
   "execution_count": 43,
   "metadata": {},
   "outputs": [],
   "source": [
    "#total_county.plot(kind='barh')\n",
    "# output too small to see all states"
   ]
  },
  {
   "cell_type": "code",
   "execution_count": null,
   "metadata": {},
   "outputs": [],
   "source": [
    "ax = sns.boxplot(y=\"\",x=\"GEO_PARENT_NAME\", data=df_count)"
   ]
  },
  {
   "cell_type": "code",
   "execution_count": null,
   "metadata": {},
   "outputs": [],
   "source": []
  }
 ],
 "metadata": {
  "kernelspec": {
   "display_name": "Python 3",
   "language": "python",
   "name": "python3"
  },
  "language_info": {
   "codemirror_mode": {
    "name": "ipython",
    "version": 3
   },
   "file_extension": ".py",
   "mimetype": "text/x-python",
   "name": "python",
   "nbconvert_exporter": "python",
   "pygments_lexer": "ipython3",
   "version": "3.6.7"
  }
 },
 "nbformat": 4,
 "nbformat_minor": 4
}
