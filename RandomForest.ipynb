{
 "cells": [
  {
   "cell_type": "markdown",
   "metadata": {},
   "source": [
    "# Random Forest "
   ]
  },
  {
   "cell_type": "code",
   "execution_count": null,
   "metadata": {},
   "outputs": [],
   "source": []
  },
  {
   "cell_type": "markdown",
   "metadata": {},
   "source": [
    "Loading Modules"
   ]
  },
  {
   "cell_type": "code",
   "execution_count": 3,
   "metadata": {},
   "outputs": [
    {
     "name": "stderr",
     "output_type": "stream",
     "text": [
      "/opt/tljh/user/lib/python3.6/site-packages/sklearn/utils/deprecation.py:144: FutureWarning: The sklearn.neighbors.base module is  deprecated in version 0.22 and will be removed in version 0.24. The corresponding classes / functions should instead be imported from sklearn.neighbors. Anything that cannot be imported from sklearn.neighbors is now part of the private API.\n",
      "  warnings.warn(message, FutureWarning)\n",
      "/opt/tljh/user/lib/python3.6/site-packages/sklearn/utils/deprecation.py:144: FutureWarning: The sklearn.ensemble.bagging module is  deprecated in version 0.22 and will be removed in version 0.24. The corresponding classes / functions should instead be imported from sklearn.ensemble. Anything that cannot be imported from sklearn.ensemble is now part of the private API.\n",
      "  warnings.warn(message, FutureWarning)\n",
      "/opt/tljh/user/lib/python3.6/site-packages/sklearn/utils/deprecation.py:144: FutureWarning: The sklearn.ensemble.base module is  deprecated in version 0.22 and will be removed in version 0.24. The corresponding classes / functions should instead be imported from sklearn.ensemble. Anything that cannot be imported from sklearn.ensemble is now part of the private API.\n",
      "  warnings.warn(message, FutureWarning)\n",
      "/opt/tljh/user/lib/python3.6/site-packages/sklearn/utils/deprecation.py:144: FutureWarning: The sklearn.ensemble.forest module is  deprecated in version 0.22 and will be removed in version 0.24. The corresponding classes / functions should instead be imported from sklearn.ensemble. Anything that cannot be imported from sklearn.ensemble is now part of the private API.\n",
      "  warnings.warn(message, FutureWarning)\n",
      "/opt/tljh/user/lib/python3.6/site-packages/sklearn/utils/deprecation.py:144: FutureWarning: The sklearn.utils.testing module is  deprecated in version 0.22 and will be removed in version 0.24. The corresponding classes / functions should instead be imported from sklearn.utils. Anything that cannot be imported from sklearn.utils is now part of the private API.\n",
      "  warnings.warn(message, FutureWarning)\n",
      "/opt/tljh/user/lib/python3.6/site-packages/sklearn/utils/deprecation.py:144: FutureWarning: The sklearn.metrics.classification module is  deprecated in version 0.22 and will be removed in version 0.24. The corresponding classes / functions should instead be imported from sklearn.metrics. Anything that cannot be imported from sklearn.metrics is now part of the private API.\n",
      "  warnings.warn(message, FutureWarning)\n"
     ]
    }
   ],
   "source": [
    "# import modules\n",
    "import pandas as pd\n",
    "import numpy as np\n",
    "\n",
    "#Import scikit-learn dataset library\n",
    "from sklearn import datasets\n",
    "\n",
    "# Import train_test_split function\n",
    "from sklearn.model_selection import train_test_split\n",
    "\n",
    "# import oversampling and undersampling packages\n",
    "from imblearn.over_sampling import SMOTE\n",
    "from imblearn.under_sampling import NearMiss\n",
    "\n",
    "from sklearn import preprocessing\n",
    "from sklearn.datasets import make_classification\n",
    "from sklearn.preprocessing import StandardScaler \n",
    "\n",
    "from sklearn import metrics\n",
    "from sklearn.metrics import confusion_matrix, classification_report \n",
    "\n",
    "# Cross Validation packages\n",
    "from sklearn.model_selection import KFold\n",
    "from sklearn.model_selection import cross_val_score\n",
    "\n",
    "# import required modules for visualization\n",
    "import matplotlib.pyplot as plt\n",
    "import seaborn as sns\n",
    "\n",
    "# import module for gridsearch (to find optimal hyper-parameters)\n",
    "from sklearn.model_selection import GridSearchCV\n",
    "\n",
    "# import module (to test execution time of a codeblock to run)\n",
    "import time\n",
    "\n",
    "import warnings \n",
    "\n",
    "from sklearn.model_selection import StratifiedKFold\n",
    "from sklearn.svm import SVC"
   ]
  },
  {
   "cell_type": "code",
   "execution_count": 4,
   "metadata": {},
   "outputs": [
    {
     "name": "stdout",
     "output_type": "stream",
     "text": [
      "Automatically created module for IPython interactive environment\n"
     ]
    }
   ],
   "source": [
    "# packages for Receiver Operating Characteristic (ROC) with cross validation\n",
    "# source: https://scikit-learn.org/0.18/auto_examples/model_selection/plot_roc_crossval.html\n",
    "print(__doc__)\n",
    "\n",
    "import numpy as np\n",
    "from scipy import interp\n",
    "import matplotlib.pyplot as plt\n",
    "from itertools import cycle\n",
    "\n",
    "from sklearn import svm, datasets\n",
    "from sklearn.metrics import roc_curve, auc\n",
    "from sklearn.model_selection import StratifiedKFold\n",
    "from sklearn.metrics import plot_roc_curve"
   ]
  },
  {
   "cell_type": "markdown",
   "metadata": {},
   "source": [
    "<a id = \"\"> <h2> Target Variable 'Death Rate Categories' </h2> </a>\n",
    "___"
   ]
  },
  {
   "cell_type": "markdown",
   "metadata": {},
   "source": [
    "<b> read csv file to a pandas dataframe"
   ]
  },
  {
   "cell_type": "code",
   "execution_count": 5,
   "metadata": {},
   "outputs": [],
   "source": [
    "#Load dataset\n",
    "# read csv file to a pandas dataframe\n",
    "df_death = pd.read_csv(\"census_covid_cat_final.csv\")"
   ]
  },
  {
   "cell_type": "markdown",
   "metadata": {},
   "source": [
    "<b> show all columns in dataset"
   ]
  },
  {
   "cell_type": "code",
   "execution_count": 6,
   "metadata": {},
   "outputs": [
    {
     "name": "stdout",
     "output_type": "stream",
     "text": [
      "There are 42 features, and the target `Death Rate Categories`:\n"
     ]
    },
    {
     "data": {
      "text/plain": [
       "['Full Name',\n",
       " 'Country Name',\n",
       " 'State',\n",
       " 'State Abbr',\n",
       " ' Total Population ',\n",
       " ' Households SNAP ',\n",
       " ' Estimated Individuals SNAP ',\n",
       " ' Total Citizen Educated in US ',\n",
       " ' Citizen Less than High School  Education ',\n",
       " ' Citizen High School  Graduate ',\n",
       " ' Citizen Some College  Education ',\n",
       " ' Citizen College Degree  ',\n",
       " ' Citizen Graduate or Professional Degree ',\n",
       " ' Total Citizen Income ',\n",
       " ' Citizen No Income ',\n",
       " 'Citizen Income 1-9999',\n",
       " 'Citizen Income 10000-14999',\n",
       " 'Citizen Income 15000-24999',\n",
       " 'Citizen Income 25000-34999',\n",
       " 'Citizen Income 35000-49999',\n",
       " 'Citizen Income 50000-64999',\n",
       " 'Citizen Income 65000-74999',\n",
       " 'Citizen Income over 75000',\n",
       " ' One Race Population ',\n",
       " ' White Race ',\n",
       " ' Black Race ',\n",
       " ' Native American Race ',\n",
       " ' Asian Race ',\n",
       " ' Pacific Islander Race ',\n",
       " ' Other Race Alone ',\n",
       " ' Hispanic or Latino ',\n",
       " 'Median Age',\n",
       " 'Male Median Age',\n",
       " 'Female Median Age',\n",
       " ' Total Households ',\n",
       " ' Average Household Size ',\n",
       " ' Total Families ',\n",
       " 'Total Confirmed Cases',\n",
       " 'Total Deaths',\n",
       " 'Case Rate per 1000',\n",
       " 'Death Rate 1000',\n",
       " 'Case Rate Categories ',\n",
       " 'Death Rate Categories']"
      ]
     },
     "execution_count": 6,
     "metadata": {},
     "output_type": "execute_result"
    }
   ],
   "source": [
    "# show all columns in dataset\n",
    "print('There are', len(df_death.columns)-1, 'features, and the target `Death Rate Categories`:')\n",
    "list(df_death.columns)\n",
    "# we will not include state and county names or state abbr"
   ]
  },
  {
   "cell_type": "code",
   "execution_count": 7,
   "metadata": {},
   "outputs": [],
   "source": [
    "# trim the spaces of the cells from the csv file\n",
    "df_death.columns = df_death.columns.to_series().apply(lambda x: x.strip())"
   ]
  },
  {
   "cell_type": "code",
   "execution_count": 8,
   "metadata": {},
   "outputs": [],
   "source": [
    "# need to change int64 to cat type for target vars\n",
    "df_death['Death Rate Categories'] = df_death['Death Rate Categories'].astype('category')"
   ]
  },
  {
   "cell_type": "markdown",
   "metadata": {},
   "source": [
    "<a id = \"\"> <h2> 1.0 Basic Model Random Forest </h2> </a>"
   ]
  },
  {
   "cell_type": "markdown",
   "metadata": {},
   "source": [
    "> <b> Declare Features and Target"
   ]
  },
  {
   "cell_type": "code",
   "execution_count": 9,
   "metadata": {},
   "outputs": [],
   "source": [
    "# Define Features and Target variables\n",
    "features = ['Total Population','Households SNAP','Estimated Individuals SNAP','Total Citizen Educated in US',\n",
    "                       'Citizen Less than High School  Education','Citizen High School  Graduate',\n",
    "                       'Citizen Some College  Education','Citizen College Degree','Citizen Graduate or Professional Degree',\n",
    "                       'Total Citizen Income','Citizen No Income','Citizen Income 1-9999','Citizen Income 10000-14999',\n",
    "                       'Citizen Income 15000-24999','Citizen Income 25000-34999','Citizen Income 35000-49999',\n",
    "                       'Citizen Income 50000-64999','Citizen Income 65000-74999','Citizen Income over 75000',\n",
    "                       'One Race Population','White Race','Black Race','Native American Race','Asian Race',\n",
    "                       'Pacific Islander Race','Other Race Alone','Hispanic or Latino','Median Age', \n",
    "                        'Male Median Age','Female Median Age','Total Households',\n",
    "                       'Average Household Size','Total Families']\n",
    "\n",
    "X = df_death[features] # from the list above\n",
    "Y = df_death.iloc[:, -1] # Target is the last column in the dataframe: 'Death Rate Categories'"
   ]
  },
  {
   "cell_type": "markdown",
   "metadata": {},
   "source": [
    "> <b> Split the data"
   ]
  },
  {
   "cell_type": "code",
   "execution_count": 10,
   "metadata": {},
   "outputs": [],
   "source": [
    "# Split dataset into training set and test set\n",
    "X_train, X_test, y_train, y_test = train_test_split(X, Y, test_size=0.3, random_state=2019) # 70% training and 30% test"
   ]
  },
  {
   "cell_type": "markdown",
   "metadata": {},
   "source": [
    "> <b> Model Development and Prediction"
   ]
  },
  {
   "cell_type": "code",
   "execution_count": 11,
   "metadata": {},
   "outputs": [
    {
     "name": "stdout",
     "output_type": "stream",
     "text": [
      "              precision    recall  f1-score   support\n",
      "\n",
      "           0       0.69      0.82      0.75       390\n",
      "           1       0.41      0.50      0.45       203\n",
      "           2       0.40      0.35      0.37       228\n",
      "           3       0.28      0.06      0.09        89\n",
      "           4       0.38      0.11      0.17        27\n",
      "           5       0.00      0.00      0.00         5\n",
      "\n",
      "    accuracy                           0.54       942\n",
      "   macro avg       0.36      0.31      0.31       942\n",
      "weighted avg       0.50      0.54      0.51       942\n",
      "\n"
     ]
    },
    {
     "name": "stderr",
     "output_type": "stream",
     "text": [
      "/opt/tljh/user/lib/python3.6/site-packages/sklearn/metrics/_classification.py:1272: UndefinedMetricWarning: Precision and F-score are ill-defined and being set to 0.0 in labels with no predicted samples. Use `zero_division` parameter to control this behavior.\n",
      "  _warn_prf(average, modifier, msg_start, len(result))\n"
     ]
    }
   ],
   "source": [
    "#Import Random Forest Model\n",
    "from sklearn.ensemble import RandomForestClassifier\n",
    "\n",
    "#Create a Random Forest Classifier\n",
    "clf = RandomForestClassifier(random_state=2019)\n",
    "\n",
    "#Train the model using the training sets y_pred=clf.predict(X_test)\n",
    "clf.fit(X_train,y_train)\n",
    "\n",
    "y_pred = clf.predict(X_test)\n",
    "\n",
    "#check the predictive performance using the actual and predicted values\n",
    "from sklearn.metrics import classification_report, confusion_matrix\n",
    "print(classification_report(y_test, y_pred))"
   ]
  },
  {
   "cell_type": "markdown",
   "metadata": {},
   "source": [
    "## After norm data"
   ]
  },
  {
   "cell_type": "code",
   "execution_count": 12,
   "metadata": {},
   "outputs": [],
   "source": [
    "df_death_norm = pd.read_csv(\"final_data.csv\")"
   ]
  },
  {
   "cell_type": "code",
   "execution_count": 13,
   "metadata": {},
   "outputs": [],
   "source": [
    "# trim the spaces of the cells from the csv file\n",
    "df_death_norm.columns = df_death_norm.columns.to_series().apply(lambda x: x.strip())"
   ]
  },
  {
   "cell_type": "code",
   "execution_count": 14,
   "metadata": {},
   "outputs": [],
   "source": [
    "features_norm = ['Total Population_iqr_bc',\n",
    "                        'Total Citizen Educated in US_iqr_bc','Citizen Less than High School  Education_iqr_bc',\n",
    "                        'Citizen High School  Graduate_iqr_bc','Citizen Some College  Education_iqr_bc',\n",
    "                         'Citizen College Degree_iqr_bc','Total Citizen Income_iqr_bc','Citizen No Income_iqr_bc',\n",
    "                          'Citizen Income 1-9999_iqr_bc','Citizen Income 10000-14999_iqr_bc','Citizen Income 15000-24999_iqr_bc',\n",
    "                         'Citizen Income 25000-34999_iqr_bc','Citizen Income 35000-49999_iqr_bc',\n",
    "                        'Citizen Income 50000-64999_iqr_bc','Citizen Income over 75000_iqr_bc',\n",
    "                        'Hispanic or Latino_iqr_bc','Median Age_iqr_bc',\n",
    "                         'Male Median Age_iqr_bc', 'Female Median Age_iqr_bc','Total Households_iqr_bc',\n",
    "                       'Average Household Size_iqr_bc']\n",
    "\n",
    "\n",
    "X = df_death_norm[features_norm] # from the list above\n",
    "Y = df_death_norm['Death Rate Categories'] # Target is the last column in the dataframe: 'Death Rate Categories'"
   ]
  },
  {
   "cell_type": "markdown",
   "metadata": {},
   "source": [
    "> <b> Split the data"
   ]
  },
  {
   "cell_type": "code",
   "execution_count": 15,
   "metadata": {},
   "outputs": [],
   "source": [
    "# Split dataset into training set and test set\n",
    "X_train, X_test, y_train, y_test = train_test_split(X, Y, test_size=0.3, random_state=2019) # 70% training and 30% test"
   ]
  },
  {
   "cell_type": "markdown",
   "metadata": {},
   "source": [
    "> <b> Model Development and Prediction"
   ]
  },
  {
   "cell_type": "code",
   "execution_count": 16,
   "metadata": {},
   "outputs": [
    {
     "name": "stdout",
     "output_type": "stream",
     "text": [
      "              precision    recall  f1-score   support\n",
      "\n",
      "           0       0.67      0.82      0.73       390\n",
      "           1       0.41      0.48      0.44       203\n",
      "           2       0.40      0.35      0.37       228\n",
      "           3       0.00      0.00      0.00        89\n",
      "           4       0.12      0.04      0.06        27\n",
      "           5       0.00      0.00      0.00         5\n",
      "\n",
      "    accuracy                           0.53       942\n",
      "   macro avg       0.27      0.28      0.27       942\n",
      "weighted avg       0.46      0.53      0.49       942\n",
      "\n"
     ]
    }
   ],
   "source": [
    "#Import Random Forest Model\n",
    "from sklearn.ensemble import RandomForestClassifier\n",
    "\n",
    "#Create a Random Forest Classifier\n",
    "clf = RandomForestClassifier(random_state=2019)\n",
    "\n",
    "#Train the model using the training sets y_pred=clf.predict(X_test)\n",
    "clf.fit(X_train,y_train)\n",
    "\n",
    "y_pred = clf.predict(X_test)\n",
    "\n",
    "#check the predictive performance using the actual and predicted values\n",
    "from sklearn.metrics import classification_report, confusion_matrix\n",
    "print(classification_report(y_test, y_pred))"
   ]
  },
  {
   "cell_type": "markdown",
   "metadata": {},
   "source": [
    "<a id = \"\"> <h2> Target Variable 'Case Rate Categories' </h2> </a>\n",
    "___"
   ]
  },
  {
   "cell_type": "code",
   "execution_count": 20,
   "metadata": {},
   "outputs": [],
   "source": [
    "df_cases = pd.read_csv(\"census_covid_cat_final.csv\")"
   ]
  },
  {
   "cell_type": "code",
   "execution_count": 21,
   "metadata": {},
   "outputs": [],
   "source": [
    "# trim the spaces of the cells from the csv file\n",
    "df_cases.columns = df_cases.columns.to_series().apply(lambda x: x.strip())"
   ]
  },
  {
   "cell_type": "code",
   "execution_count": 22,
   "metadata": {},
   "outputs": [],
   "source": [
    "# drop Death Rate Categories -- need Case Rate Categories to be the target variable\n",
    "df_cases = df_cases.iloc[:, :-1]"
   ]
  },
  {
   "cell_type": "code",
   "execution_count": 23,
   "metadata": {},
   "outputs": [],
   "source": [
    "X = df_cases.iloc[:, 4:-7] # Features is all columns in the dataframe except the last 6 columns\n",
    "Y = df_cases.iloc[:, -1] # Target is the last column in the dataframe: 'Case Rate Categories'"
   ]
  },
  {
   "cell_type": "code",
   "execution_count": 24,
   "metadata": {},
   "outputs": [],
   "source": [
    "features_norm = ['Total Population_iqr_bc',\n",
    "                        'Total Citizen Educated in US_iqr_bc','Citizen Less than High School  Education_iqr_bc',\n",
    "                        'Citizen High School  Graduate_iqr_bc','Citizen Some College  Education_iqr_bc',\n",
    "                         'Citizen College Degree_iqr_bc','Total Citizen Income_iqr_bc','Citizen No Income_iqr_bc',\n",
    "                          'Citizen Income 1-9999_iqr_bc','Citizen Income 10000-14999_iqr_bc','Citizen Income 15000-24999_iqr_bc',\n",
    "                         'Citizen Income 25000-34999_iqr_bc','Citizen Income 35000-49999_iqr_bc',\n",
    "                        'Citizen Income 50000-64999_iqr_bc','Citizen Income over 75000_iqr_bc',\n",
    "                        'Hispanic or Latino_iqr_bc','Median Age_iqr_bc',\n",
    "                         'Male Median Age_iqr_bc', 'Female Median Age_iqr_bc','Total Households_iqr_bc',\n",
    "                       'Average Household Size_iqr_bc']\n",
    "\n",
    "\n",
    "X = df_death_norm[features_norm] # from the list above\n",
    "Y = df_death_norm['Death Rate Categories'] # Target is the last column in the dataframe: 'Death Rate Categories'"
   ]
  },
  {
   "cell_type": "markdown",
   "metadata": {},
   "source": [
    "> <b> Split the data"
   ]
  },
  {
   "cell_type": "code",
   "execution_count": 25,
   "metadata": {},
   "outputs": [],
   "source": [
    "# Split dataset into training set and test set\n",
    "X_train, X_test, y_train, y_test = train_test_split(X, Y, test_size=0.3, random_state=2019) # 70% training and 30% test"
   ]
  },
  {
   "cell_type": "markdown",
   "metadata": {},
   "source": [
    "> <b> Model Development and Prediction"
   ]
  },
  {
   "cell_type": "code",
   "execution_count": 26,
   "metadata": {},
   "outputs": [
    {
     "name": "stdout",
     "output_type": "stream",
     "text": [
      "              precision    recall  f1-score   support\n",
      "\n",
      "           0       0.67      0.82      0.73       390\n",
      "           1       0.41      0.48      0.44       203\n",
      "           2       0.40      0.35      0.37       228\n",
      "           3       0.00      0.00      0.00        89\n",
      "           4       0.12      0.04      0.06        27\n",
      "           5       0.00      0.00      0.00         5\n",
      "\n",
      "    accuracy                           0.53       942\n",
      "   macro avg       0.27      0.28      0.27       942\n",
      "weighted avg       0.46      0.53      0.49       942\n",
      "\n"
     ]
    }
   ],
   "source": [
    "#Import Random Forest Model\n",
    "from sklearn.ensemble import RandomForestClassifier\n",
    "\n",
    "#Create a Random Forest Classifier\n",
    "clf = RandomForestClassifier(random_state=2019)\n",
    "\n",
    "#Train the model using the training sets y_pred=clf.predict(X_test)\n",
    "clf.fit(X_train,y_train)\n",
    "\n",
    "y_pred = clf.predict(X_test)\n",
    "\n",
    "#check the predictive performance using the actual and predicted values\n",
    "from sklearn.metrics import classification_report, confusion_matrix\n",
    "print(classification_report(y_test, y_pred))"
   ]
  },
  {
   "cell_type": "code",
   "execution_count": null,
   "metadata": {},
   "outputs": [],
   "source": []
  },
  {
   "cell_type": "code",
   "execution_count": null,
   "metadata": {},
   "outputs": [],
   "source": []
  }
 ],
 "metadata": {
  "kernelspec": {
   "display_name": "Python 3",
   "language": "python",
   "name": "python3"
  },
  "language_info": {
   "codemirror_mode": {
    "name": "ipython",
    "version": 3
   },
   "file_extension": ".py",
   "mimetype": "text/x-python",
   "name": "python",
   "nbconvert_exporter": "python",
   "pygments_lexer": "ipython3",
   "version": "3.6.7"
  }
 },
 "nbformat": 4,
 "nbformat_minor": 4
}
