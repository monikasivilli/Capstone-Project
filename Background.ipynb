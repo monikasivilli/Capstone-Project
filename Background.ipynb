{
 "cells": [
  {
   "cell_type": "markdown",
   "metadata": {},
   "source": [
    "# Exploring the Disproportionate Impacts of the Coronavirus Across Socioeconomic Groups\n",
    "___"
   ]
  },
  {
   "cell_type": "markdown",
   "metadata": {},
   "source": [
    "__Background__"
   ]
  },
  {
   "cell_type": "markdown",
   "metadata": {},
   "source": [
    "In January, when the novel coronavirus, also known as COVID-19, hit the United States, socioeconomic inequalities were exacerbated. Government mandates were put in place that catered to the majority and left populations unable to social distance or work from home in a vulnerable position. These Americans are dying at higher rates and struggling to find access to healthcare. Testing is behind in the entire U.S., however, even further in zip codes of low income (Coronavirus News: U.S. Poor Hit By Virus Impact – Bloomberg, 2020). People with higher education degrees are more likely to be able to work from home (American Time Use Survey Summary, 2019). When asked by the American Community Census 40% of Americans said they cannot cover a $400 emergency expense; and many of that 40% being families with a small safety net living pay check to pay check (American Community Census, Bahney). \n",
    "\n",
    "Low socioeconomic populations already face countless problems and, unfortunately, adding the severity of today’s pandemic is only intensifying those problems. If we ever want to see change in our society it is important to bring attention to the problems of inequality, we are facing today. Mayor Bill de Blasio even tweeted, __“It’s can’t be said enough: COVID-19 has forced us to confront some deadly disparities and we must address them ALL.”__ The motivation behind this project is to address these disparities through an educational platform. This project will explore visualizations showing the economic profiles of communities at the highest risk for COVID-19. \n",
    "\n",
    "The purpose of this project is to explore how COVID-19 has affected communities of different socioeconomic status. "
   ]
  },
  {
   "cell_type": "markdown",
   "metadata": {},
   "source": [
    "_Data Dictionary_"
   ]
  },
  {
   "cell_type": "markdown",
   "metadata": {},
   "source": [
    "| Variable                                   | Variable Description                                                                |\n",
    "|--------------------------------------------|-------------------------------------------------------------------------------------|\n",
    "| NAME                                       | State and County name                                                               |\n",
    "| Covid Confirmed Cases                      | The total number of confirmed COVID-19 cases per county from January 22 to June 9  |\n",
    "| Covid Deaths                               | The total number of confirmed COVID-19 deaths per county from January 22 to June 9 |\n",
    "| Population                                 | The total population per county per state                                           |\n",
    "| Covid Case Rate (per 1000)                 | The confirmed COVID-19 case rate per 1,000 people in each county                    |\n",
    "| Covid Death Rate (per 1000)                | The confirmed COVID-19 death rate per 1,000 people in each county                   |\n",
    "|  Households SNAP                           | The total number of households on government aid (food stamps)                      |\n",
    "|  Estimated Individuals SNAP                | The estimated amount of individuals receiving government aid                        |\n",
    "|  Total Citizen Educated in US              | Total number of citizens educated in the US per county                              |\n",
    "|  Citizen Less than High School  Education  | Total number of citizens with less than a high school degree in the US per county   |\n",
    "|  Citizen High School  Graduate             | Total number of citizens with a high school degree in the US per county             |\n",
    "|  Citizen Some College  Education           | Total number of citizens with some college education in the US per county           |\n",
    "|  Citizen College Degree                    | Total number of citizens with a college degree in the US per county                 |\n",
    "|  Citizen Graduate or Professional Degree   | Total number of citizens with a graduate or professional degree in the US per county |\n",
    "|  Total Citizen Income                      | The total income of all citizens in the county                                      |\n",
    "|  Citizen No Income                         | The total number of citizens with no income                                         |\n",
    "| Citizen Income $1-$9,999                   | The total number of citizens with income between $1 - $9,999                        |\n",
    "| Citizen Income $10,000-$14,999             | The total number of citizens with income between $10,000 - $14,999                  |\n",
    "| Citizen Income $15,000-$24,999             | The total number of citizens with income between $15,000 - $24,999                  |\n",
    "| Citizen Income $25,000-$34,999             | The total number of citizens with income between $25,000 - $34,999                  |\n",
    "| Citizen Income $35,000-$49,999             | The total number of citizens with income between $35,000 - $49,999                  |\n",
    "| Citizen Income $50,000-$64,999             | The total number of citizens with income between $50,000 - $64,999                  |\n",
    "| Citizen Income $65,000-$74,999             | The total number of citizens with income between $65,000 - $74,999                  |\n",
    "| Citizen Income $75,000 +                   | The total number of citizens with income $75,000+                             |\n",
    "|  One Race Population                       | The total population that is only one race                                          |\n",
    "|  White Race                                | The total population that is White                                                  |\n",
    "|  Black Race                                | The total population that is Black                                                  |\n",
    "|  Native American Race                      | The total population that is Native American                                        |\n",
    "|  Asian Race                                | The total population that is Asian                                                  |\n",
    "|  Pacific Islander Race                     | The total population that is Pacific Islander                                       |\n",
    "|  Hispanic or Latino                        | The total population that is Hispanic or Latino                                     |\n",
    "| Median Age                                 | The median age of the county                                                        |\n",
    "| Male Median Age                            | The median male age of the county                                                   |\n",
    "| Female Median Age                          | The median female age of the county                                                 |\n",
    "|  Total Households                          | The total number of households in the county                                        |\n",
    "|  Average Household Size                    | The average size of a household in the county                                       |\n",
    "|  Total Families                            | The total number of families in the county                                           |"
   ]
  },
  {
   "cell_type": "code",
   "execution_count": null,
   "metadata": {},
   "outputs": [],
   "source": []
  }
 ],
 "metadata": {
  "kernelspec": {
   "display_name": "Python 3",
   "language": "python",
   "name": "python3"
  },
  "language_info": {
   "codemirror_mode": {
    "name": "ipython",
    "version": 3
   },
   "file_extension": ".py",
   "mimetype": "text/x-python",
   "name": "python",
   "nbconvert_exporter": "python",
   "pygments_lexer": "ipython3",
   "version": "3.6.7"
  }
 },
 "nbformat": 4,
 "nbformat_minor": 4
}
