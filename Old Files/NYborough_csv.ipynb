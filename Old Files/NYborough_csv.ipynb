{
 "cells": [
  {
   "cell_type": "markdown",
   "metadata": {},
   "source": [
    "# New York Borough COVID-19 and Census Data\n",
    "___"
   ]
  },
  {
   "cell_type": "markdown",
   "metadata": {},
   "source": [
    "New York is the epicenter of the American coronavirus pandedemic. However, the state of NY has had varying amounts of cases. The true epicenter within NY has been New York City, specificially the five major boroughs, New York, Bronx, Brooklyn (also known as Kings County), Manhattan (New York County), Queens, Staten Island (also known as Richmond County). \n",
    "\n",
    "This data set is a combination of census data and COVID-19 tracking data. The census data is complied of population, population per square mile, and demogrpahic breakdown. The COVID-19 Tracking informaiton includes confirmed cases, hospitilization, and deaths in total counts and rates. As mentioned earlier this dataset includes the five boroughs individually and in total. This data was last updated on July 1, 2019."
   ]
  },
  {
   "cell_type": "markdown",
   "metadata": {},
   "source": [
    "<b> Import modules </b>"
   ]
  },
  {
   "cell_type": "code",
   "execution_count": 1,
   "metadata": {},
   "outputs": [],
   "source": [
    "import pandas as pd\n",
    "import matplotlib.pyplot as plt\n",
    "import seaborn as sns\n",
    "from scipy import stats\n",
    "from scipy.stats import norm\n",
    "import numpy as np"
   ]
  },
  {
   "cell_type": "markdown",
   "metadata": {},
   "source": [
    "<b> Read csv file to a pandas dataframe </b>"
   ]
  },
  {
   "cell_type": "code",
   "execution_count": 2,
   "metadata": {},
   "outputs": [
    {
     "data": {
      "text/html": [
       "<div>\n",
       "<style scoped>\n",
       "    .dataframe tbody tr th:only-of-type {\n",
       "        vertical-align: middle;\n",
       "    }\n",
       "\n",
       "    .dataframe tbody tr th {\n",
       "        vertical-align: top;\n",
       "    }\n",
       "\n",
       "    .dataframe thead th {\n",
       "        text-align: right;\n",
       "    }\n",
       "</style>\n",
       "<table border=\"1\" class=\"dataframe\">\n",
       "  <thead>\n",
       "    <tr style=\"text-align: right;\">\n",
       "      <th></th>\n",
       "      <th>Borough</th>\n",
       "      <th>Population estimates, July 1, 2019,  (V2019)</th>\n",
       "      <th>Population estimates base, April 1, 2010,  (V2019)</th>\n",
       "      <th>Population, percent change - April 1, 2010 (estimates base) to July 1, 2019,  (V2019)</th>\n",
       "      <th>Population, Census, April 1, 2010</th>\n",
       "      <th>Persons under 5 years, percent</th>\n",
       "      <th>Persons under 18 years, percent</th>\n",
       "      <th>Persons 65 years and over, percent</th>\n",
       "      <th>Female persons, percent</th>\n",
       "      <th>White alone, percent</th>\n",
       "      <th>...</th>\n",
       "      <th>Veteran-owned firms, 2012</th>\n",
       "      <th>Nonveteran-owned firms, 2012</th>\n",
       "      <th>Population per square mile, 2010</th>\n",
       "      <th>Land area in square miles, 2010</th>\n",
       "      <th>Case Rate</th>\n",
       "      <th>Hospitilization Rate</th>\n",
       "      <th>Death Rate</th>\n",
       "      <th>Case Count</th>\n",
       "      <th>Hospitalized Count</th>\n",
       "      <th>Death Count</th>\n",
       "    </tr>\n",
       "  </thead>\n",
       "  <tbody>\n",
       "    <tr>\n",
       "      <th>0</th>\n",
       "      <td>New York city, New York</td>\n",
       "      <td>8,336,817</td>\n",
       "      <td>8,175,031</td>\n",
       "      <td>2.00%</td>\n",
       "      <td>8,175,133</td>\n",
       "      <td>6.50%</td>\n",
       "      <td>20.90%</td>\n",
       "      <td>14.10%</td>\n",
       "      <td>52.30%</td>\n",
       "      <td>42.70%</td>\n",
       "      <td>...</td>\n",
       "      <td>57,216</td>\n",
       "      <td>966,167</td>\n",
       "      <td>27,012.50</td>\n",
       "      <td>302.64</td>\n",
       "      <td>2387.82</td>\n",
       "      <td>621.69</td>\n",
       "      <td>200.60</td>\n",
       "      <td>200547</td>\n",
       "      <td>52214</td>\n",
       "      <td>16848</td>\n",
       "    </tr>\n",
       "    <tr>\n",
       "      <th>1</th>\n",
       "      <td>Bronx County (Bronx Borough), New York</td>\n",
       "      <td>1,418,207</td>\n",
       "      <td>1,384,580</td>\n",
       "      <td>2.40%</td>\n",
       "      <td>1,385,108</td>\n",
       "      <td>7.20%</td>\n",
       "      <td>24.80%</td>\n",
       "      <td>12.80%</td>\n",
       "      <td>52.90%</td>\n",
       "      <td>44.90%</td>\n",
       "      <td>...</td>\n",
       "      <td>7,987</td>\n",
       "      <td>125,616</td>\n",
       "      <td>32,903.60</td>\n",
       "      <td>42.10</td>\n",
       "      <td>3167.31</td>\n",
       "      <td>819.62</td>\n",
       "      <td>248.58</td>\n",
       "      <td>45360</td>\n",
       "      <td>11738</td>\n",
       "      <td>3560</td>\n",
       "    </tr>\n",
       "    <tr>\n",
       "      <th>2</th>\n",
       "      <td>Kings County (Brooklyn Borough), New York</td>\n",
       "      <td>2,559,903</td>\n",
       "      <td>2,504,721</td>\n",
       "      <td>2.20%</td>\n",
       "      <td>2,504,700</td>\n",
       "      <td>7.20%</td>\n",
       "      <td>22.80%</td>\n",
       "      <td>13.90%</td>\n",
       "      <td>52.60%</td>\n",
       "      <td>49.50%</td>\n",
       "      <td>...</td>\n",
       "      <td>16,236</td>\n",
       "      <td>275,506</td>\n",
       "      <td>35,369.10</td>\n",
       "      <td>70.82</td>\n",
       "      <td>2141.29</td>\n",
       "      <td>548.35</td>\n",
       "      <td>198.19</td>\n",
       "      <td>55306</td>\n",
       "      <td>14163</td>\n",
       "      <td>5119</td>\n",
       "    </tr>\n",
       "    <tr>\n",
       "      <th>3</th>\n",
       "      <td>New York County (Manhattan Borough), New York</td>\n",
       "      <td>1,628,706</td>\n",
       "      <td>1,586,381</td>\n",
       "      <td>2.70%</td>\n",
       "      <td>1,585,873</td>\n",
       "      <td>4.70%</td>\n",
       "      <td>14.30%</td>\n",
       "      <td>16.50%</td>\n",
       "      <td>52.70%</td>\n",
       "      <td>64.50%</td>\n",
       "      <td>...</td>\n",
       "      <td>18,120</td>\n",
       "      <td>280,398</td>\n",
       "      <td>69,467.50</td>\n",
       "      <td>22.83</td>\n",
       "      <td>1538.40</td>\n",
       "      <td>470.56</td>\n",
       "      <td>140.79</td>\n",
       "      <td>25056</td>\n",
       "      <td>7664</td>\n",
       "      <td>2293</td>\n",
       "    </tr>\n",
       "    <tr>\n",
       "      <th>4</th>\n",
       "      <td>Queens County (Queens Borough), New York</td>\n",
       "      <td>2,253,858</td>\n",
       "      <td>2,230,619</td>\n",
       "      <td>1.00%</td>\n",
       "      <td>2,230,722</td>\n",
       "      <td>6.20%</td>\n",
       "      <td>20.10%</td>\n",
       "      <td>15.70%</td>\n",
       "      <td>51.50%</td>\n",
       "      <td>47.90%</td>\n",
       "      <td>...</td>\n",
       "      <td>12,513</td>\n",
       "      <td>249,046</td>\n",
       "      <td>20,553.60</td>\n",
       "      <td>108.53</td>\n",
       "      <td>2690.15</td>\n",
       "      <td>717.63</td>\n",
       "      <td>221.25</td>\n",
       "      <td>61306</td>\n",
       "      <td>16354</td>\n",
       "      <td>5042</td>\n",
       "    </tr>\n",
       "    <tr>\n",
       "      <th>5</th>\n",
       "      <td>Richmond County (Staten Island Borough), New York</td>\n",
       "      <td>476,143</td>\n",
       "      <td>468,730</td>\n",
       "      <td>1.60%</td>\n",
       "      <td>468,730</td>\n",
       "      <td>5.80%</td>\n",
       "      <td>21.80%</td>\n",
       "      <td>16.20%</td>\n",
       "      <td>51.50%</td>\n",
       "      <td>75.20%</td>\n",
       "      <td>...</td>\n",
       "      <td>2,407</td>\n",
       "      <td>36,335</td>\n",
       "      <td>8,030.30</td>\n",
       "      <td>58.37</td>\n",
       "      <td>2817.64</td>\n",
       "      <td>476.08</td>\n",
       "      <td>172.41</td>\n",
       "      <td>13417</td>\n",
       "      <td>2267</td>\n",
       "      <td>821</td>\n",
       "    </tr>\n",
       "  </tbody>\n",
       "</table>\n",
       "<p>6 rows × 68 columns</p>\n",
       "</div>"
      ],
      "text/plain": [
       "                                             Borough  \\\n",
       "0                            New York city, New York   \n",
       "1             Bronx County (Bronx Borough), New York   \n",
       "2          Kings County (Brooklyn Borough), New York   \n",
       "3      New York County (Manhattan Borough), New York   \n",
       "4           Queens County (Queens Borough), New York   \n",
       "5  Richmond County (Staten Island Borough), New York   \n",
       "\n",
       "  Population estimates, July 1, 2019,  (V2019)  \\\n",
       "0                                    8,336,817   \n",
       "1                                    1,418,207   \n",
       "2                                    2,559,903   \n",
       "3                                    1,628,706   \n",
       "4                                    2,253,858   \n",
       "5                                      476,143   \n",
       "\n",
       "  Population estimates base, April 1, 2010,  (V2019)  \\\n",
       "0                                          8,175,031   \n",
       "1                                          1,384,580   \n",
       "2                                          2,504,721   \n",
       "3                                          1,586,381   \n",
       "4                                          2,230,619   \n",
       "5                                            468,730   \n",
       "\n",
       "  Population, percent change - April 1, 2010 (estimates base) to July 1, 2019,  (V2019)  \\\n",
       "0                                              2.00%                                      \n",
       "1                                              2.40%                                      \n",
       "2                                              2.20%                                      \n",
       "3                                              2.70%                                      \n",
       "4                                              1.00%                                      \n",
       "5                                              1.60%                                      \n",
       "\n",
       "  Population, Census, April 1, 2010 Persons under 5 years, percent  \\\n",
       "0                         8,175,133                          6.50%   \n",
       "1                         1,385,108                          7.20%   \n",
       "2                         2,504,700                          7.20%   \n",
       "3                         1,585,873                          4.70%   \n",
       "4                         2,230,722                          6.20%   \n",
       "5                           468,730                          5.80%   \n",
       "\n",
       "  Persons under 18 years, percent Persons 65 years and over, percent  \\\n",
       "0                          20.90%                             14.10%   \n",
       "1                          24.80%                             12.80%   \n",
       "2                          22.80%                             13.90%   \n",
       "3                          14.30%                             16.50%   \n",
       "4                          20.10%                             15.70%   \n",
       "5                          21.80%                             16.20%   \n",
       "\n",
       "  Female persons, percent White alone, percent  ... Veteran-owned firms, 2012  \\\n",
       "0                  52.30%               42.70%  ...                    57,216   \n",
       "1                  52.90%               44.90%  ...                     7,987   \n",
       "2                  52.60%               49.50%  ...                    16,236   \n",
       "3                  52.70%               64.50%  ...                    18,120   \n",
       "4                  51.50%               47.90%  ...                    12,513   \n",
       "5                  51.50%               75.20%  ...                     2,407   \n",
       "\n",
       "  Nonveteran-owned firms, 2012 Population per square mile, 2010  \\\n",
       "0                      966,167                        27,012.50   \n",
       "1                      125,616                        32,903.60   \n",
       "2                      275,506                        35,369.10   \n",
       "3                      280,398                        69,467.50   \n",
       "4                      249,046                        20,553.60   \n",
       "5                       36,335                         8,030.30   \n",
       "\n",
       "  Land area in square miles, 2010 Case Rate Hospitilization Rate Death Rate  \\\n",
       "0                          302.64   2387.82               621.69     200.60   \n",
       "1                           42.10   3167.31               819.62     248.58   \n",
       "2                           70.82   2141.29               548.35     198.19   \n",
       "3                           22.83   1538.40               470.56     140.79   \n",
       "4                          108.53   2690.15               717.63     221.25   \n",
       "5                           58.37   2817.64               476.08     172.41   \n",
       "\n",
       "  Case Count Hospitalized Count Death Count  \n",
       "0     200547              52214       16848  \n",
       "1      45360              11738        3560  \n",
       "2      55306              14163        5119  \n",
       "3      25056               7664        2293  \n",
       "4      61306              16354        5042  \n",
       "5      13417               2267         821  \n",
       "\n",
       "[6 rows x 68 columns]"
      ]
     },
     "execution_count": 2,
     "metadata": {},
     "output_type": "execute_result"
    }
   ],
   "source": [
    "df = pd.read_csv(\"borough_COVID_python.csv\")\n",
    "df"
   ]
  },
  {
   "cell_type": "markdown",
   "metadata": {},
   "source": [
    "<b> Number of rows, number of columns in dataset </b>"
   ]
  },
  {
   "cell_type": "code",
   "execution_count": 3,
   "metadata": {},
   "outputs": [
    {
     "name": "stdout",
     "output_type": "stream",
     "text": [
      "There are # number of rows in the dataset    : 6\n",
      "There are # number of columns in the dataset : 68\n"
     ]
    }
   ],
   "source": [
    "print('There are # number of rows in the dataset    :', df.shape[0])\n",
    "print('There are # number of columns in the dataset :', df.shape[1])"
   ]
  },
  {
   "cell_type": "code",
   "execution_count": 4,
   "metadata": {},
   "outputs": [],
   "source": [
    "#df.info()"
   ]
  },
  {
   "cell_type": "code",
   "execution_count": 5,
   "metadata": {},
   "outputs": [
    {
     "data": {
      "text/plain": [
       "array([[<matplotlib.axes._subplots.AxesSubplot object at 0x7fb3f1ef5f98>,\n",
       "        <matplotlib.axes._subplots.AxesSubplot object at 0x7fb3efe55080>,\n",
       "        <matplotlib.axes._subplots.AxesSubplot object at 0x7fb3efe7c6d8>],\n",
       "       [<matplotlib.axes._subplots.AxesSubplot object at 0x7fb3efe27d68>,\n",
       "        <matplotlib.axes._subplots.AxesSubplot object at 0x7fb3efdd8438>,\n",
       "        <matplotlib.axes._subplots.AxesSubplot object at 0x7fb3efdd8470>],\n",
       "       [<matplotlib.axes._subplots.AxesSubplot object at 0x7fb3efdad198>,\n",
       "        <matplotlib.axes._subplots.AxesSubplot object at 0x7fb3efd55828>,\n",
       "        <matplotlib.axes._subplots.AxesSubplot object at 0x7fb3efd7feb8>]],\n",
       "      dtype=object)"
      ]
     },
     "execution_count": 5,
     "metadata": {},
     "output_type": "execute_result"
    },
    {
     "data": {
      "image/png": "[encoded data removed]",
      "text/plain": [
       "<Figure size 1080x1440 with 9 Axes>"
      ]
     },
     "metadata": {
      "needs_background": "light"
     },
     "output_type": "display_data"
    }
   ],
   "source": [
    "df.hist(figsize = (15,20))"
   ]
  },
  {
   "cell_type": "code",
   "execution_count": null,
   "metadata": {},
   "outputs": [],
   "source": [
    "# ID descriptions \n",
    "    # 0 New York City, New York\n",
    "    # 1 Bronx County\n",
    "    # 2 Kings County, Brookyln \n",
    "    # 3 Manhattan\n",
    "    # 4 Queens County\n",
    "    # 5 Richmond County, State Island"
   ]
  },
  {
   "cell_type": "code",
   "execution_count": 40,
   "metadata": {},
   "outputs": [
    {
     "data": {
      "text/plain": [
       "0    2387.82\n",
       "1    3167.31\n",
       "2    2141.29\n",
       "3    1538.40\n",
       "4    2690.15\n",
       "5    2817.64\n",
       "Name: Case Rate, dtype: float64"
      ]
     },
     "execution_count": 40,
     "metadata": {},
     "output_type": "execute_result"
    }
   ],
   "source": [
    "df['Case Rate']"
   ]
  },
  {
   "cell_type": "markdown",
   "metadata": {},
   "source": [
    "## 1. Barcharts"
   ]
  },
  {
   "cell_type": "markdown",
   "metadata": {},
   "source": [
    "_Bar charts for the Case Rate, Death Rate, and Hospitilization Rate for all of NYC and the 5 boroughs._"
   ]
  },
  {
   "cell_type": "code",
   "execution_count": 6,
   "metadata": {},
   "outputs": [
    {
     "data": {
      "text/plain": [
       "<matplotlib.axes._subplots.AxesSubplot at 0x7fb3ef5dd978>"
      ]
     },
     "execution_count": 6,
     "metadata": {},
     "output_type": "execute_result"
    },
    {
     "data": {
      "image/png": "[encoded data removed]",
      "text/plain": [
       "<Figure size 432x288 with 1 Axes>"
      ]
     },
     "metadata": {
      "needs_background": "light"
     },
     "output_type": "display_data"
    }
   ],
   "source": [
    "df['Case Rate'].plot(kind='barh')"
   ]
  },
  {
   "cell_type": "code",
   "execution_count": 7,
   "metadata": {},
   "outputs": [
    {
     "data": {
      "text/plain": [
       "<matplotlib.axes._subplots.AxesSubplot at 0x7fb3efbd6eb8>"
      ]
     },
     "execution_count": 7,
     "metadata": {},
     "output_type": "execute_result"
    },
    {
     "data": {
      "image/png": "[encoded data removed]",
      "text/plain": [
       "<Figure size 432x288 with 1 Axes>"
      ]
     },
     "metadata": {
      "needs_background": "light"
     },
     "output_type": "display_data"
    }
   ],
   "source": [
    "df['Hospitilization Rate'].plot(kind='barh')"
   ]
  },
  {
   "cell_type": "code",
   "execution_count": 8,
   "metadata": {},
   "outputs": [
    {
     "data": {
      "text/plain": [
       "<matplotlib.axes._subplots.AxesSubplot at 0x7fb3efb4e828>"
      ]
     },
     "execution_count": 8,
     "metadata": {},
     "output_type": "execute_result"
    },
    {
     "data": {
      "image/png": "[encoded data removed]",
      "text/plain": [
       "<Figure size 432x288 with 1 Axes>"
      ]
     },
     "metadata": {
      "needs_background": "light"
     },
     "output_type": "display_data"
    }
   ],
   "source": [
    "df['Death Rate'].plot(kind='barh')"
   ]
  },
  {
   "cell_type": "code",
   "execution_count": null,
   "metadata": {},
   "outputs": [],
   "source": []
  }
 ],
 "metadata": {
  "kernelspec": {
   "display_name": "Python 3",
   "language": "python",
   "name": "python3"
  },
  "language_info": {
   "codemirror_mode": {
    "name": "ipython",
    "version": 3
   },
   "file_extension": ".py",
   "mimetype": "text/x-python",
   "name": "python",
   "nbconvert_exporter": "python",
   "pygments_lexer": "ipython3",
   "version": "3.6.7"
  }
 },
 "nbformat": 4,
 "nbformat_minor": 4
}
