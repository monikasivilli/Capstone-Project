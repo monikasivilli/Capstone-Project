{
 "cells": [
  {
   "cell_type": "markdown",
   "metadata": {},
   "source": [
    "# Descriptives\n",
    "___"
   ]
  },
  {
   "cell_type": "markdown",
   "metadata": {},
   "source": [
    "<b> import modules </b>"
   ]
  },
  {
   "cell_type": "code",
   "execution_count": 1,
   "metadata": {},
   "outputs": [],
   "source": [
    "import pandas as pd\n",
    "import matplotlib.pyplot as plt\n",
    "import seaborn as sns\n",
    "from scipy import stats\n",
    "from scipy.stats import norm\n",
    "import numpy as np\n",
    "import csv"
   ]
  },
  {
   "cell_type": "markdown",
   "metadata": {},
   "source": [
    "<b> left align all markdown tables </b>"
   ]
  },
  {
   "cell_type": "code",
   "execution_count": 2,
   "metadata": {},
   "outputs": [
    {
     "data": {
      "text/html": [
       "<style>\n",
       "    table {\n",
       "        display: inline-block\n",
       "    }\n",
       "</style>\n"
      ],
      "text/plain": [
       "<IPython.core.display.HTML object>"
      ]
     },
     "metadata": {},
     "output_type": "display_data"
    }
   ],
   "source": [
    "%%html\n",
    "<style>\n",
    "    table {\n",
    "        display: inline-block\n",
    "    }\n",
    "</style>"
   ]
  },
  {
   "cell_type": "markdown",
   "metadata": {},
   "source": [
    "<b> read csv file to a pandas dataframe </b>"
   ]
  },
  {
   "cell_type": "code",
   "execution_count": 4,
   "metadata": {},
   "outputs": [
    {
     "data": {
      "text/html": [
       "<div>\n",
       "<style scoped>\n",
       "    .dataframe tbody tr th:only-of-type {\n",
       "        vertical-align: middle;\n",
       "    }\n",
       "\n",
       "    .dataframe tbody tr th {\n",
       "        vertical-align: top;\n",
       "    }\n",
       "\n",
       "    .dataframe thead th {\n",
       "        text-align: right;\n",
       "    }\n",
       "</style>\n",
       "<table border=\"1\" class=\"dataframe\">\n",
       "  <thead>\n",
       "    <tr style=\"text-align: right;\">\n",
       "      <th></th>\n",
       "      <th>NAME</th>\n",
       "      <th>Covid Confirmed Cases</th>\n",
       "      <th>Covid Deaths</th>\n",
       "      <th>Population</th>\n",
       "      <th>Covid Case Rate (per 1000)</th>\n",
       "      <th>Covid Death Rate (per 1000)</th>\n",
       "      <th>Households SNAP</th>\n",
       "      <th>Estimated Individuals SNAP</th>\n",
       "      <th>SNAP % Population</th>\n",
       "      <th>SNAP Per Capita Benefit or TAM</th>\n",
       "      <th>...</th>\n",
       "      <th>Other Race Alone</th>\n",
       "      <th>Hispanic or Latino</th>\n",
       "      <th>Median Age</th>\n",
       "      <th>Male Median Age</th>\n",
       "      <th>Female Median Age</th>\n",
       "      <th>Total Households</th>\n",
       "      <th>Average Household Size</th>\n",
       "      <th>Total Families</th>\n",
       "      <th>state code</th>\n",
       "      <th>county code</th>\n",
       "    </tr>\n",
       "  </thead>\n",
       "  <tbody>\n",
       "    <tr>\n",
       "      <th>0</th>\n",
       "      <td>Albany County, New York</td>\n",
       "      <td>87943</td>\n",
       "      <td>3989</td>\n",
       "      <td>304204</td>\n",
       "      <td>289.092188</td>\n",
       "      <td>13.112911</td>\n",
       "      <td>15,087</td>\n",
       "      <td>34,247</td>\n",
       "      <td>11%</td>\n",
       "      <td>$51,473,977.00</td>\n",
       "      <td>...</td>\n",
       "      <td>7,647</td>\n",
       "      <td>289,287</td>\n",
       "      <td>38.5</td>\n",
       "      <td>36.8</td>\n",
       "      <td>40.0</td>\n",
       "      <td>126,251</td>\n",
       "      <td>2</td>\n",
       "      <td>60,631</td>\n",
       "      <td>36</td>\n",
       "      <td>1</td>\n",
       "    </tr>\n",
       "    <tr>\n",
       "      <th>1</th>\n",
       "      <td>Allegany County, New York</td>\n",
       "      <td>2601</td>\n",
       "      <td>126</td>\n",
       "      <td>48946</td>\n",
       "      <td>53.140195</td>\n",
       "      <td>2.574266</td>\n",
       "      <td>2,994</td>\n",
       "      <td>7,305</td>\n",
       "      <td>15%</td>\n",
       "      <td>$10,979,956.00</td>\n",
       "      <td>...</td>\n",
       "      <td>557</td>\n",
       "      <td>48,276</td>\n",
       "      <td>37.8</td>\n",
       "      <td>36.2</td>\n",
       "      <td>39.2</td>\n",
       "      <td>18,208</td>\n",
       "      <td>2</td>\n",
       "      <td>10,576</td>\n",
       "      <td>36</td>\n",
       "      <td>3</td>\n",
       "    </tr>\n",
       "    <tr>\n",
       "      <th>2</th>\n",
       "      <td>Bronx County, New York</td>\n",
       "      <td>2544478</td>\n",
       "      <td>234021</td>\n",
       "      <td>1385108</td>\n",
       "      <td>1837.024983</td>\n",
       "      <td>168.955056</td>\n",
       "      <td>184,934</td>\n",
       "      <td>512,267</td>\n",
       "      <td>37%</td>\n",
       "      <td>$769,937,572.00</td>\n",
       "      <td>...</td>\n",
       "      <td>73,243</td>\n",
       "      <td>643,695</td>\n",
       "      <td>32.8</td>\n",
       "      <td>30.6</td>\n",
       "      <td>34.9</td>\n",
       "      <td>483,449</td>\n",
       "      <td>3</td>\n",
       "      <td>368,196</td>\n",
       "      <td>36</td>\n",
       "      <td>5</td>\n",
       "    </tr>\n",
       "    <tr>\n",
       "      <th>3</th>\n",
       "      <td>Broome County, New York</td>\n",
       "      <td>24218</td>\n",
       "      <td>1802</td>\n",
       "      <td>200600</td>\n",
       "      <td>120.727817</td>\n",
       "      <td>8.983051</td>\n",
       "      <td>13,226</td>\n",
       "      <td>30,684</td>\n",
       "      <td>15%</td>\n",
       "      <td>$46,118,533.00</td>\n",
       "      <td>...</td>\n",
       "      <td>5,087</td>\n",
       "      <td>193,822</td>\n",
       "      <td>40.2</td>\n",
       "      <td>38.1</td>\n",
       "      <td>42.2</td>\n",
       "      <td>82,167</td>\n",
       "      <td>2</td>\n",
       "      <td>40,559</td>\n",
       "      <td>36</td>\n",
       "      <td>7</td>\n",
       "    </tr>\n",
       "    <tr>\n",
       "      <th>4</th>\n",
       "      <td>Cattaraugus County, New York</td>\n",
       "      <td>3875</td>\n",
       "      <td>128</td>\n",
       "      <td>80317</td>\n",
       "      <td>48.246324</td>\n",
       "      <td>1.593685</td>\n",
       "      <td>5,801</td>\n",
       "      <td>13,980</td>\n",
       "      <td>17%</td>\n",
       "      <td>$21,012,556.00</td>\n",
       "      <td>...</td>\n",
       "      <td>1,363</td>\n",
       "      <td>78,972</td>\n",
       "      <td>40.7</td>\n",
       "      <td>39.8</td>\n",
       "      <td>41.6</td>\n",
       "      <td>32,263</td>\n",
       "      <td>2</td>\n",
       "      <td>18,801</td>\n",
       "      <td>36</td>\n",
       "      <td>9</td>\n",
       "    </tr>\n",
       "  </tbody>\n",
       "</table>\n",
       "<p>5 rows × 43 columns</p>\n",
       "</div>"
      ],
      "text/plain": [
       "                           NAME  Covid Confirmed Cases  Covid Deaths   \\\n",
       "0       Albany County, New York                  87943           3989   \n",
       "1     Allegany County, New York                   2601            126   \n",
       "2        Bronx County, New York                2544478         234021   \n",
       "3       Broome County, New York                  24218           1802   \n",
       "4  Cattaraugus County, New York                   3875            128   \n",
       "\n",
       "   Population  Covid Case Rate (per 1000)  Covid Death Rate (per 1000)  \\\n",
       "0      304204                  289.092188                    13.112911   \n",
       "1       48946                   53.140195                     2.574266   \n",
       "2     1385108                 1837.024983                   168.955056   \n",
       "3      200600                  120.727817                     8.983051   \n",
       "4       80317                   48.246324                     1.593685   \n",
       "\n",
       "   Households SNAP   Estimated Individuals SNAP   SNAP % Population   \\\n",
       "0            15,087                       34,247                 11%   \n",
       "1             2,994                        7,305                 15%   \n",
       "2           184,934                      512,267                 37%   \n",
       "3            13,226                       30,684                 15%   \n",
       "4             5,801                       13,980                 17%   \n",
       "\n",
       "   SNAP Per Capita Benefit or TAM   ...  Other Race Alone   \\\n",
       "0                   $51,473,977.00  ...              7,647   \n",
       "1                   $10,979,956.00  ...                557   \n",
       "2                  $769,937,572.00  ...             73,243   \n",
       "3                   $46,118,533.00  ...              5,087   \n",
       "4                   $21,012,556.00  ...              1,363   \n",
       "\n",
       "   Hispanic or Latino  Median Age Male Median Age Female Median Age  \\\n",
       "0              289,287       38.5            36.8              40.0   \n",
       "1               48,276       37.8            36.2              39.2   \n",
       "2              643,695       32.8            30.6              34.9   \n",
       "3              193,822       40.2            38.1              42.2   \n",
       "4               78,972       40.7            39.8              41.6   \n",
       "\n",
       "   Total Households   Average Household Size   Total Families  state code  \\\n",
       "0            126,251                        2           60,631         36   \n",
       "1             18,208                        2           10,576         36   \n",
       "2            483,449                        3          368,196         36   \n",
       "3             82,167                        2           40,559         36   \n",
       "4             32,263                        2           18,801         36   \n",
       "\n",
       "  county code  \n",
       "0           1  \n",
       "1           3  \n",
       "2           5  \n",
       "3           7  \n",
       "4           9  \n",
       "\n",
       "[5 rows x 43 columns]"
      ]
     },
     "execution_count": 4,
     "metadata": {},
     "output_type": "execute_result"
    }
   ],
   "source": [
    "df = pd.read_csv(\"tristate_final_data.csv\")\n",
    "df.head()"
   ]
  },
  {
   "cell_type": "markdown",
   "metadata": {},
   "source": [
    "<b> Number of rows, number of columns in dataset </b>"
   ]
  },
  {
   "cell_type": "code",
   "execution_count": 5,
   "metadata": {},
   "outputs": [
    {
     "name": "stdout",
     "output_type": "stream",
     "text": [
      "There are # number of rows in the dataset    : 91\n",
      "There are # number of columns in the dataset : 43\n"
     ]
    }
   ],
   "source": [
    "print('There are # number of rows in the dataset    :', df.shape[0])\n",
    "print('There are # number of columns in the dataset :', df.shape[1])"
   ]
  },
  {
   "cell_type": "markdown",
   "metadata": {},
   "source": [
    "| **# Rows** | **# Features** |\n",
    "|----------|--------------|\n",
    "| 12330    | 18           |\n"
   ]
  },
  {
   "cell_type": "markdown",
   "metadata": {},
   "source": [
    "<b> Features datatypes and non-null </b>"
   ]
  },
  {
   "cell_type": "code",
   "execution_count": 6,
   "metadata": {},
   "outputs": [
    {
     "name": "stdout",
     "output_type": "stream",
     "text": [
      "<class 'pandas.core.frame.DataFrame'>\n",
      "RangeIndex: 91 entries, 0 to 90\n",
      "Data columns (total 43 columns):\n",
      "NAME                                          91 non-null object\n",
      "Covid Confirmed Cases                         91 non-null int64\n",
      "Covid Deaths                                  91 non-null int64\n",
      "Population                                    91 non-null int64\n",
      "Covid Case Rate (per 1000)                    91 non-null float64\n",
      "Covid Death Rate (per 1000)                   91 non-null float64\n",
      " Households SNAP                              91 non-null object\n",
      " Estimated Individuals SNAP                   91 non-null object\n",
      " SNAP % Population                            91 non-null object\n",
      " SNAP Per Capita Benefit or TAM               91 non-null object\n",
      " Total Citizen Educated in US                 91 non-null object\n",
      " Citizen Less than High School  Education     91 non-null object\n",
      " Citizen High School  Graduate                91 non-null object\n",
      " Citizen Some College  Education              91 non-null object\n",
      " Citizen College Degree                       91 non-null object\n",
      " Citizen Graduate or Professional Degree      91 non-null object\n",
      " Total Citizen Income                         91 non-null object\n",
      " Citizen No Income                            91 non-null object\n",
      "Citizen Income $1-$9,999                      91 non-null object\n",
      "Citizen Income $10,000-$14,999                91 non-null object\n",
      "Citizen Income $15,000-$24,999                91 non-null object\n",
      "Citizen Income $25,000-$34,999                91 non-null object\n",
      "Citizen Income $35,000-$49,999                91 non-null object\n",
      "Citizen Income $50,000-$64,999                91 non-null object\n",
      "Citizen Income $65,000-$74,999                91 non-null object\n",
      "Citizen Income $75,000 +                      91 non-null object\n",
      " Total Population                             91 non-null object\n",
      " One Race Population                          91 non-null object\n",
      " White Race                                   91 non-null object\n",
      " Black Race                                   91 non-null object\n",
      " Native American Race                         91 non-null object\n",
      " Asian Race                                   91 non-null object\n",
      " Pacific Islander Race                        91 non-null object\n",
      " Other Race Alone                             91 non-null object\n",
      " Hispanic or Latino                           91 non-null object\n",
      "Median Age                                    91 non-null float64\n",
      "Male Median Age                               91 non-null float64\n",
      "Female Median Age                             91 non-null float64\n",
      " Total Households                             91 non-null object\n",
      " Average Household Size                       91 non-null int64\n",
      " Total Families                               91 non-null object\n",
      "state code                                    91 non-null int64\n",
      "county code                                   91 non-null int64\n",
      "dtypes: float64(5), int64(6), object(32)\n",
      "memory usage: 30.7+ KB\n"
     ]
    }
   ],
   "source": [
    " df.info()\n",
    "# convert table to markdown, source: https://tableconvert.com/"
   ]
  },
  {
   "cell_type": "markdown",
   "metadata": {},
   "source": [
    "<b> Features grouped by data type </b>"
   ]
  },
  {
   "cell_type": "code",
   "execution_count": 7,
   "metadata": {},
   "outputs": [
    {
     "data": {
      "text/plain": [
       "{dtype('int64'): Index(['Covid Confirmed Cases', 'Covid Deaths ', 'Population',\n",
       "        ' Average Household Size ', 'state code', 'county code'],\n",
       "       dtype='object'),\n",
       " dtype('float64'): Index(['Covid Case Rate (per 1000)', 'Covid Death Rate (per 1000)',\n",
       "        'Median Age', 'Male Median Age', 'Female Median Age'],\n",
       "       dtype='object'),\n",
       " dtype('O'): Index(['NAME', ' Households SNAP ', ' Estimated Individuals SNAP ',\n",
       "        ' SNAP % Population ', ' SNAP Per Capita Benefit or TAM ',\n",
       "        ' Total Citizen Educated in US ',\n",
       "        ' Citizen Less than High School  Education ',\n",
       "        ' Citizen High School  Graduate ', ' Citizen Some College  Education ',\n",
       "        ' Citizen College Degree  ',\n",
       "        ' Citizen Graduate or Professional Degree ', ' Total Citizen Income ',\n",
       "        ' Citizen No Income ', 'Citizen Income $1-$9,999',\n",
       "        'Citizen Income $10,000-$14,999', 'Citizen Income $15,000-$24,999',\n",
       "        'Citizen Income $25,000-$34,999', 'Citizen Income $35,000-$49,999',\n",
       "        'Citizen Income $50,000-$64,999', 'Citizen Income $65,000-$74,999',\n",
       "        'Citizen Income $75,000 +', ' Total Population ',\n",
       "        ' One Race Population ', ' White Race ', ' Black Race ',\n",
       "        ' Native American Race ', ' Asian Race ', ' Pacific Islander Race ',\n",
       "        ' Other Race Alone ', ' Hispanic or Latino ', ' Total Households ',\n",
       "        ' Total Families '],\n",
       "       dtype='object')}"
      ]
     },
     "execution_count": 7,
     "metadata": {},
     "output_type": "execute_result"
    }
   ],
   "source": [
    "df.columns.to_series().groupby(df.dtypes).groups"
   ]
  },
  {
   "cell_type": "markdown",
   "metadata": {},
   "source": [
    "<b> Show first 5 rows of the dataset </b>"
   ]
  },
  {
   "cell_type": "code",
   "execution_count": 8,
   "metadata": {},
   "outputs": [
    {
     "data": {
      "text/html": [
       "<div>\n",
       "<style scoped>\n",
       "    .dataframe tbody tr th:only-of-type {\n",
       "        vertical-align: middle;\n",
       "    }\n",
       "\n",
       "    .dataframe tbody tr th {\n",
       "        vertical-align: top;\n",
       "    }\n",
       "\n",
       "    .dataframe thead th {\n",
       "        text-align: right;\n",
       "    }\n",
       "</style>\n",
       "<table border=\"1\" class=\"dataframe\">\n",
       "  <thead>\n",
       "    <tr style=\"text-align: right;\">\n",
       "      <th></th>\n",
       "      <th>NAME</th>\n",
       "      <th>Covid Confirmed Cases</th>\n",
       "      <th>Covid Deaths</th>\n",
       "      <th>Population</th>\n",
       "      <th>Covid Case Rate (per 1000)</th>\n",
       "      <th>Covid Death Rate (per 1000)</th>\n",
       "      <th>Households SNAP</th>\n",
       "      <th>Estimated Individuals SNAP</th>\n",
       "      <th>SNAP % Population</th>\n",
       "      <th>SNAP Per Capita Benefit or TAM</th>\n",
       "      <th>...</th>\n",
       "      <th>Other Race Alone</th>\n",
       "      <th>Hispanic or Latino</th>\n",
       "      <th>Median Age</th>\n",
       "      <th>Male Median Age</th>\n",
       "      <th>Female Median Age</th>\n",
       "      <th>Total Households</th>\n",
       "      <th>Average Household Size</th>\n",
       "      <th>Total Families</th>\n",
       "      <th>state code</th>\n",
       "      <th>county code</th>\n",
       "    </tr>\n",
       "  </thead>\n",
       "  <tbody>\n",
       "    <tr>\n",
       "      <th>0</th>\n",
       "      <td>Albany County, New York</td>\n",
       "      <td>87943</td>\n",
       "      <td>3989</td>\n",
       "      <td>304204</td>\n",
       "      <td>289.092188</td>\n",
       "      <td>13.112911</td>\n",
       "      <td>15,087</td>\n",
       "      <td>34,247</td>\n",
       "      <td>11%</td>\n",
       "      <td>$51,473,977.00</td>\n",
       "      <td>...</td>\n",
       "      <td>7,647</td>\n",
       "      <td>289,287</td>\n",
       "      <td>38.5</td>\n",
       "      <td>36.8</td>\n",
       "      <td>40.0</td>\n",
       "      <td>126,251</td>\n",
       "      <td>2</td>\n",
       "      <td>60,631</td>\n",
       "      <td>36</td>\n",
       "      <td>1</td>\n",
       "    </tr>\n",
       "    <tr>\n",
       "      <th>1</th>\n",
       "      <td>Allegany County, New York</td>\n",
       "      <td>2601</td>\n",
       "      <td>126</td>\n",
       "      <td>48946</td>\n",
       "      <td>53.140195</td>\n",
       "      <td>2.574266</td>\n",
       "      <td>2,994</td>\n",
       "      <td>7,305</td>\n",
       "      <td>15%</td>\n",
       "      <td>$10,979,956.00</td>\n",
       "      <td>...</td>\n",
       "      <td>557</td>\n",
       "      <td>48,276</td>\n",
       "      <td>37.8</td>\n",
       "      <td>36.2</td>\n",
       "      <td>39.2</td>\n",
       "      <td>18,208</td>\n",
       "      <td>2</td>\n",
       "      <td>10,576</td>\n",
       "      <td>36</td>\n",
       "      <td>3</td>\n",
       "    </tr>\n",
       "    <tr>\n",
       "      <th>2</th>\n",
       "      <td>Bronx County, New York</td>\n",
       "      <td>2544478</td>\n",
       "      <td>234021</td>\n",
       "      <td>1385108</td>\n",
       "      <td>1837.024983</td>\n",
       "      <td>168.955056</td>\n",
       "      <td>184,934</td>\n",
       "      <td>512,267</td>\n",
       "      <td>37%</td>\n",
       "      <td>$769,937,572.00</td>\n",
       "      <td>...</td>\n",
       "      <td>73,243</td>\n",
       "      <td>643,695</td>\n",
       "      <td>32.8</td>\n",
       "      <td>30.6</td>\n",
       "      <td>34.9</td>\n",
       "      <td>483,449</td>\n",
       "      <td>3</td>\n",
       "      <td>368,196</td>\n",
       "      <td>36</td>\n",
       "      <td>5</td>\n",
       "    </tr>\n",
       "    <tr>\n",
       "      <th>3</th>\n",
       "      <td>Broome County, New York</td>\n",
       "      <td>24218</td>\n",
       "      <td>1802</td>\n",
       "      <td>200600</td>\n",
       "      <td>120.727817</td>\n",
       "      <td>8.983051</td>\n",
       "      <td>13,226</td>\n",
       "      <td>30,684</td>\n",
       "      <td>15%</td>\n",
       "      <td>$46,118,533.00</td>\n",
       "      <td>...</td>\n",
       "      <td>5,087</td>\n",
       "      <td>193,822</td>\n",
       "      <td>40.2</td>\n",
       "      <td>38.1</td>\n",
       "      <td>42.2</td>\n",
       "      <td>82,167</td>\n",
       "      <td>2</td>\n",
       "      <td>40,559</td>\n",
       "      <td>36</td>\n",
       "      <td>7</td>\n",
       "    </tr>\n",
       "    <tr>\n",
       "      <th>4</th>\n",
       "      <td>Cattaraugus County, New York</td>\n",
       "      <td>3875</td>\n",
       "      <td>128</td>\n",
       "      <td>80317</td>\n",
       "      <td>48.246324</td>\n",
       "      <td>1.593685</td>\n",
       "      <td>5,801</td>\n",
       "      <td>13,980</td>\n",
       "      <td>17%</td>\n",
       "      <td>$21,012,556.00</td>\n",
       "      <td>...</td>\n",
       "      <td>1,363</td>\n",
       "      <td>78,972</td>\n",
       "      <td>40.7</td>\n",
       "      <td>39.8</td>\n",
       "      <td>41.6</td>\n",
       "      <td>32,263</td>\n",
       "      <td>2</td>\n",
       "      <td>18,801</td>\n",
       "      <td>36</td>\n",
       "      <td>9</td>\n",
       "    </tr>\n",
       "  </tbody>\n",
       "</table>\n",
       "<p>5 rows × 43 columns</p>\n",
       "</div>"
      ],
      "text/plain": [
       "                           NAME  Covid Confirmed Cases  Covid Deaths   \\\n",
       "0       Albany County, New York                  87943           3989   \n",
       "1     Allegany County, New York                   2601            126   \n",
       "2        Bronx County, New York                2544478         234021   \n",
       "3       Broome County, New York                  24218           1802   \n",
       "4  Cattaraugus County, New York                   3875            128   \n",
       "\n",
       "   Population  Covid Case Rate (per 1000)  Covid Death Rate (per 1000)  \\\n",
       "0      304204                  289.092188                    13.112911   \n",
       "1       48946                   53.140195                     2.574266   \n",
       "2     1385108                 1837.024983                   168.955056   \n",
       "3      200600                  120.727817                     8.983051   \n",
       "4       80317                   48.246324                     1.593685   \n",
       "\n",
       "   Households SNAP   Estimated Individuals SNAP   SNAP % Population   \\\n",
       "0            15,087                       34,247                 11%   \n",
       "1             2,994                        7,305                 15%   \n",
       "2           184,934                      512,267                 37%   \n",
       "3            13,226                       30,684                 15%   \n",
       "4             5,801                       13,980                 17%   \n",
       "\n",
       "   SNAP Per Capita Benefit or TAM   ...  Other Race Alone   \\\n",
       "0                   $51,473,977.00  ...              7,647   \n",
       "1                   $10,979,956.00  ...                557   \n",
       "2                  $769,937,572.00  ...             73,243   \n",
       "3                   $46,118,533.00  ...              5,087   \n",
       "4                   $21,012,556.00  ...              1,363   \n",
       "\n",
       "   Hispanic or Latino  Median Age Male Median Age Female Median Age  \\\n",
       "0              289,287       38.5            36.8              40.0   \n",
       "1               48,276       37.8            36.2              39.2   \n",
       "2              643,695       32.8            30.6              34.9   \n",
       "3              193,822       40.2            38.1              42.2   \n",
       "4               78,972       40.7            39.8              41.6   \n",
       "\n",
       "   Total Households   Average Household Size   Total Families  state code  \\\n",
       "0            126,251                        2           60,631         36   \n",
       "1             18,208                        2           10,576         36   \n",
       "2            483,449                        3          368,196         36   \n",
       "3             82,167                        2           40,559         36   \n",
       "4             32,263                        2           18,801         36   \n",
       "\n",
       "  county code  \n",
       "0           1  \n",
       "1           3  \n",
       "2           5  \n",
       "3           7  \n",
       "4           9  \n",
       "\n",
       "[5 rows x 43 columns]"
      ]
     },
     "execution_count": 8,
     "metadata": {},
     "output_type": "execute_result"
    }
   ],
   "source": [
    "df.head()"
   ]
  },
  {
   "cell_type": "markdown",
   "metadata": {},
   "source": [
    "<b> Descriptive Statistics </b>"
   ]
  },
  {
   "cell_type": "code",
   "execution_count": 9,
   "metadata": {},
   "outputs": [
    {
     "data": {
      "text/html": [
       "<div>\n",
       "<style scoped>\n",
       "    .dataframe tbody tr th:only-of-type {\n",
       "        vertical-align: middle;\n",
       "    }\n",
       "\n",
       "    .dataframe tbody tr th {\n",
       "        vertical-align: top;\n",
       "    }\n",
       "\n",
       "    .dataframe thead th {\n",
       "        text-align: right;\n",
       "    }\n",
       "</style>\n",
       "<table border=\"1\" class=\"dataframe\">\n",
       "  <thead>\n",
       "    <tr style=\"text-align: right;\">\n",
       "      <th></th>\n",
       "      <th>Covid Confirmed Cases</th>\n",
       "      <th>Covid Deaths</th>\n",
       "      <th>Population</th>\n",
       "      <th>Covid Case Rate (per 1000)</th>\n",
       "      <th>Covid Death Rate (per 1000)</th>\n",
       "      <th>Median Age</th>\n",
       "      <th>Male Median Age</th>\n",
       "      <th>Female Median Age</th>\n",
       "      <th>Average Household Size</th>\n",
       "      <th>state code</th>\n",
       "      <th>county code</th>\n",
       "    </tr>\n",
       "  </thead>\n",
       "  <tbody>\n",
       "    <tr>\n",
       "      <th>count</th>\n",
       "      <td>91.00</td>\n",
       "      <td>91.00</td>\n",
       "      <td>91.00</td>\n",
       "      <td>91.00</td>\n",
       "      <td>91.00</td>\n",
       "      <td>91.00</td>\n",
       "      <td>91.00</td>\n",
       "      <td>91.00</td>\n",
       "      <td>91.00</td>\n",
       "      <td>91.00</td>\n",
       "      <td>91.00</td>\n",
       "    </tr>\n",
       "    <tr>\n",
       "      <th>mean</th>\n",
       "      <td>345605.69</td>\n",
       "      <td>24234.99</td>\n",
       "      <td>348836.19</td>\n",
       "      <td>494.78</td>\n",
       "      <td>30.01</td>\n",
       "      <td>40.16</td>\n",
       "      <td>38.84</td>\n",
       "      <td>41.45</td>\n",
       "      <td>2.44</td>\n",
       "      <td>33.16</td>\n",
       "      <td>47.79</td>\n",
       "    </tr>\n",
       "    <tr>\n",
       "      <th>std</th>\n",
       "      <td>706010.22</td>\n",
       "      <td>59348.61</td>\n",
       "      <td>468866.99</td>\n",
       "      <td>569.68</td>\n",
       "      <td>36.52</td>\n",
       "      <td>3.10</td>\n",
       "      <td>3.23</td>\n",
       "      <td>3.02</td>\n",
       "      <td>0.50</td>\n",
       "      <td>7.59</td>\n",
       "      <td>36.96</td>\n",
       "    </tr>\n",
       "    <tr>\n",
       "      <th>min</th>\n",
       "      <td>304.00</td>\n",
       "      <td>0.00</td>\n",
       "      <td>4836.00</td>\n",
       "      <td>16.82</td>\n",
       "      <td>0.00</td>\n",
       "      <td>29.80</td>\n",
       "      <td>28.50</td>\n",
       "      <td>31.10</td>\n",
       "      <td>2.00</td>\n",
       "      <td>9.00</td>\n",
       "      <td>1.00</td>\n",
       "    </tr>\n",
       "    <tr>\n",
       "      <th>25%</th>\n",
       "      <td>5696.00</td>\n",
       "      <td>222.50</td>\n",
       "      <td>64956.00</td>\n",
       "      <td>88.36</td>\n",
       "      <td>3.93</td>\n",
       "      <td>38.50</td>\n",
       "      <td>37.00</td>\n",
       "      <td>39.90</td>\n",
       "      <td>2.00</td>\n",
       "      <td>34.00</td>\n",
       "      <td>15.00</td>\n",
       "    </tr>\n",
       "    <tr>\n",
       "      <th>50%</th>\n",
       "      <td>36536.00</td>\n",
       "      <td>1815.00</td>\n",
       "      <td>149265.00</td>\n",
       "      <td>230.12</td>\n",
       "      <td>13.46</td>\n",
       "      <td>40.40</td>\n",
       "      <td>39.20</td>\n",
       "      <td>41.90</td>\n",
       "      <td>2.00</td>\n",
       "      <td>36.00</td>\n",
       "      <td>37.00</td>\n",
       "    </tr>\n",
       "    <tr>\n",
       "      <th>75%</th>\n",
       "      <td>297332.00</td>\n",
       "      <td>19315.00</td>\n",
       "      <td>467878.00</td>\n",
       "      <td>698.36</td>\n",
       "      <td>48.04</td>\n",
       "      <td>41.70</td>\n",
       "      <td>40.55</td>\n",
       "      <td>42.95</td>\n",
       "      <td>3.00</td>\n",
       "      <td>36.00</td>\n",
       "      <td>78.00</td>\n",
       "    </tr>\n",
       "    <tr>\n",
       "      <th>max</th>\n",
       "      <td>3587059.00</td>\n",
       "      <td>347696.00</td>\n",
       "      <td>2504700.00</td>\n",
       "      <td>2523.79</td>\n",
       "      <td>168.96</td>\n",
       "      <td>51.30</td>\n",
       "      <td>50.90</td>\n",
       "      <td>51.80</td>\n",
       "      <td>3.00</td>\n",
       "      <td>36.00</td>\n",
       "      <td>123.00</td>\n",
       "    </tr>\n",
       "  </tbody>\n",
       "</table>\n",
       "</div>"
      ],
      "text/plain": [
       "       Covid Confirmed Cases  Covid Deaths   Population  \\\n",
       "count                  91.00          91.00       91.00   \n",
       "mean               345605.69       24234.99   348836.19   \n",
       "std                706010.22       59348.61   468866.99   \n",
       "min                   304.00           0.00     4836.00   \n",
       "25%                  5696.00         222.50    64956.00   \n",
       "50%                 36536.00        1815.00   149265.00   \n",
       "75%                297332.00       19315.00   467878.00   \n",
       "max               3587059.00      347696.00  2504700.00   \n",
       "\n",
       "       Covid Case Rate (per 1000)  Covid Death Rate (per 1000)  Median Age  \\\n",
       "count                       91.00                        91.00       91.00   \n",
       "mean                       494.78                        30.01       40.16   \n",
       "std                        569.68                        36.52        3.10   \n",
       "min                         16.82                         0.00       29.80   \n",
       "25%                         88.36                         3.93       38.50   \n",
       "50%                        230.12                        13.46       40.40   \n",
       "75%                        698.36                        48.04       41.70   \n",
       "max                       2523.79                       168.96       51.30   \n",
       "\n",
       "       Male Median Age  Female Median Age   Average Household Size   \\\n",
       "count            91.00              91.00                     91.00   \n",
       "mean             38.84              41.45                      2.44   \n",
       "std               3.23               3.02                      0.50   \n",
       "min              28.50              31.10                      2.00   \n",
       "25%              37.00              39.90                      2.00   \n",
       "50%              39.20              41.90                      2.00   \n",
       "75%              40.55              42.95                      3.00   \n",
       "max              50.90              51.80                      3.00   \n",
       "\n",
       "       state code  county code  \n",
       "count       91.00        91.00  \n",
       "mean        33.16        47.79  \n",
       "std          7.59        36.96  \n",
       "min          9.00         1.00  \n",
       "25%         34.00        15.00  \n",
       "50%         36.00        37.00  \n",
       "75%         36.00        78.00  \n",
       "max         36.00       123.00  "
      ]
     },
     "execution_count": 9,
     "metadata": {},
     "output_type": "execute_result"
    }
   ],
   "source": [
    "df.describe().round(2)"
   ]
  },
  {
   "cell_type": "markdown",
   "metadata": {},
   "source": [
    "# Visualize Dataset\n",
    "___"
   ]
  },
  {
   "cell_type": "markdown",
   "metadata": {},
   "source": [
    "## 1. Barcharts"
   ]
  },
  {
   "cell_type": "markdown",
   "metadata": {},
   "source": [
    "<b> Visualize target variable: 'COVID Confirmed Cases' </b>"
   ]
  },
  {
   "cell_type": "code",
   "execution_count": 11,
   "metadata": {},
   "outputs": [
    {
     "data": {
      "image/png": "[encoded data removed]",
      "text/plain": [
       "<Figure size 432x288 with 1 Axes>"
      ]
     },
     "metadata": {},
     "output_type": "display_data"
    }
   ],
   "source": [
    "plt.style.use('Solarize_Light2')\n",
    "graph = sns.countplot(df['Covid Confirmed Cases'], palette=['red', 'green'])\n",
    "\n",
    "# show the values above each bar in the barchart with relative position xy\n",
    "for p in graph.patches:\n",
    "    graph.annotate(np.round(p.get_height(), 2), (p.get_x() + 0.3, p.get_height() * 1.02))"
   ]
  },
  {
   "cell_type": "markdown",
   "metadata": {},
   "source": [
    "Take-away Barchart:\n",
    "--------------------\n",
    " - The target variable is highly imbalanced (as seen before: 84.53% is zero)"
   ]
  },
  {
   "cell_type": "markdown",
   "metadata": {},
   "source": [
    "___\n",
    "Visualize the following features:\n",
    "* Administrative, Administrative_Duration\n",
    "* Informational, Informational_Duration\n",
    "* ProductRelated, ProductRelated_Duration"
   ]
  },
  {
   "cell_type": "code",
   "execution_count": null,
   "metadata": {},
   "outputs": [],
   "source": [
    "df_pagesvisited = df[['Administrative', 'Informational', 'ProductRelated']]\n",
    "df_pagesvisited_mean = df_pagesvisited.mean()"
   ]
  },
  {
   "cell_type": "code",
   "execution_count": null,
   "metadata": {},
   "outputs": [],
   "source": [
    "objects = ('Administrative', 'Informational', 'Product Related')\n",
    "x = np.arange(len(objects))\n",
    "y = df_pagesvisited_mean.round(2)\n",
    "# show available styles in matplotlib\n",
    "# plt.style.available \n",
    "# set the style of the graph\n",
    "plt.style.use('Solarize_Light2')\n",
    "# define the barchart and colors (in hex color codes)\n",
    "plt.bar(x, height=y, align='center', color=('#6e0dd0', '#36F57F', '#36ACF5'))\n",
    "# define the xticks\n",
    "plt.xticks(x, objects)\n",
    "# set the barchart y-label\n",
    "plt.ylabel('Count', fontsize=14)\n",
    "# set the barchart title\n",
    "plt.title('AVERAGE NUMBER OF WEBPAGES \\n VISITED BY TYPE OF WEBPAGE', fontsize=14)\n",
    "# show the values above each bar in the barchart with relative position\n",
    "for i, v in enumerate(y):\n",
    "    plt.text(x[i] - 0.09, v + 0.3, str(v))\n",
    "# show the barchart\n",
    "plt.show()"
   ]
  },
  {
   "cell_type": "markdown",
   "metadata": {},
   "source": [
    "Take-aways Barchart:\n",
    "--------------------\n",
    " - The lowest average number of webpages visited by type of webpage for users are: <b> Informational </b> Webpages (~2 webpages on average).\n",
    " - Followed closely by <b> Administrative </b> Webpages (~0.5 webpages on average by user).\n",
    " - Users visit on average the highest number of webpages that are <b> Product Related </b> (~32 webpages)."
   ]
  },
  {
   "cell_type": "code",
   "execution_count": null,
   "metadata": {},
   "outputs": [],
   "source": [
    "# create a new dataframe for just the duration types\n",
    "df_duration = df[['Administrative_Duration', 'Informational_Duration', 'ProductRelated_Duration']]\n",
    "\n",
    "# test how many values we have before filtering\n",
    "df_duration.count()\n",
    "\n",
    "# apply filter, excluding zeros\n",
    "df_duration_nonzero = df[df_duration > 0][['Administrative_Duration', 'Informational_Duration', 'ProductRelated_Duration']]\n",
    "\n",
    "# count the number of instances that are non-zero\n",
    "df_duration_nonzero.count()\n",
    "\n",
    "# calculate the average time spent by type of webpage (in minutes)\n",
    "df_duration_nonzero_mean_minutes = df_duration_nonzero.mean()/60\n",
    "df_duration_nonzero_mean_minutes"
   ]
  },
  {
   "cell_type": "code",
   "execution_count": null,
   "metadata": {},
   "outputs": [],
   "source": [
    "objects = ('Administrative', 'Informational', 'Product Related')\n",
    "\n",
    "x = np.arange(len(objects))\n",
    "y = df_duration_nonzero_mean_minutes.round(2)\n",
    "# show available styles in matplotlib\n",
    "# plt.style.available \n",
    "# set the style of the graph\n",
    "plt.style.use('Solarize_Light2')\n",
    "# define the barchart and colors (in hex color codes)\n",
    "plt.bar(x, height=y, align='center', color=('#6e0dd0', '#36F57F', '#36ACF5'))\n",
    "# define the xticks\n",
    "plt.xticks(x, objects)\n",
    "# set the barchart y-label\n",
    "plt.ylabel('Average time spent \\n (in minutes)', fontsize=14)\n",
    "# set the barchart title\n",
    "plt.title('AVERAGE DURATION (in minutes) \\n OF TIME SPENT BY TYPE OF WEBPAGES \\n (for a visitor in each session)', fontsize=14)\n",
    "# show the values above each bar in the barchart with relative position\n",
    "for i, v in enumerate(y):\n",
    "    plt.text(x[i] - 0.09, v + 0.3, str(v))\n",
    "# show the barchart\n",
    "plt.show()"
   ]
  },
  {
   "cell_type": "markdown",
   "metadata": {},
   "source": [
    "Take-aways Barchart:\n",
    "--------------------\n",
    " - The lowest average duration spent by type of webpages is: <b> Administrative </b> (~2.6 minutes).\n",
    " - Followed closely by <b> Informational </b> (~3.0 minutes).\n",
    " - Users spent on average by far the highest amount of time at <b> Product Related </b> webpages (~21.2 minutes)."
   ]
  },
  {
   "cell_type": "code",
   "execution_count": null,
   "metadata": {},
   "outputs": [],
   "source": [
    "# show 2 plots side by side\n",
    "df1 = df_duration_nonzero_mean_minutes\n",
    "df2 = df_pagesvisited_mean\n",
    "\n",
    "# define 3 colors for 3 bars\n",
    "my_colors = ['#6e0dd0', '#36F57F', '#36ACF5']\n",
    "\n",
    "# Define size subplots\n",
    "fig, (ax1,ax2) = plt.subplots(1,2, figsize=(16,4))  # 1 row, 2 columns\n",
    "\n",
    "# Graph 1 \n",
    "graph1 = df1.plot(kind='bar', ax=ax1, title='Average time spent \\n by webpage type \\n (for a visitor in a single session)', rot=20, color=my_colors)\n",
    "graph1.set_xlabel(\"Webpage Type\", fontsize=16)\n",
    "graph1.set_ylabel(\"Duration (in minutes)\", fontsize=14)\n",
    "graph1.set_xticklabels(['Administrative', 'Informational', 'Product Related'], fontsize=14)\n",
    "graph1.set_yticks(range(0, 36), 5)\n",
    "# show the values above each bar in the barchart with relative position xy\n",
    "for p in graph1.patches:\n",
    "    graph1.annotate(np.round(p.get_height(), 2), (p.get_x() +0.12, p.get_height() * 1.02))\n",
    "\n",
    "# Graph 2\n",
    "graph2 = df2.plot(kind='bar', ax=ax2, title='Average # webpages visited \\n by webpage type \\n (for a visitor in a single session)', rot=20, color=my_colors)\n",
    "graph2.set_xticklabels(['Administrative', 'Informational', 'Product Related'],  fontsize=14)\n",
    "graph2.set_xlabel('Webpage Type', fontsize=16)\n",
    "graph2.set_ylabel('Count', fontsize=14)\n",
    "graph2.set_yticks(range(0, 36), 5)\n",
    "\n",
    "# show the values above each bar in the barchart with relative position xy\n",
    "for p in graph2.patches:\n",
    "    graph2.annotate(np.round(p.get_height(), 2), (p.get_x() + 0.12, p.get_height() * 1.02))"
   ]
  },
  {
   "cell_type": "markdown",
   "metadata": {},
   "source": [
    "Take-aways:\n",
    "--------------------\n",
    "<b> Left-chart </b>\n",
    " - Users spent on average by far the highest amount of time at <b> Product Related </b> webpages (~21.2 minutes).\n",
    "\n",
    "<b> Right-chart </b>\n",
    " - Users visit on average by far the most number of webpages that are <b> Product Related </b> (~32 webpages)."
   ]
  },
  {
   "cell_type": "code",
   "execution_count": null,
   "metadata": {},
   "outputs": [],
   "source": [
    "# get the non_zero values by type of webpage and count total\n",
    "df_pagesvisited_count = df_pagesvisited.count()\n",
    "df_pagesvisited_nonzero = df_pagesvisited[df_pagesvisited > 0]\n",
    "df_pagesvisited_nonzero_count = df_pagesvisited_nonzero.count()\n",
    "df_pagesvisited_nonzero_count"
   ]
  },
  {
   "cell_type": "code",
   "execution_count": null,
   "metadata": {},
   "outputs": [],
   "source": [
    "objects = ('Administrative', 'Informational', 'Product Related')\n",
    "\n",
    "x = np.arange(len(objects))\n",
    "y = df_pagesvisited_nonzero_count\n",
    "# show available styles in matplotlib\n",
    "# plt.style.available \n",
    "# set the style of the graph\n",
    "plt.style.use('Solarize_Light2')\n",
    "# define the barchart and colors (in hex color codes)\n",
    "plt.bar(x, height=y, align='center', color=('#6e0dd0', '#36F57F', '#36ACF5'))\n",
    "# define the xticks\n",
    "plt.xticks(x, objects)\n",
    "# set the barchart y-label\n",
    "plt.ylabel('Count', fontsize=14)\n",
    "# set the barchart title\n",
    "plt.title('Count by \\n Type of Webpages visited', fontsize=14)\n",
    "# show the values above each bar in the barchart with relative position\n",
    "for i, v in enumerate(y):\n",
    "    plt.text(x[i] - 0.09, v + 200, str(v))\n",
    "# show the barchart\n",
    "plt.show()"
   ]
  },
  {
   "cell_type": "markdown",
   "metadata": {},
   "source": [
    "___\n",
    "Visualize the following features:\n",
    "* BounceRates\n",
    "* ExitRates\n",
    "___"
   ]
  },
  {
   "cell_type": "code",
   "execution_count": null,
   "metadata": {},
   "outputs": [],
   "source": [
    "df_bounce_exit_rates = df[['BounceRates', 'ExitRates']]\n",
    "\n",
    "# count the observations in each feature of admin, info, productrelated\n",
    "print('# obs for BounceRates and ExitRates incl. zeros')\n",
    "print('------------------------------------------------------')\n",
    "print(df_bounce_exit_rates.count())\n",
    "print('------------------------------------------------------')\n",
    "\n",
    "# calculate the average for BounceRates and ExitRates\n",
    "print('Averages for BounceRates and ExitRates')\n",
    "print('------------------------------------------------------')\n",
    "df_bounce_exit_rates_mean = df_bounce_exit_rates.mean()\n",
    "df_bounce_exit_rates_mean"
   ]
  },
  {
   "cell_type": "code",
   "execution_count": null,
   "metadata": {},
   "outputs": [],
   "source": [
    "fig= plt.figure(figsize=(6,3))\n",
    "objects = ('BounceRates', 'ExitRates')\n",
    "\n",
    "x = np.arange(len(objects))\n",
    "y = (df_bounce_exit_rates_mean*100).round(2) # convert to percentage x100%\n",
    "# show available styles in matplotlib\n",
    "# plt.style.available \n",
    "# set the style of the graph\n",
    "plt.style.use('Solarize_Light2')\n",
    "# define the barchart and colors (in hex color codes)\n",
    "plt.bar(x, height=y, align='center', color=('#6e0dd0', '#36F57F'))\n",
    "# define the xticks\n",
    "plt.xticks(x, objects)\n",
    "# set the barchart y-label\n",
    "plt.ylabel('Percentage', fontsize=14)\n",
    "# set the barchart title\n",
    "plt.title('Average Bounce Rate and Average Exit Rate (%)', fontsize=14)\n",
    "plt.yticks(range(0, 11))\n",
    "# show the values above each bar in the barchart with relative position\n",
    "for i, v in enumerate(y):\n",
    "    plt.text(x[i] - 0.09, v + 0.3, str(v)+'%')\n",
    "# show the barchart\n",
    "plt.show()\n",
    "\n",
    "print('-------------------------------------------------------------')\n",
    "print('* Bounce Rate:')\n",
    "print('-------------------------------------------------------------')\n",
    "print(' % of visitors who enter site from the page &', '\\n',\\\n",
    "'leave that page (\"bounce\") without triggering any other requests', '\\n', \\\n",
    "'to the analytics server during that session')\n",
    "print('-------------------------------------------------------------')\n",
    "print('* Exit Rates:')\n",
    "print('-------------------------------------------------------------')\n",
    "print('For all pageviews to the page, ', '\\n', '% of visitors \\\n",
    "that were the last in the session')"
   ]
  },
  {
   "cell_type": "code",
   "execution_count": null,
   "metadata": {},
   "outputs": [],
   "source": [
    "df.plot(kind='scatter', x='BounceRates', y='ExitRates')"
   ]
  },
  {
   "cell_type": "markdown",
   "metadata": {},
   "source": [
    "## Take-away\n",
    "* <b> ExitRates </b> and <b> BounceRates </b> appear to be highly positively correlated with a linear pattern."
   ]
  },
  {
   "cell_type": "markdown",
   "metadata": {},
   "source": [
    "## Special Day ##"
   ]
  },
  {
   "cell_type": "markdown",
   "metadata": {},
   "source": [
    "___\n",
    "Visualize the following feature:\n",
    "* Special Day"
   ]
  },
  {
   "cell_type": "code",
   "execution_count": null,
   "metadata": {},
   "outputs": [],
   "source": [
    "special_day_counts = pd.DataFrame(df['SpecialDay'].value_counts())\n",
    "special_day_counts.sort_index()"
   ]
  },
  {
   "cell_type": "code",
   "execution_count": null,
   "metadata": {},
   "outputs": [],
   "source": [
    "# plot the graph for the dataframe df and the feature SpecialDay by counting totals of each category\n",
    "graph = sns.catplot(x=\"SpecialDay\", kind=\"count\", palette=\"hls\", data=df)\n",
    "\n",
    "# set the title\n",
    "plt.title(\"Count of Special Day closeness \\n relative to visiting time website\")\n",
    "# set the x-label and fontsize\n",
    "plt.xlabel('Special Day Closeness Category', fontsize=12)\n",
    "# set the xticklabels\n",
    "graph.set(xticklabels=['0.0%','20%','40%','60%','80%','100%'])\n",
    "#annotate axis = seaborn axis\n",
    "ax = graph.ax \n",
    "\n",
    "# show the values above each bar in the barchart with relative position\n",
    "# source: https://stackoverflow.com/questions/39444665/add-data-labels-to-seaborn-factor-plot\n",
    "for p in ax.patches:\n",
    "    ax.text(p.get_x() + p.get_width()/2., p.get_height(), '%d' % int(p.get_height()), \n",
    "            fontsize=12, color='black', ha='center', va='bottom')"
   ]
  },
  {
   "cell_type": "markdown",
   "metadata": {},
   "source": [
    "## Month ##"
   ]
  },
  {
   "cell_type": "code",
   "execution_count": null,
   "metadata": {},
   "outputs": [],
   "source": [
    "# plot the graph for the dataframe df and the feature SpecialDay by counting totals of each category\n",
    "graph = sns.catplot(x=\"Month\", kind=\"count\", palette=\"hls\", data=df)\n",
    "\n",
    "# set the title\n",
    "plt.title(\"Count of online sessions \\n by Month\")\n",
    "# set the x-label and fontsize\n",
    "plt.xlabel('Month', fontsize=12)\n",
    "#annotate axis = seaborn axis\n",
    "ax = graph.ax \n",
    "\n",
    "# show the values above each bar in the barchart with relative position\n",
    "# source: https://stackoverflow.com/questions/39444665/add-data-labels-to-seaborn-factor-plot\n",
    "for p in ax.patches:\n",
    "    ax.text(p.get_x() + p.get_width()/2., p.get_height(), '%d' % int(p.get_height()), \n",
    "            fontsize=12, color='black', ha='center', va='bottom')"
   ]
  },
  {
   "cell_type": "code",
   "execution_count": null,
   "metadata": {},
   "outputs": [],
   "source": [
    "# plot the graph for the dataframe df and the feature SpecialDay by counting totals of each category\n",
    "graph = sns.catplot(x=\"OperatingSystems\", kind=\"count\", palette=\"hls\", data=df)\n",
    "\n",
    "# set the title\n",
    "plt.title(\"Count of Operating Systems\")\n",
    "# set the x-label and fontsize\n",
    "plt.xlabel('OS Category', fontsize=12)\n",
    "#annotate axis = seaborn axis\n",
    "ax = graph.ax \n",
    "\n",
    "# show the values above each bar in the barchart with relative position\n",
    "# source: https://stackoverflow.com/questions/39444665/add-data-labels-to-seaborn-factor-plot\n",
    "for p in ax.patches:\n",
    "    ax.text(p.get_x() + p.get_width()/2., p.get_height(), '%d' % int(p.get_height()), \n",
    "            fontsize=12, color='black', ha='center', va='bottom')"
   ]
  },
  {
   "cell_type": "code",
   "execution_count": null,
   "metadata": {},
   "outputs": [],
   "source": [
    "# plot the graph for the dataframe df and the feature SpecialDay by counting totals of each category\n",
    "graph = sns.catplot(x=\"Browser\", kind=\"count\", palette=\"hls\", data=df)\n",
    "\n",
    "# set the title\n",
    "plt.title(\"Count of Browser\")\n",
    "# set the x-label and fontsize\n",
    "plt.xlabel('Browser Category', fontsize=12)\n",
    "#annotate axis = seaborn axis\n",
    "ax = graph.ax \n",
    "\n",
    "# show the values above each bar in the barchart with relative position\n",
    "# source: https://stackoverflow.com/questions/39444665/add-data-labels-to-seaborn-factor-plot\n",
    "for p in ax.patches:\n",
    "    ax.text(p.get_x() + p.get_width()/2., p.get_height(), '%d' % int(p.get_height()), \n",
    "            fontsize=12, color='black', ha='center', va='bottom')"
   ]
  },
  {
   "cell_type": "code",
   "execution_count": null,
   "metadata": {},
   "outputs": [],
   "source": [
    "# plot the graph for the dataframe df and the feature SpecialDay by counting totals of each category\n",
    "graph = sns.catplot(x=\"Region\", kind=\"count\", palette=\"hls\", data=df)\n",
    "\n",
    "# set the title\n",
    "plt.title(\"Count of \\n Region\")\n",
    "# set the x-label and fontsize\n",
    "plt.xlabel('Region', fontsize=12)\n",
    "#annotate axis = seaborn axis\n",
    "ax = graph.ax \n",
    "\n",
    "# show the values above each bar in the barchart with relative position\n",
    "# source: https://stackoverflow.com/questions/39444665/add-data-labels-to-seaborn-factor-plot\n",
    "for p in ax.patches:\n",
    "    ax.text(p.get_x() + p.get_width()/2., p.get_height(), '%d' % int(p.get_height()), \n",
    "            fontsize=12, color='black', ha='center', va='bottom')"
   ]
  },
  {
   "cell_type": "code",
   "execution_count": null,
   "metadata": {},
   "outputs": [],
   "source": [
    "# plot the graph for the dataframe df and the feature SpecialDay by counting totals of each category\n",
    "graph = sns.catplot(x=\"TrafficType\", kind=\"count\", palette=\"hls\", data=df)\n",
    "\n",
    "# set the title\n",
    "plt.title(\"Count of \\n TrafficType\")\n",
    "# set the x-label and fontsize\n",
    "plt.xlabel('TrafficType', fontsize=12)\n",
    "#annotate axis = seaborn axis\n",
    "ax = graph.ax \n",
    "\n",
    "# show the values above each bar in the barchart with relative position\n",
    "# source: https://stackoverflow.com/questions/39444665/add-data-labels-to-seaborn-factor-plot\n",
    "for p in ax.patches:\n",
    "    ax.text(p.get_x() + p.get_width()/2., p.get_height(), '%d' % int(p.get_height()), \n",
    "            fontsize=12, color='black', ha='center', va='bottom')"
   ]
  },
  {
   "cell_type": "code",
   "execution_count": null,
   "metadata": {},
   "outputs": [],
   "source": [
    "# plot the graph for the dataframe df and the feature SpecialDay by counting totals of each category\n",
    "graph = sns.catplot(x=\"VisitorType\", kind=\"count\", palette=\"hls\", data=df)\n",
    "\n",
    "# set the title\n",
    "plt.title(\"Count of \\n VisitorType\")\n",
    "# set the x-label and fontsize\n",
    "plt.xlabel('', fontsize=12)\n",
    "#annotate axis = seaborn axis\n",
    "ax = graph.ax \n",
    "\n",
    "# show the values above each bar in the barchart with relative position\n",
    "# source: https://stackoverflow.com/questions/39444665/add-data-labels-to-seaborn-factor-plot\n",
    "for p in ax.patches:\n",
    "    ax.text(p.get_x() + p.get_width()/2., p.get_height(), '%d' % int(p.get_height()), \n",
    "            fontsize=12, color='black', ha='center', va='bottom')"
   ]
  },
  {
   "cell_type": "code",
   "execution_count": null,
   "metadata": {},
   "outputs": [],
   "source": [
    "# plot the graph for the dataframe df and the feature SpecialDay by counting totals of each category\n",
    "graph = sns.catplot(x=\"Weekend\", kind=\"count\", palette=\"hls\", data=df)\n",
    "\n",
    "# set the title\n",
    "plt.title(\"Count of Webpages visited \\n in Weekday vs Weekend\")\n",
    "# set the x-label and fontsize\n",
    "plt.xlabel('', fontsize=12)\n",
    "#annotate axis = seaborn axis\n",
    "ax = graph.ax \n",
    "\n",
    "# show the values above each bar in the barchart with relative position\n",
    "# source: https://stackoverflow.com/questions/39444665/add-data-labels-to-seaborn-factor-plot\n",
    "for p in ax.patches:\n",
    "    ax.text(p.get_x() + p.get_width()/2., p.get_height(), '%d' % int(p.get_height()), \n",
    "            fontsize=12, color='black', ha='center', va='bottom')"
   ]
  },
  {
   "cell_type": "code",
   "execution_count": null,
   "metadata": {},
   "outputs": [],
   "source": [
    "# plot the graph for the dataframe df and the feature SpecialDay by counting totals of each category\n",
    "graph = sns.catplot(x=\"Revenue\", kind=\"count\", palette=\"hls\", data=df)\n",
    "\n",
    "# set the title\n",
    "plt.title(\"Count of \\n non-purchases vs purchases online\")\n",
    "# set the x-label and fontsize\n",
    "plt.xlabel('', fontsize=12)\n",
    "#annotate axis = seaborn axis\n",
    "ax = graph.ax \n",
    "\n",
    "# show the values above each bar in the barchart with relative position\n",
    "# source: https://stackoverflow.com/questions/39444665/add-data-labels-to-seaborn-factor-plot\n",
    "for p in ax.patches:\n",
    "    ax.text(p.get_x() + p.get_width()/2., p.get_height(), '%d' % int(p.get_height()), \n",
    "            fontsize=12, color='black', ha='center', va='bottom')"
   ]
  },
  {
   "cell_type": "markdown",
   "metadata": {},
   "source": [
    "## 2. Boxplots "
   ]
  },
  {
   "cell_type": "markdown",
   "metadata": {},
   "source": [
    "Administrative Webpages"
   ]
  },
  {
   "cell_type": "code",
   "execution_count": null,
   "metadata": {},
   "outputs": [],
   "source": [
    "# show the number of administrative webpages visited and the time spent\n",
    "ax = sns.boxplot(y=\"Administrative_Duration\",x=\"Administrative\", data=df)"
   ]
  },
  {
   "cell_type": "markdown",
   "metadata": {},
   "source": [
    "Informational Webpages"
   ]
  },
  {
   "cell_type": "code",
   "execution_count": null,
   "metadata": {},
   "outputs": [],
   "source": [
    "ax = sns.boxplot(y=\"Informational_Duration\",x=\"Informational\", data=df)"
   ]
  },
  {
   "cell_type": "code",
   "execution_count": null,
   "metadata": {},
   "outputs": [],
   "source": [
    "#ax = sns.boxplot(y=\"ProductRelated_Duration\",x=\"ProductRelated\", data=df)\n",
    "#conclusion: boxplot ProductRelated vs ProductRelated_Duration not informative - too many datapoints"
   ]
  },
  {
   "cell_type": "markdown",
   "metadata": {},
   "source": [
    "## Takeaways\n",
    "* The more (Administrative, Informational) webpages visited in a session the longer the duration\n",
    "* There appear to be a lot of outliers"
   ]
  },
  {
   "cell_type": "markdown",
   "metadata": {},
   "source": [
    "## Scatterplot ##"
   ]
  },
  {
   "cell_type": "code",
   "execution_count": null,
   "metadata": {},
   "outputs": [],
   "source": [
    "#df.plot(kind='scatter', x=['BounceRates','ExitRates'], y ='SpecialDay')\n",
    "ax1 = df.plot(kind='scatter', x='BounceRates', y='PageValues', color='red')    \n",
    "ax2 = df.plot(kind='scatter', x='ExitRates', y='PageValues', color='green', ax=ax1)    \n",
    "#ax3 = df.plot(kind='scatter', x='e', y='f', color='b', ax=ax1)\n"
   ]
  },
  {
   "cell_type": "code",
   "execution_count": null,
   "metadata": {},
   "outputs": [],
   "source": [
    "#df.plot(kind='scatter', x=['BounceRates','ExitRates'], y ='SpecialDay')\n",
    "ax1 = df.plot(kind='scatter', x='Administrative', y='PageValues', color='red')    \n",
    "ax2 = df.plot(kind='scatter', x='Informational', y='PageValues', color='green', ax=ax1, title='Scatterplot Admin vs Info # Pages Visited')   \n",
    "#ax3 = df.plot(kind='scatter', x='ProductRelated', y='PageValues', color='b', ax=ax1)"
   ]
  },
  {
   "cell_type": "markdown",
   "metadata": {},
   "source": [
    "## 3. Histograms "
   ]
  },
  {
   "cell_type": "code",
   "execution_count": null,
   "metadata": {},
   "outputs": [],
   "source": [
    "# function for histogram\n",
    "def plot_hist_norm(df, column, bin_amount=25):\n",
    "    # Fit a normal distribution to the data:\n",
    "    mu, std = norm.fit(df[column])\n",
    "\n",
    "    # Plot the histogram.\n",
    "    ## Set the alpha value used for blending (how transparent the color is)\n",
    "    plt.hist(df[column], bins=bin_amount, density=True, alpha=0.8, color='g')\n",
    "    \n",
    "    # Plot the PDF.\n",
    "    xmin, xmax = plt.xlim()\n",
    "    x = np.linspace(xmin, xmax, 100)\n",
    "    p = norm.pdf(x, mu, std)\n",
    "    plt.plot(x, p, 'k', linewidth=2)\n",
    "    title = column, \"Fit results: mu = %.2f, std = %.2f\" % (mu, std)\n",
    "    plt.title(title)\n",
    "    plt.show()"
   ]
  },
  {
   "cell_type": "code",
   "execution_count": null,
   "metadata": {},
   "outputs": [],
   "source": [
    "plot_hist_norm(df, column='Administrative', bin_amount=10)"
   ]
  },
  {
   "cell_type": "code",
   "execution_count": null,
   "metadata": {},
   "outputs": [],
   "source": [
    "plot_hist_norm(df, column='Administrative_Duration', bin_amount=10)"
   ]
  },
  {
   "cell_type": "code",
   "execution_count": null,
   "metadata": {},
   "outputs": [],
   "source": [
    "plot_hist_norm(df, column='Informational', bin_amount=10)"
   ]
  },
  {
   "cell_type": "code",
   "execution_count": null,
   "metadata": {},
   "outputs": [],
   "source": [
    "#df['PageValues'].describe()\n",
    "plot_hist_norm(df, column='PageValues', bin_amount=25)"
   ]
  },
  {
   "cell_type": "markdown",
   "metadata": {},
   "source": [
    "## Show Histograms as subplots ##"
   ]
  },
  {
   "cell_type": "code",
   "execution_count": null,
   "metadata": {},
   "outputs": [],
   "source": [
    "# show mean, standard dev for each subplot\n",
    "#mu, std = norm.fit(df[column])\n",
    "#title = \"Fit results: mu = %.2f,  std = %.2f\" % (mu, std)\n",
    "\n",
    "# define all numeric features in new dataframe\n",
    "df_nobinaryfeatures = df.drop(columns=['Revenue', 'Month', 'Weekend', 'VisitorType'])\n",
    "pd.DataFrame.hist(df_nobinaryfeatures, figsize = [15,15])\n",
    "plt.suptitle(\"Distribution of Numerical Features\", fontsize=16)"
   ]
  },
  {
   "cell_type": "markdown",
   "metadata": {},
   "source": [
    "## Compare Distributions Features to Target Variable\n",
    "for visitors that made a transaction (=True) versus that did not make a transaction (=False)"
   ]
  },
  {
   "cell_type": "code",
   "execution_count": null,
   "metadata": {},
   "outputs": [],
   "source": [
    "# visualize histograms for features with target variable\n",
    "# source: https://medium.com/@davidmasse8/helpful-plotting-and-pandas-patterns-80fd82b2b88b\n",
    "\n",
    "# drop features that are not numerical\n",
    "df_1 = df.drop(columns=['Month', 'Weekend', 'VisitorType'])\n",
    "# define the 1 and 0 for the target variable\n",
    "yes = df_1[(df_1['Revenue'] == 1)]\n",
    "no = df_1[(df_1['Revenue'] == 0)]\n",
    "# define the list of features\n",
    "cols = list(df_1.columns)\n",
    "# remove the target variable from the list of features\n",
    "cols.remove('Revenue')\n",
    "\n",
    "# for each feature plot a histogram where the target variable is either 0 or 1\n",
    "for name in cols:\n",
    "    a = yes[name].values\n",
    "    b = no[name].values\n",
    "    sns.distplot(a, label = 'True', kde = False, rug = False)\n",
    "    sns.distplot(b, label = 'False', kde = False, rug = False)\n",
    "    plt.title(name)\n",
    "    # show legend\n",
    "    plt.legend()\n",
    "    # show graph\n",
    "    plt.show()"
   ]
  },
  {
   "cell_type": "markdown",
   "metadata": {},
   "source": [
    "## Key Takeaway\n",
    "* ExitRates and BounceRates are much smaller for visitors that made a transaction vs visitors that did not make a transaction\n",
    "* ProductRelated_Duration is much smaller for visitors that made a transaction vs visitors that did not make a transaction"
   ]
  },
  {
   "cell_type": "markdown",
   "metadata": {},
   "source": [
    "## Skewness ##\n",
    ">* If skewness is less than −1 or greater than +1, the distribution is highly skewed.\n",
    "* If skewness is between −1 and −½ or between +½ and +1, the distribution is moderately skewed.\n",
    "* If skewness is between −½ and +½, the distribution is approximately symmetric.\n",
    "* A symmetrical distribution has a skewness of zero.\n",
    "* An asymmetrical distribution with a long tail to the right (higher values) has a positive skew.\n",
    "* An asymmetrical distribution with a long tail to the left (lower values) has a negative skew."
   ]
  },
  {
   "cell_type": "code",
   "execution_count": null,
   "metadata": {},
   "outputs": [],
   "source": [
    "# check the skewness of the dataframe\n",
    "df.skew()"
   ]
  },
  {
   "cell_type": "markdown",
   "metadata": {},
   "source": [
    "## Take-away\n",
    "* All features seem to be highly skewed and normalization is necessary in the data preparation phase."
   ]
  },
  {
   "cell_type": "markdown",
   "metadata": {},
   "source": [
    "## Correlation Analysis (on original features)\n",
    "___"
   ]
  },
  {
   "cell_type": "code",
   "execution_count": null,
   "metadata": {},
   "outputs": [],
   "source": [
    "# define correlation matrix (absolute corr values)\n",
    "data_corr = df[['Administrative', 'Administrative_Duration', 'Informational', 'Informational_Duration', 'ProductRelated', 'ProductRelated_Duration', 'BounceRates', 'ExitRates', 'PageValues']] \n",
    "\n",
    "# define a correlation matrix\n",
    "corr_matrix = data_corr.corr().abs()\n",
    "\n",
    "# show correlation matrix\n",
    "#corr_matrix"
   ]
  },
  {
   "cell_type": "code",
   "execution_count": null,
   "metadata": {},
   "outputs": [],
   "source": [
    "#source:  https://stackoverflow.com/questions/17778394/list-highest-correlation-pairs-from-a-large-correlation-matrix-in-pandas\n",
    "# create a function to drop the redundant pairs in the correlation matrix (all correlations are mirrored diagionaly)\n",
    "def get_redundant_pairs(df):\n",
    "    '''Get diagonal and lower triangular pairs of correlation matrix'''\n",
    "    pairs_to_drop = set()\n",
    "    cols = df.columns\n",
    "    for i in range(0, df.shape[1]):\n",
    "        for j in range(0, i+1):\n",
    "            pairs_to_drop.add((cols[i], cols[j]))\n",
    "    return pairs_to_drop\n",
    "\n",
    "def get_top_abs_correlations(df, n=5):\n",
    "    au_corr = df.corr().abs().unstack()\n",
    "    labels_to_drop = get_redundant_pairs(df)\n",
    "    au_corr = au_corr.drop(labels=labels_to_drop).sort_values(ascending=False)\n",
    "    return au_corr[0:n]\n",
    "\n",
    "print('----------------------------------------------------')\n",
    "print('Top Absolute Correlations')\n",
    "print('----------------------------------------------------')\n",
    "# show top 'n' correlations\n",
    "get_top_abs_correlations(data_corr, n=10)\n",
    "\n",
    "# only show correlations higher or equal to 0.5\n",
    "get_top_abs_correlations(data_corr, n=10)[get_top_abs_correlations(data_corr, n=10) >= 0.5]\n",
    "\n",
    "# Our threshold is set to 0.5 for dropping either one of the highly correlated variables"
   ]
  },
  {
   "cell_type": "code",
   "execution_count": null,
   "metadata": {},
   "outputs": [],
   "source": [
    "# heatmap without duplicates\n",
    "# source: https://seaborn.pydata.org/generated/seaborn.heatmap.html\n",
    "mask = np.zeros_like(corr_matrix)\n",
    "mask[np.triu_indices_from(mask)] = True\n",
    "with sns.axes_style(\"white\"):\n",
    "    f, ax = plt.subplots(figsize=(10, 5))\n",
    "    ax = sns.heatmap(corr_matrix, mask=mask, vmax=1, square=True)"
   ]
  },
  {
   "cell_type": "markdown",
   "metadata": {},
   "source": [
    "## Take-away\n",
    "> 4 Continuous features are highly correlated with another feature in the dataset.\n",
    "    Either these features need to be combined or 1 of the correlated features should not be included in the modeling phase.\n",
    "- BounceRates with ExitRates\n",
    "- ProductRelated with ProductRelated_Duration\n",
    "- Informational with Informational_Duration\n",
    "- Administrative with Administratie_Duration"
   ]
  },
  {
   "cell_type": "markdown",
   "metadata": {},
   "source": [
    "### Correlation Analysis between categorical features"
   ]
  },
  {
   "cell_type": "code",
   "execution_count": null,
   "metadata": {},
   "outputs": [],
   "source": [
    "#pip install dython --user\n",
    "from dython import nominal\n",
    "# source: https://github.com/shakedzy/dython/issues/2\n",
    "\n",
    "nominal.associations(df[['Weekend','OperatingSystems', 'Browser', 'Region', 'TrafficType', 'Month', 'VisitorType', 'SpecialDay']], nominal_columns='all')\n",
    "#nominal.associations(df, nominal_columns=['Weekend','OperatingSystems', 'Browser', 'Region', 'TrafficType', 'Month', 'VisitorType'])\n",
    "#nominal.associations(df[['PageValues', 'VisitorType']])"
   ]
  },
  {
   "cell_type": "markdown",
   "metadata": {},
   "source": [
    "## Take-away\n",
    "> 2 Categorical features are highly correlated with another feature in the dataset.\n",
    "- OperatingSystems with Browser (60%)\n",
    "- VisitorType with Browser (51%)"
   ]
  }
 ],
 "metadata": {
  "kernelspec": {
   "display_name": "Python 3",
   "language": "python",
   "name": "python3"
  },
  "language_info": {
   "codemirror_mode": {
    "name": "ipython",
    "version": 3
   },
   "file_extension": ".py",
   "mimetype": "text/x-python",
   "name": "python",
   "nbconvert_exporter": "python",
   "pygments_lexer": "ipython3",
   "version": "3.6.7"
  }
 },
 "nbformat": 4,
 "nbformat_minor": 4
}
