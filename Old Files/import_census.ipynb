{
 "cells": [
  {
   "cell_type": "markdown",
   "metadata": {},
   "source": [
    "__US Census Data__"
   ]
  },
  {
   "cell_type": "code",
   "execution_count": null,
   "metadata": {},
   "outputs": [],
   "source": []
  },
  {
   "cell_type": "markdown",
   "metadata": {},
   "source": [
    "__Sources__"
   ]
  },
  {
   "cell_type": "code",
   "execution_count": null,
   "metadata": {},
   "outputs": [],
   "source": [
    "# source: https://www.census.gov/data/developers/data-sets/decennial-census.html\n",
    "# table of variables source: https://api.census.gov/data/2010/dec/sf1/variables.html"
   ]
  },
  {
   "cell_type": "code",
   "execution_count": null,
   "metadata": {},
   "outputs": [],
   "source": [
    "# get api code for census --> \"cd1f52ad7e8ea45d92f2f657f56da781e3687cc8b\"\n",
    "# api.census.gov/data/2010/dec/sf1?"
   ]
  },
  {
   "cell_type": "code",
   "execution_count": null,
   "metadata": {},
   "outputs": [],
   "source": [
    "# https://pypi.org/project/CensusData/ --> pip install CensusData\n",
    "# https://pypi.org/project/census/ --> pip install Census"
   ]
  },
  {
   "cell_type": "markdown",
   "metadata": {},
   "source": [
    "__Installing Process__"
   ]
  },
  {
   "cell_type": "code",
   "execution_count": 4,
   "metadata": {},
   "outputs": [
    {
     "name": "stdout",
     "output_type": "stream",
     "text": [
      "Collecting census\n",
      "  Using cached https://files.pythonhosted.org/packages/2e/e6/3bca9b97b6027263382c19fcfcc73bb3bc92f851f3ca1c0ad2395b70da33/census-0.8.14-py2.py3-none-any.whl\n",
      "Processing /home/jupyter-msivilli/.cache/pip/wheels/8b/99/a0/81daf51dcd359a9377b110a8a886b3895921802d2fc1b2397e/future-0.18.2-cp36-none-any.whl\n",
      "Requirement already satisfied: requests>=1.1.0 in /opt/tljh/user/lib/python3.6/site-packages (from census) (2.22.0)\n",
      "Requirement already satisfied: certifi>=2017.4.17 in /opt/tljh/user/lib/python3.6/site-packages (from requests>=1.1.0->census) (2020.4.5.1)\n",
      "Requirement already satisfied: urllib3!=1.25.0,!=1.25.1,<1.26,>=1.21.1 in /opt/tljh/user/lib/python3.6/site-packages (from requests>=1.1.0->census) (1.25.7)\n",
      "Requirement already satisfied: chardet<3.1.0,>=3.0.2 in /opt/tljh/user/lib/python3.6/site-packages (from requests>=1.1.0->census) (3.0.4)\n",
      "Requirement already satisfied: idna<2.9,>=2.5 in /opt/tljh/user/lib/python3.6/site-packages (from requests>=1.1.0->census) (2.8)\n",
      "Installing collected packages: future, census\n",
      "\u001b[33m  WARNING: The scripts futurize and pasteurize are installed in '/home/jupyter-msivilli/.local/bin' which is not on PATH.\n",
      "  Consider adding this directory to PATH or, if you prefer to suppress this warning, use --no-warn-script-location.\u001b[0m\n",
      "Successfully installed census-0.8.14 future-0.18.2\n",
      "Note: you may need to restart the kernel to use updated packages.\n"
     ]
    }
   ],
   "source": [
    "pip install --user census"
   ]
  },
  {
   "cell_type": "code",
   "execution_count": 5,
   "metadata": {},
   "outputs": [
    {
     "name": "stdout",
     "output_type": "stream",
     "text": [
      "Collecting us\n",
      "  Downloading https://files.pythonhosted.org/packages/88/04/04323aefa1871de30286d3decae7706481c73bd428cf0c08e158bfa259a6/us-2.0.2.tar.gz\n",
      "Collecting jellyfish==0.6.1\n",
      "\u001b[?25l  Downloading https://files.pythonhosted.org/packages/61/3f/60ac86fb43dfbf976768e80674b5538e535f6eca5aa7806cf2fdfd63550f/jellyfish-0.6.1.tar.gz (132kB)\n",
      "\u001b[K     |████████████████████████████████| 133kB 4.2MB/s \n",
      "\u001b[?25hBuilding wheels for collected packages: us, jellyfish\n",
      "  Building wheel for us (setup.py) ... \u001b[?25ldone\n",
      "\u001b[?25h  Created wheel for us: filename=us-2.0.2-cp36-none-any.whl size=11928 sha256=f849b50615f5e2fdfcb4a6290413bf5c2c6eb1a76dd471e66264bb39cbb3e4e9\n",
      "  Stored in directory: /home/jupyter-msivilli/.cache/pip/wheels/e2/16/45/6453383ffa495670f0f6b80a3e697a9771d98cfbaf8b451e73\n",
      "  Building wheel for jellyfish (setup.py) ... \u001b[?25ldone\n",
      "\u001b[?25h  Created wheel for jellyfish: filename=jellyfish-0.6.1-cp36-cp36m-linux_x86_64.whl size=84181 sha256=afece0bb07892831fce4fa66f4946d4741621407ba2d4b859d820d5e32b122cc\n",
      "  Stored in directory: /home/jupyter-msivilli/.cache/pip/wheels/9c/6f/33/92bb9a4b4562a60ba6a80cedbab8907e48bc7a8b1f369ea0ae\n",
      "Successfully built us jellyfish\n",
      "Installing collected packages: jellyfish, us\n",
      "\u001b[33m  WARNING: The script states is installed in '/home/jupyter-msivilli/.local/bin' which is not on PATH.\n",
      "  Consider adding this directory to PATH or, if you prefer to suppress this warning, use --no-warn-script-location.\u001b[0m\n",
      "Successfully installed jellyfish-0.6.1 us-2.0.2\n",
      "Note: you may need to restart the kernel to use updated packages.\n"
     ]
    }
   ],
   "source": [
    "pip install --user us"
   ]
  },
  {
   "cell_type": "code",
   "execution_count": 7,
   "metadata": {},
   "outputs": [
    {
     "name": "stdout",
     "output_type": "stream",
     "text": [
      "Collecting CensusData\n",
      "\u001b[?25l  Downloading https://files.pythonhosted.org/packages/2e/80/09af724ad019b202602cbc47a74737b9609971e3db69e163213732f2f724/CensusData-1.7.tar.gz (23.2MB)\n",
      "\u001b[K     |████████████████████████████████| 23.2MB 2.6MB/s \n",
      "\u001b[?25hRequirement already satisfied: pandas in /opt/tljh/user/lib/python3.6/site-packages (from CensusData) (0.25.3)\n",
      "Requirement already satisfied: requests in /opt/tljh/user/lib/python3.6/site-packages (from CensusData) (2.22.0)\n",
      "Requirement already satisfied: python-dateutil>=2.6.1 in /opt/tljh/user/lib/python3.6/site-packages (from pandas->CensusData) (2.8.1)\n",
      "Requirement already satisfied: pytz>=2017.2 in /opt/tljh/user/lib/python3.6/site-packages (from pandas->CensusData) (2019.3)\n",
      "Requirement already satisfied: numpy>=1.13.3 in /opt/tljh/user/lib/python3.6/site-packages (from pandas->CensusData) (1.18.1)\n",
      "Requirement already satisfied: chardet<3.1.0,>=3.0.2 in /opt/tljh/user/lib/python3.6/site-packages (from requests->CensusData) (3.0.4)\n",
      "Requirement already satisfied: urllib3!=1.25.0,!=1.25.1,<1.26,>=1.21.1 in /opt/tljh/user/lib/python3.6/site-packages (from requests->CensusData) (1.25.7)\n",
      "Requirement already satisfied: idna<2.9,>=2.5 in /opt/tljh/user/lib/python3.6/site-packages (from requests->CensusData) (2.8)\n",
      "Requirement already satisfied: certifi>=2017.4.17 in /opt/tljh/user/lib/python3.6/site-packages (from requests->CensusData) (2020.4.5.1)\n",
      "Requirement already satisfied: six>=1.5 in /opt/tljh/user/lib/python3.6/site-packages (from python-dateutil>=2.6.1->pandas->CensusData) (1.14.0)\n",
      "Building wheels for collected packages: CensusData\n",
      "  Building wheel for CensusData (setup.py) ... \u001b[?25ldone\n",
      "\u001b[?25h  Created wheel for CensusData: filename=CensusData-1.7-cp36-none-any.whl size=24706085 sha256=813e0cd96bd77ea8cf214f067e789965cbb0107a7a095b7920c25df184066ccd\n",
      "  Stored in directory: /home/jupyter-msivilli/.cache/pip/wheels/e8/9e/f9/8d0b054be9981c6f675630de9f32ce59620f8b515c13542a4c\n",
      "Successfully built CensusData\n",
      "Installing collected packages: CensusData\n",
      "Successfully installed CensusData-1.7\n",
      "Note: you may need to restart the kernel to use updated packages.\n"
     ]
    }
   ],
   "source": [
    "pip install --user CensusData"
   ]
  },
  {
   "cell_type": "code",
   "execution_count": 1,
   "metadata": {},
   "outputs": [
    {
     "name": "stdout",
     "output_type": "stream",
     "text": [
      "Requirement already satisfied: geopandas in /home/jupyter-msivilli/.local/lib/python3.6/site-packages (0.7.0)\n",
      "Requirement already satisfied: fiona in /home/jupyter-msivilli/.local/lib/python3.6/site-packages (from geopandas) (1.8.13.post1)\n",
      "Requirement already satisfied: shapely in /home/jupyter-msivilli/.local/lib/python3.6/site-packages (from geopandas) (1.7.0)\n",
      "Requirement already satisfied: pandas>=0.23.0 in /opt/tljh/user/lib/python3.6/site-packages (from geopandas) (0.25.3)\n",
      "Requirement already satisfied: pyproj>=2.2.0 in /home/jupyter-msivilli/.local/lib/python3.6/site-packages (from geopandas) (2.6.1.post1)\n",
      "Requirement already satisfied: click-plugins>=1.0 in /home/jupyter-msivilli/.local/lib/python3.6/site-packages (from fiona->geopandas) (1.1.1)\n",
      "Requirement already satisfied: attrs>=17 in /opt/tljh/user/lib/python3.6/site-packages (from fiona->geopandas) (19.3.0)\n",
      "Requirement already satisfied: six>=1.7 in /opt/tljh/user/lib/python3.6/site-packages (from fiona->geopandas) (1.14.0)\n",
      "Requirement already satisfied: cligj>=0.5 in /home/jupyter-msivilli/.local/lib/python3.6/site-packages (from fiona->geopandas) (0.5.0)\n",
      "Requirement already satisfied: click<8,>=4.0 in /home/jupyter-msivilli/.local/lib/python3.6/site-packages (from fiona->geopandas) (7.1.2)\n",
      "Requirement already satisfied: munch in /home/jupyter-msivilli/.local/lib/python3.6/site-packages (from fiona->geopandas) (2.5.0)\n",
      "Requirement already satisfied: numpy>=1.13.3 in /opt/tljh/user/lib/python3.6/site-packages (from pandas>=0.23.0->geopandas) (1.18.1)\n",
      "Requirement already satisfied: pytz>=2017.2 in /opt/tljh/user/lib/python3.6/site-packages (from pandas>=0.23.0->geopandas) (2019.3)\n",
      "Requirement already satisfied: python-dateutil>=2.6.1 in /opt/tljh/user/lib/python3.6/site-packages (from pandas>=0.23.0->geopandas) (2.8.1)\n",
      "Note: you may need to restart the kernel to use updated packages.\n"
     ]
    }
   ],
   "source": [
    "pip install --user geopandas --no-warn-script-location"
   ]
  },
  {
   "cell_type": "code",
   "execution_count": 8,
   "metadata": {},
   "outputs": [],
   "source": [
    "# Import Census data and Geographies\n",
    "# List of Geographies and codes: https://jtleider.github.io/censusdata/geographies.html\n",
    "\n",
    "from census import Census\n",
    "from us import states\n",
    "c = Census(\"cd1f52ad7e8ea45d92f2f657f56da781e3687cc8b\")\n",
    "\n",
    "# importing additional libraries\n",
    "import numpy as np\n",
    "import matplotlib.pyplot as plt\n",
    "import seaborn as sns\n",
    "sns.set()\n",
    "import sklearn\n",
    "\n",
    "#  importing the censusdata and pandas modules, and setting some display options in pandas\n",
    "\n",
    "import pandas as pd\n",
    "import censusdata\n",
    "pd.set_option('display.expand_frame_repr', False)\n",
    "pd.set_option('display.precision', 2)"
   ]
  },
  {
   "cell_type": "code",
   "execution_count": null,
   "metadata": {},
   "outputs": [],
   "source": []
  },
  {
   "cell_type": "code",
   "execution_count": null,
   "metadata": {},
   "outputs": [],
   "source": []
  }
 ],
 "metadata": {
  "kernelspec": {
   "display_name": "Python 3",
   "language": "python",
   "name": "python3"
  },
  "language_info": {
   "codemirror_mode": {
    "name": "ipython",
    "version": 3
   },
   "file_extension": ".py",
   "mimetype": "text/x-python",
   "name": "python",
   "nbconvert_exporter": "python",
   "pygments_lexer": "ipython3",
   "version": "3.6.7"
  }
 },
 "nbformat": 4,
 "nbformat_minor": 4
}
