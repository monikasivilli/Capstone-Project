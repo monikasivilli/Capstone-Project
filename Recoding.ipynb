{
 "cells": [
  {
   "cell_type": "markdown",
   "metadata": {},
   "source": [
    "## Recoding\n",
    "___"
   ]
  },
  {
   "cell_type": "markdown",
   "metadata": {},
   "source": [
    "<b> Import modules </b>"
   ]
  },
  {
   "cell_type": "code",
   "execution_count": 9,
   "metadata": {},
   "outputs": [],
   "source": [
    "import pandas as pd\n",
    "import numpy as np\n",
    "from sklearn import preprocessing\n",
    "import matplotlib.pyplot as plt\n",
    "import scipy.stats as spstats\n",
    "%matplotlib inline"
   ]
  },
  {
   "cell_type": "markdown",
   "metadata": {},
   "source": [
    "<b> Read csv file to a pandas dataframe </b>"
   ]
  },
  {
   "cell_type": "code",
   "execution_count": 33,
   "metadata": {},
   "outputs": [
    {
     "data": {
      "text/html": [
       "<div>\n",
       "<style scoped>\n",
       "    .dataframe tbody tr th:only-of-type {\n",
       "        vertical-align: middle;\n",
       "    }\n",
       "\n",
       "    .dataframe tbody tr th {\n",
       "        vertical-align: top;\n",
       "    }\n",
       "\n",
       "    .dataframe thead th {\n",
       "        text-align: right;\n",
       "    }\n",
       "</style>\n",
       "<table border=\"1\" class=\"dataframe\">\n",
       "  <thead>\n",
       "    <tr style=\"text-align: right;\">\n",
       "      <th></th>\n",
       "      <th>Full Name</th>\n",
       "      <th>Country Name</th>\n",
       "      <th>State</th>\n",
       "      <th>State Abbr</th>\n",
       "      <th>Total Population</th>\n",
       "      <th>Households SNAP</th>\n",
       "      <th>Estimated Individuals SNAP</th>\n",
       "      <th>Total Citizen Educated in US</th>\n",
       "      <th>Citizen Less than High School  Education</th>\n",
       "      <th>Citizen High School  Graduate</th>\n",
       "      <th>...</th>\n",
       "      <th>Median Age</th>\n",
       "      <th>Male Median Age</th>\n",
       "      <th>Female Median Age</th>\n",
       "      <th>Total Households</th>\n",
       "      <th>Average Household Size</th>\n",
       "      <th>Total Families</th>\n",
       "      <th>Total Confirmed Cases</th>\n",
       "      <th>Total Deaths</th>\n",
       "      <th>Case Rate per 1000</th>\n",
       "      <th>Death Rate 1000</th>\n",
       "    </tr>\n",
       "  </thead>\n",
       "  <tbody>\n",
       "    <tr>\n",
       "      <th>0</th>\n",
       "      <td>Autauga County, Alabama</td>\n",
       "      <td>Autauga County</td>\n",
       "      <td>Alabama</td>\n",
       "      <td>AL</td>\n",
       "      <td>54571</td>\n",
       "      <td>2802</td>\n",
       "      <td>7509</td>\n",
       "      <td>36757</td>\n",
       "      <td>4521</td>\n",
       "      <td>12363</td>\n",
       "      <td>...</td>\n",
       "      <td>37.0</td>\n",
       "      <td>35.9</td>\n",
       "      <td>37.9</td>\n",
       "      <td>20221</td>\n",
       "      <td>3</td>\n",
       "      <td>14613</td>\n",
       "      <td>400</td>\n",
       "      <td>8</td>\n",
       "      <td>7.330</td>\n",
       "      <td>0.147</td>\n",
       "    </tr>\n",
       "    <tr>\n",
       "      <th>1</th>\n",
       "      <td>Baldwin County, Alabama</td>\n",
       "      <td>Baldwin County</td>\n",
       "      <td>Alabama</td>\n",
       "      <td>AL</td>\n",
       "      <td>182265</td>\n",
       "      <td>6644</td>\n",
       "      <td>16344</td>\n",
       "      <td>143022</td>\n",
       "      <td>13997</td>\n",
       "      <td>39771</td>\n",
       "      <td>...</td>\n",
       "      <td>41.1</td>\n",
       "      <td>40.1</td>\n",
       "      <td>42.2</td>\n",
       "      <td>73180</td>\n",
       "      <td>2</td>\n",
       "      <td>41898</td>\n",
       "      <td>401</td>\n",
       "      <td>9</td>\n",
       "      <td>2.200</td>\n",
       "      <td>0.049</td>\n",
       "    </tr>\n",
       "    <tr>\n",
       "      <th>2</th>\n",
       "      <td>Barbour County, Alabama</td>\n",
       "      <td>Barbour County</td>\n",
       "      <td>Alabama</td>\n",
       "      <td>AL</td>\n",
       "      <td>27457</td>\n",
       "      <td>2468</td>\n",
       "      <td>6096</td>\n",
       "      <td>18434</td>\n",
       "      <td>4960</td>\n",
       "      <td>6549</td>\n",
       "      <td>...</td>\n",
       "      <td>39.0</td>\n",
       "      <td>37.2</td>\n",
       "      <td>41.6</td>\n",
       "      <td>9820</td>\n",
       "      <td>2</td>\n",
       "      <td>6015</td>\n",
       "      <td>263</td>\n",
       "      <td>1</td>\n",
       "      <td>9.579</td>\n",
       "      <td>0.036</td>\n",
       "    </tr>\n",
       "    <tr>\n",
       "      <th>3</th>\n",
       "      <td>Bibb County, Alabama</td>\n",
       "      <td>Bibb County</td>\n",
       "      <td>Alabama</td>\n",
       "      <td>AL</td>\n",
       "      <td>22915</td>\n",
       "      <td>933</td>\n",
       "      <td>2426</td>\n",
       "      <td>15859</td>\n",
       "      <td>2833</td>\n",
       "      <td>6958</td>\n",
       "      <td>...</td>\n",
       "      <td>37.8</td>\n",
       "      <td>36.5</td>\n",
       "      <td>39.5</td>\n",
       "      <td>7953</td>\n",
       "      <td>3</td>\n",
       "      <td>5201</td>\n",
       "      <td>121</td>\n",
       "      <td>1</td>\n",
       "      <td>5.280</td>\n",
       "      <td>0.044</td>\n",
       "    </tr>\n",
       "    <tr>\n",
       "      <th>4</th>\n",
       "      <td>Blount County, Alabama</td>\n",
       "      <td>Blount County</td>\n",
       "      <td>Alabama</td>\n",
       "      <td>AL</td>\n",
       "      <td>57322</td>\n",
       "      <td>2244</td>\n",
       "      <td>5902</td>\n",
       "      <td>39475</td>\n",
       "      <td>7980</td>\n",
       "      <td>12740</td>\n",
       "      <td>...</td>\n",
       "      <td>39.0</td>\n",
       "      <td>38.0</td>\n",
       "      <td>40.0</td>\n",
       "      <td>21578</td>\n",
       "      <td>3</td>\n",
       "      <td>14106</td>\n",
       "      <td>130</td>\n",
       "      <td>1</td>\n",
       "      <td>2.268</td>\n",
       "      <td>0.017</td>\n",
       "    </tr>\n",
       "  </tbody>\n",
       "</table>\n",
       "<p>5 rows × 41 columns</p>\n",
       "</div>"
      ],
      "text/plain": [
       "                 Full Name    Country Name    State State Abbr  \\\n",
       "0  Autauga County, Alabama  Autauga County  Alabama         AL   \n",
       "1  Baldwin County, Alabama  Baldwin County  Alabama         AL   \n",
       "2  Barbour County, Alabama  Barbour County  Alabama         AL   \n",
       "3     Bibb County, Alabama     Bibb County  Alabama         AL   \n",
       "4   Blount County, Alabama   Blount County  Alabama         AL   \n",
       "\n",
       "    Total Population    Households SNAP    Estimated Individuals SNAP   \\\n",
       "0               54571               2802                          7509   \n",
       "1              182265               6644                         16344   \n",
       "2               27457               2468                          6096   \n",
       "3               22915                933                          2426   \n",
       "4               57322               2244                          5902   \n",
       "\n",
       "    Total Citizen Educated in US    Citizen Less than High School  Education   \\\n",
       "0                           36757                                        4521   \n",
       "1                          143022                                       13997   \n",
       "2                           18434                                        4960   \n",
       "3                           15859                                        2833   \n",
       "4                           39475                                        7980   \n",
       "\n",
       "    Citizen High School  Graduate   ...  Median Age  Male Median Age  \\\n",
       "0                            12363  ...        37.0             35.9   \n",
       "1                            39771  ...        41.1             40.1   \n",
       "2                             6549  ...        39.0             37.2   \n",
       "3                             6958  ...        37.8             36.5   \n",
       "4                            12740  ...        39.0             38.0   \n",
       "\n",
       "   Female Median Age   Total Households    Average Household Size   \\\n",
       "0               37.9               20221                         3   \n",
       "1               42.2               73180                         2   \n",
       "2               41.6                9820                         2   \n",
       "3               39.5                7953                         3   \n",
       "4               40.0               21578                         3   \n",
       "\n",
       "    Total Families   Total Confirmed Cases  Total Deaths  Case Rate per 1000  \\\n",
       "0             14613                    400             8               7.330   \n",
       "1             41898                    401             9               2.200   \n",
       "2              6015                    263             1               9.579   \n",
       "3              5201                    121             1               5.280   \n",
       "4             14106                    130             1               2.268   \n",
       "\n",
       "   Death Rate 1000  \n",
       "0            0.147  \n",
       "1            0.049  \n",
       "2            0.036  \n",
       "3            0.044  \n",
       "4            0.017  \n",
       "\n",
       "[5 rows x 41 columns]"
      ]
     },
     "execution_count": 33,
     "metadata": {},
     "output_type": "execute_result"
    }
   ],
   "source": [
    "df = pd.read_csv(\"census_covid_final.csv\")\n",
    "df.head()"
   ]
  },
  {
   "cell_type": "markdown",
   "metadata": {},
   "source": [
    "<b> Features grouped by data type </b>"
   ]
  },
  {
   "cell_type": "code",
   "execution_count": 11,
   "metadata": {},
   "outputs": [
    {
     "data": {
      "text/plain": [
       "{dtype('int64'): Index([' Total Population ', ' Households SNAP ',\n",
       "        ' Estimated Individuals SNAP ', ' Total Citizen Educated in US ',\n",
       "        ' Citizen Less than High School  Education ',\n",
       "        ' Citizen High School  Graduate ', ' Citizen Some College  Education ',\n",
       "        ' Citizen College Degree  ',\n",
       "        ' Citizen Graduate or Professional Degree ', ' Total Citizen Income ',\n",
       "        ' Citizen No Income ', 'Citizen Income 1-9999',\n",
       "        'Citizen Income 10000-14999', 'Citizen Income 15000-24999',\n",
       "        'Citizen Income 25000-34999', 'Citizen Income 35000-49999',\n",
       "        'Citizen Income 50000-64999', 'Citizen Income 65000-74999',\n",
       "        'Citizen Income over 75000 ', ' One Race Population ', ' White Race ',\n",
       "        ' Black Race ', ' Native American Race ', ' Asian Race ',\n",
       "        ' Pacific Islander Race ', ' Other Race Alone ', ' Hispanic or Latino ',\n",
       "        ' Total Households ', ' Average Household Size ', ' Total Families ',\n",
       "        'Total Confirmed Cases', 'Total Deaths'],\n",
       "       dtype='object'),\n",
       " dtype('float64'): Index(['Median Age', 'Male Median Age', 'Female Median Age',\n",
       "        'Case Rate per 1000', 'Death Rate 1000'],\n",
       "       dtype='object'),\n",
       " dtype('O'): Index(['Full Name', 'Country Name', 'State', 'State Abbr'], dtype='object')}"
      ]
     },
     "execution_count": 11,
     "metadata": {},
     "output_type": "execute_result"
    }
   ],
   "source": [
    "df.columns.to_series().groupby(df.dtypes).groups"
   ]
  },
  {
   "cell_type": "markdown",
   "metadata": {},
   "source": [
    "# Recode Target Variables to Categorical instead of Continous"
   ]
  },
  {
   "cell_type": "markdown",
   "metadata": {},
   "source": [
    "_In order to use KNN the target variables need to be categorical. In the original dataset the target variables (Total Confirmed Cases, Total Deaths, Case Rate per 1000, Death Rate 1000) are continous. However, these target variables can be continous for the Linear Regression Model._"
   ]
  },
  {
   "cell_type": "markdown",
   "metadata": {},
   "source": [
    "# Recoding 'Case Rate per 1,000'"
   ]
  },
  {
   "cell_type": "code",
   "execution_count": 17,
   "metadata": {},
   "outputs": [
    {
     "data": {
      "text/plain": [
       "0    7.330\n",
       "1    2.200\n",
       "2    9.579\n",
       "3    5.280\n",
       "4    2.268\n",
       "Name: Case Rate per 1000, dtype: float64"
      ]
     },
     "execution_count": 17,
     "metadata": {},
     "output_type": "execute_result"
    }
   ],
   "source": [
    "df['Case Rate per 1000'].head()"
   ]
  },
  {
   "cell_type": "code",
   "execution_count": 23,
   "metadata": {},
   "outputs": [
    {
     "data": {
      "text/plain": [
       "0    7.33\n",
       "1    2.20\n",
       "2    9.58\n",
       "3    5.28\n",
       "4    2.27\n",
       "Name: Case Rate per 1000, dtype: float64"
      ]
     },
     "execution_count": 23,
     "metadata": {},
     "output_type": "execute_result"
    }
   ],
   "source": [
    "# round column to hundreth place \n",
    "df['Case Rate per 1000'] = round(df['Case Rate per 1000'],2) \n",
    "df['Case Rate per 1000'].head()"
   ]
  },
  {
   "cell_type": "code",
   "execution_count": 25,
   "metadata": {},
   "outputs": [
    {
     "data": {
      "text/plain": [
       "Text(0, 0.5, 'Frequency')"
      ]
     },
     "execution_count": 25,
     "metadata": {},
     "output_type": "execute_result"
    },
    {
     "data": {
      "image/png": "[encoded data removed]",
      "text/plain": [
       "<Figure size 432x288 with 1 Axes>"
      ]
     },
     "metadata": {
      "needs_background": "light"
     },
     "output_type": "display_data"
    }
   ],
   "source": [
    "fig, ax = plt.subplots()\n",
    "df['Case Rate per 1000'].hist(color='#A9C5D3', edgecolor='black',  \n",
    "                          grid=False)\n",
    "ax.set_title('Case Rate Histogram', fontsize=12)\n",
    "ax.set_xlabel('Case Rate', fontsize=12)\n",
    "ax.set_ylabel('Frequency', fontsize=12)"
   ]
  },
  {
   "cell_type": "code",
   "execution_count": 37,
   "metadata": {},
   "outputs": [
    {
     "ename": "KeyError",
     "evalue": "\"['Case_bin_round', 'Case_bin_custom_label', 'Case_bin_custom_range'] not in index\"",
     "output_type": "error",
     "traceback": [
      "\u001b[0;31m---------------------------------------------------------------------------\u001b[0m",
      "\u001b[0;31mKeyError\u001b[0m                                  Traceback (most recent call last)",
      "\u001b[0;32m<ipython-input-37-3d4e83caf725>\u001b[0m in \u001b[0;36m<module>\u001b[0;34m\u001b[0m\n\u001b[1;32m      6\u001b[0m \u001b[0mdf\u001b[0m\u001b[0;34m[\u001b[0m\u001b[0;34m'Case_rate_custom_label'\u001b[0m\u001b[0;34m]\u001b[0m \u001b[0;34m=\u001b[0m \u001b[0mpd\u001b[0m\u001b[0;34m.\u001b[0m\u001b[0mcut\u001b[0m\u001b[0;34m(\u001b[0m\u001b[0mnp\u001b[0m\u001b[0;34m.\u001b[0m\u001b[0marray\u001b[0m\u001b[0;34m(\u001b[0m\u001b[0mdf\u001b[0m\u001b[0;34m[\u001b[0m\u001b[0;34m'Case Rate per 1000'\u001b[0m\u001b[0;34m]\u001b[0m\u001b[0;34m)\u001b[0m\u001b[0;34m,\u001b[0m\u001b[0mbins\u001b[0m\u001b[0;34m=\u001b[0m\u001b[0mcase_bin_ranges\u001b[0m\u001b[0;34m,\u001b[0m\u001b[0mlabels\u001b[0m\u001b[0;34m=\u001b[0m\u001b[0mcase_bin_names\u001b[0m\u001b[0;34m)\u001b[0m\u001b[0;34m\u001b[0m\u001b[0;34m\u001b[0m\u001b[0m\n\u001b[1;32m      7\u001b[0m \u001b[0;34m\u001b[0m\u001b[0m\n\u001b[0;32m----> 8\u001b[0;31m \u001b[0mdf\u001b[0m\u001b[0;34m[\u001b[0m\u001b[0;34m[\u001b[0m\u001b[0;34m'Full Name'\u001b[0m\u001b[0;34m,\u001b[0m \u001b[0;34m'Case Rate per 1000'\u001b[0m\u001b[0;34m,\u001b[0m \u001b[0;34m'Case_bin_round'\u001b[0m\u001b[0;34m,\u001b[0m\u001b[0;34m'Case_bin_custom_range'\u001b[0m\u001b[0;34m,\u001b[0m\u001b[0;34m'Case_bin_custom_label'\u001b[0m\u001b[0;34m]\u001b[0m\u001b[0;34m]\u001b[0m\u001b[0;34m\u001b[0m\u001b[0;34m\u001b[0m\u001b[0m\n\u001b[0m",
      "\u001b[0;32m/opt/tljh/user/lib/python3.6/site-packages/pandas/core/frame.py\u001b[0m in \u001b[0;36m__getitem__\u001b[0;34m(self, key)\u001b[0m\n\u001b[1;32m   2999\u001b[0m             \u001b[0;32mif\u001b[0m \u001b[0mis_iterator\u001b[0m\u001b[0;34m(\u001b[0m\u001b[0mkey\u001b[0m\u001b[0;34m)\u001b[0m\u001b[0;34m:\u001b[0m\u001b[0;34m\u001b[0m\u001b[0;34m\u001b[0m\u001b[0m\n\u001b[1;32m   3000\u001b[0m                 \u001b[0mkey\u001b[0m \u001b[0;34m=\u001b[0m \u001b[0mlist\u001b[0m\u001b[0;34m(\u001b[0m\u001b[0mkey\u001b[0m\u001b[0;34m)\u001b[0m\u001b[0;34m\u001b[0m\u001b[0;34m\u001b[0m\u001b[0m\n\u001b[0;32m-> 3001\u001b[0;31m             \u001b[0mindexer\u001b[0m \u001b[0;34m=\u001b[0m \u001b[0mself\u001b[0m\u001b[0;34m.\u001b[0m\u001b[0mloc\u001b[0m\u001b[0;34m.\u001b[0m\u001b[0m_convert_to_indexer\u001b[0m\u001b[0;34m(\u001b[0m\u001b[0mkey\u001b[0m\u001b[0;34m,\u001b[0m \u001b[0maxis\u001b[0m\u001b[0;34m=\u001b[0m\u001b[0;36m1\u001b[0m\u001b[0;34m,\u001b[0m \u001b[0mraise_missing\u001b[0m\u001b[0;34m=\u001b[0m\u001b[0;32mTrue\u001b[0m\u001b[0;34m)\u001b[0m\u001b[0;34m\u001b[0m\u001b[0;34m\u001b[0m\u001b[0m\n\u001b[0m\u001b[1;32m   3002\u001b[0m \u001b[0;34m\u001b[0m\u001b[0m\n\u001b[1;32m   3003\u001b[0m         \u001b[0;31m# take() does not accept boolean indexers\u001b[0m\u001b[0;34m\u001b[0m\u001b[0;34m\u001b[0m\u001b[0;34m\u001b[0m\u001b[0m\n",
      "\u001b[0;32m/opt/tljh/user/lib/python3.6/site-packages/pandas/core/indexing.py\u001b[0m in \u001b[0;36m_convert_to_indexer\u001b[0;34m(self, obj, axis, is_setter, raise_missing)\u001b[0m\n\u001b[1;32m   1283\u001b[0m                 \u001b[0;31m# When setting, missing keys are not allowed, even with .loc:\u001b[0m\u001b[0;34m\u001b[0m\u001b[0;34m\u001b[0m\u001b[0;34m\u001b[0m\u001b[0m\n\u001b[1;32m   1284\u001b[0m                 \u001b[0mkwargs\u001b[0m \u001b[0;34m=\u001b[0m \u001b[0;34m{\u001b[0m\u001b[0;34m\"raise_missing\"\u001b[0m\u001b[0;34m:\u001b[0m \u001b[0;32mTrue\u001b[0m \u001b[0;32mif\u001b[0m \u001b[0mis_setter\u001b[0m \u001b[0;32melse\u001b[0m \u001b[0mraise_missing\u001b[0m\u001b[0;34m}\u001b[0m\u001b[0;34m\u001b[0m\u001b[0;34m\u001b[0m\u001b[0m\n\u001b[0;32m-> 1285\u001b[0;31m                 \u001b[0;32mreturn\u001b[0m \u001b[0mself\u001b[0m\u001b[0;34m.\u001b[0m\u001b[0m_get_listlike_indexer\u001b[0m\u001b[0;34m(\u001b[0m\u001b[0mobj\u001b[0m\u001b[0;34m,\u001b[0m \u001b[0maxis\u001b[0m\u001b[0;34m,\u001b[0m \u001b[0;34m**\u001b[0m\u001b[0mkwargs\u001b[0m\u001b[0;34m)\u001b[0m\u001b[0;34m[\u001b[0m\u001b[0;36m1\u001b[0m\u001b[0;34m]\u001b[0m\u001b[0;34m\u001b[0m\u001b[0;34m\u001b[0m\u001b[0m\n\u001b[0m\u001b[1;32m   1286\u001b[0m         \u001b[0;32melse\u001b[0m\u001b[0;34m:\u001b[0m\u001b[0;34m\u001b[0m\u001b[0;34m\u001b[0m\u001b[0m\n\u001b[1;32m   1287\u001b[0m             \u001b[0;32mtry\u001b[0m\u001b[0;34m:\u001b[0m\u001b[0;34m\u001b[0m\u001b[0;34m\u001b[0m\u001b[0m\n",
      "\u001b[0;32m/opt/tljh/user/lib/python3.6/site-packages/pandas/core/indexing.py\u001b[0m in \u001b[0;36m_get_listlike_indexer\u001b[0;34m(self, key, axis, raise_missing)\u001b[0m\n\u001b[1;32m   1090\u001b[0m \u001b[0;34m\u001b[0m\u001b[0m\n\u001b[1;32m   1091\u001b[0m         self._validate_read_indexer(\n\u001b[0;32m-> 1092\u001b[0;31m             \u001b[0mkeyarr\u001b[0m\u001b[0;34m,\u001b[0m \u001b[0mindexer\u001b[0m\u001b[0;34m,\u001b[0m \u001b[0mo\u001b[0m\u001b[0;34m.\u001b[0m\u001b[0m_get_axis_number\u001b[0m\u001b[0;34m(\u001b[0m\u001b[0maxis\u001b[0m\u001b[0;34m)\u001b[0m\u001b[0;34m,\u001b[0m \u001b[0mraise_missing\u001b[0m\u001b[0;34m=\u001b[0m\u001b[0mraise_missing\u001b[0m\u001b[0;34m\u001b[0m\u001b[0;34m\u001b[0m\u001b[0m\n\u001b[0m\u001b[1;32m   1093\u001b[0m         )\n\u001b[1;32m   1094\u001b[0m         \u001b[0;32mreturn\u001b[0m \u001b[0mkeyarr\u001b[0m\u001b[0;34m,\u001b[0m \u001b[0mindexer\u001b[0m\u001b[0;34m\u001b[0m\u001b[0;34m\u001b[0m\u001b[0m\n",
      "\u001b[0;32m/opt/tljh/user/lib/python3.6/site-packages/pandas/core/indexing.py\u001b[0m in \u001b[0;36m_validate_read_indexer\u001b[0;34m(self, key, indexer, axis, raise_missing)\u001b[0m\n\u001b[1;32m   1183\u001b[0m             \u001b[0;32mif\u001b[0m \u001b[0;32mnot\u001b[0m \u001b[0;34m(\u001b[0m\u001b[0mself\u001b[0m\u001b[0;34m.\u001b[0m\u001b[0mname\u001b[0m \u001b[0;34m==\u001b[0m \u001b[0;34m\"loc\"\u001b[0m \u001b[0;32mand\u001b[0m \u001b[0;32mnot\u001b[0m \u001b[0mraise_missing\u001b[0m\u001b[0;34m)\u001b[0m\u001b[0;34m:\u001b[0m\u001b[0;34m\u001b[0m\u001b[0;34m\u001b[0m\u001b[0m\n\u001b[1;32m   1184\u001b[0m                 \u001b[0mnot_found\u001b[0m \u001b[0;34m=\u001b[0m \u001b[0mlist\u001b[0m\u001b[0;34m(\u001b[0m\u001b[0mset\u001b[0m\u001b[0;34m(\u001b[0m\u001b[0mkey\u001b[0m\u001b[0;34m)\u001b[0m \u001b[0;34m-\u001b[0m \u001b[0mset\u001b[0m\u001b[0;34m(\u001b[0m\u001b[0max\u001b[0m\u001b[0;34m)\u001b[0m\u001b[0;34m)\u001b[0m\u001b[0;34m\u001b[0m\u001b[0;34m\u001b[0m\u001b[0m\n\u001b[0;32m-> 1185\u001b[0;31m                 \u001b[0;32mraise\u001b[0m \u001b[0mKeyError\u001b[0m\u001b[0;34m(\u001b[0m\u001b[0;34m\"{} not in index\"\u001b[0m\u001b[0;34m.\u001b[0m\u001b[0mformat\u001b[0m\u001b[0;34m(\u001b[0m\u001b[0mnot_found\u001b[0m\u001b[0;34m)\u001b[0m\u001b[0;34m)\u001b[0m\u001b[0;34m\u001b[0m\u001b[0;34m\u001b[0m\u001b[0m\n\u001b[0m\u001b[1;32m   1186\u001b[0m \u001b[0;34m\u001b[0m\u001b[0m\n\u001b[1;32m   1187\u001b[0m             \u001b[0;31m# we skip the warning on Categorical/Interval\u001b[0m\u001b[0;34m\u001b[0m\u001b[0;34m\u001b[0m\u001b[0;34m\u001b[0m\u001b[0m\n",
      "\u001b[0;31mKeyError\u001b[0m: \"['Case_bin_round', 'Case_bin_custom_label', 'Case_bin_custom_range'] not in index\""
     ]
    }
   ],
   "source": [
    "case_bin_ranges = [0.00, 5.00, 15.00, 25.00, 100.00, 187.00]\n",
    "case_bin_names = [1, 2, 3, 4, 5]\n",
    "\n",
    "df['Case_rate_custom_range'] = pd.cut(np.array(df['Case Rate per 1000']),bins=case_bin_ranges)\n",
    "\n",
    "df['Case_rate_custom_label'] = pd.cut(np.array(df['Case Rate per 1000']),bins=case_bin_ranges,labels=case_bin_names)\n",
    "\n",
    "df[['Full Name', 'Case Rate per 1000', 'Case_bin_round','Case_bin_custom_range','Case_bin_custom_label']]"
   ]
  },
  {
   "cell_type": "code",
   "execution_count": null,
   "metadata": {},
   "outputs": [],
   "source": []
  }
 ],
 "metadata": {
  "kernelspec": {
   "display_name": "Python 3",
   "language": "python",
   "name": "python3"
  },
  "language_info": {
   "codemirror_mode": {
    "name": "ipython",
    "version": 3
   },
   "file_extension": ".py",
   "mimetype": "text/x-python",
   "name": "python",
   "nbconvert_exporter": "python",
   "pygments_lexer": "ipython3",
   "version": "3.6.7"
  }
 },
 "nbformat": 4,
 "nbformat_minor": 4
}
