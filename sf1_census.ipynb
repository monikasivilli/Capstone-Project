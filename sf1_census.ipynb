{
 "cells": [
  {
   "cell_type": "markdown",
   "metadata": {},
   "source": [
    "# sf1 County Census\n",
    "___"
   ]
  },
  {
   "cell_type": "markdown",
   "metadata": {},
   "source": [
    "Summary File 1 (SF1) contain data about all people and about every housing unit. Population items include sex, age, race, Hispanic of Laiton, origin, household relationship, household type, house hold size, family type. family size and group quarters. Housing items include occupancy status, vacancy status, and tenure."
   ]
  },
  {
   "cell_type": "markdown",
   "metadata": {},
   "source": [
    "__Sources__"
   ]
  },
  {
   "cell_type": "code",
   "execution_count": null,
   "metadata": {},
   "outputs": [],
   "source": [
    "# source: https://www.census.gov/data/developers/data-sets/decennial-census.html\n",
    "# table of variables source: https://api.census.gov/data/2010/dec/sf1/variables.html"
   ]
  },
  {
   "cell_type": "code",
   "execution_count": null,
   "metadata": {},
   "outputs": [],
   "source": [
    "# get api code for census --> \"cd1f52ad7e8ea45d92f2f657f56da781e3687cc8b\"\n",
    "# api.census.gov/data/2010/dec/sf1?"
   ]
  },
  {
   "cell_type": "code",
   "execution_count": null,
   "metadata": {},
   "outputs": [],
   "source": [
    "# https://pypi.org/project/CensusData/ --> pip install CensusData\n",
    "# https://pypi.org/project/census/ --> pip install Census"
   ]
  },
  {
   "cell_type": "markdown",
   "metadata": {},
   "source": [
    "__Installing Process__"
   ]
  },
  {
   "cell_type": "code",
   "execution_count": null,
   "metadata": {},
   "outputs": [],
   "source": [
    "pip install --user census"
   ]
  },
  {
   "cell_type": "code",
   "execution_count": null,
   "metadata": {},
   "outputs": [],
   "source": [
    "pip install --user us"
   ]
  },
  {
   "cell_type": "code",
   "execution_count": null,
   "metadata": {},
   "outputs": [],
   "source": [
    "pip install --user CensusData"
   ]
  },
  {
   "cell_type": "code",
   "execution_count": null,
   "metadata": {},
   "outputs": [],
   "source": [
    "pip install --user geopandas --no-warn-script-location"
   ]
  },
  {
   "cell_type": "code",
   "execution_count": 2,
   "metadata": {},
   "outputs": [],
   "source": [
    "# Import Census data and Geographies\n",
    "# List of Geographies and codes: https://jtleider.github.io/censusdata/geographies.html\n",
    "\n",
    "from census import Census\n",
    "from us import states\n",
    "c = Census(\"cd1f52ad7e8ea45d92f2f657f56da781e3687cc8b\")\n",
    "\n",
    "# importing additional libraries\n",
    "import numpy as np\n",
    "import matplotlib.pyplot as plt\n",
    "import seaborn as sns\n",
    "sns.set()\n",
    "import sklearn\n",
    "\n",
    "#  importing the censusdata and pandas modules, and setting some display options in pandas\n",
    "\n",
    "import pandas as pd\n",
    "import censusdata\n",
    "pd.set_option('display.expand_frame_repr', False)\n",
    "pd.set_option('display.precision', 2)"
   ]
  },
  {
   "cell_type": "markdown",
   "metadata": {},
   "source": [
    "<b> Import Modules </b>"
   ]
  },
  {
   "cell_type": "code",
   "execution_count": 3,
   "metadata": {},
   "outputs": [],
   "source": [
    "# Imported packages\n",
    "import numpy as np\n",
    "import statistics\n",
    "import pandas as pd\n",
    "import matplotlib.pyplot as plt \n",
    "%matplotlib inline\n",
    "import seaborn as sns\n",
    "from numpy import array\n",
    "from numpy import cov\n",
    "import warnings\n",
    "warnings.filterwarnings('ignore')"
   ]
  },
  {
   "cell_type": "markdown",
   "metadata": {},
   "source": [
    "<b> Left align all markdown tables </b>"
   ]
  },
  {
   "cell_type": "code",
   "execution_count": 4,
   "metadata": {},
   "outputs": [
    {
     "data": {
      "text/html": [
       "<style>\n",
       "    table {\n",
       "        display: inline-block\n",
       "    }\n",
       "</style>\n"
      ],
      "text/plain": [
       "<IPython.core.display.HTML object>"
      ]
     },
     "metadata": {},
     "output_type": "display_data"
    }
   ],
   "source": [
    "%%html\n",
    "<style>\n",
    "    table {\n",
    "        display: inline-block\n",
    "    }\n",
    "</style>"
   ]
  },
  {
   "cell_type": "markdown",
   "metadata": {},
   "source": [
    "<b> Read csv file to a pandas dataframe </b>"
   ]
  },
  {
   "cell_type": "code",
   "execution_count": 5,
   "metadata": {},
   "outputs": [
    {
     "data": {
      "text/html": [
       "<div>\n",
       "<style scoped>\n",
       "    .dataframe tbody tr th:only-of-type {\n",
       "        vertical-align: middle;\n",
       "    }\n",
       "\n",
       "    .dataframe tbody tr th {\n",
       "        vertical-align: top;\n",
       "    }\n",
       "\n",
       "    .dataframe thead th {\n",
       "        text-align: right;\n",
       "    }\n",
       "</style>\n",
       "<table border=\"1\" class=\"dataframe\">\n",
       "  <thead>\n",
       "    <tr style=\"text-align: right;\">\n",
       "      <th></th>\n",
       "      <th>Unnamed: 0</th>\n",
       "      <th>NAME</th>\n",
       "      <th>P003001</th>\n",
       "      <th>P003002</th>\n",
       "      <th>P003003</th>\n",
       "      <th>P003004</th>\n",
       "      <th>P003005</th>\n",
       "      <th>P003006</th>\n",
       "      <th>P003007</th>\n",
       "      <th>P003008</th>\n",
       "      <th>P004002</th>\n",
       "      <th>P013001</th>\n",
       "      <th>P013002</th>\n",
       "      <th>P013003</th>\n",
       "      <th>P015001</th>\n",
       "      <th>P017001</th>\n",
       "      <th>P031001</th>\n",
       "      <th>county</th>\n",
       "      <th>state</th>\n",
       "    </tr>\n",
       "  </thead>\n",
       "  <tbody>\n",
       "    <tr>\n",
       "      <th>0</th>\n",
       "      <td>0</td>\n",
       "      <td>Autauga County, Alabama</td>\n",
       "      <td>54571</td>\n",
       "      <td>42855</td>\n",
       "      <td>9643</td>\n",
       "      <td>232</td>\n",
       "      <td>474</td>\n",
       "      <td>32</td>\n",
       "      <td>466</td>\n",
       "      <td>869</td>\n",
       "      <td>53261</td>\n",
       "      <td>37.0</td>\n",
       "      <td>35.9</td>\n",
       "      <td>37.9</td>\n",
       "      <td>20221</td>\n",
       "      <td>2.68</td>\n",
       "      <td>14613</td>\n",
       "      <td>1</td>\n",
       "      <td>1</td>\n",
       "    </tr>\n",
       "    <tr>\n",
       "      <th>1</th>\n",
       "      <td>64</td>\n",
       "      <td>Baldwin County, Alabama</td>\n",
       "      <td>182265</td>\n",
       "      <td>156153</td>\n",
       "      <td>17105</td>\n",
       "      <td>1216</td>\n",
       "      <td>1348</td>\n",
       "      <td>89</td>\n",
       "      <td>3631</td>\n",
       "      <td>2723</td>\n",
       "      <td>174273</td>\n",
       "      <td>41.1</td>\n",
       "      <td>40.1</td>\n",
       "      <td>42.2</td>\n",
       "      <td>73180</td>\n",
       "      <td>2.46</td>\n",
       "      <td>41898</td>\n",
       "      <td>3</td>\n",
       "      <td>1</td>\n",
       "    </tr>\n",
       "    <tr>\n",
       "      <th>2</th>\n",
       "      <td>65</td>\n",
       "      <td>Barbour County, Alabama</td>\n",
       "      <td>27457</td>\n",
       "      <td>13180</td>\n",
       "      <td>12875</td>\n",
       "      <td>114</td>\n",
       "      <td>107</td>\n",
       "      <td>29</td>\n",
       "      <td>894</td>\n",
       "      <td>258</td>\n",
       "      <td>26070</td>\n",
       "      <td>39.0</td>\n",
       "      <td>37.2</td>\n",
       "      <td>41.6</td>\n",
       "      <td>9820</td>\n",
       "      <td>2.47</td>\n",
       "      <td>6015</td>\n",
       "      <td>5</td>\n",
       "      <td>1</td>\n",
       "    </tr>\n",
       "    <tr>\n",
       "      <th>3</th>\n",
       "      <td>1</td>\n",
       "      <td>Bibb County, Alabama</td>\n",
       "      <td>22915</td>\n",
       "      <td>17381</td>\n",
       "      <td>5047</td>\n",
       "      <td>64</td>\n",
       "      <td>22</td>\n",
       "      <td>13</td>\n",
       "      <td>185</td>\n",
       "      <td>203</td>\n",
       "      <td>22509</td>\n",
       "      <td>37.8</td>\n",
       "      <td>36.5</td>\n",
       "      <td>39.5</td>\n",
       "      <td>7953</td>\n",
       "      <td>2.60</td>\n",
       "      <td>5201</td>\n",
       "      <td>7</td>\n",
       "      <td>1</td>\n",
       "    </tr>\n",
       "    <tr>\n",
       "      <th>4</th>\n",
       "      <td>6</td>\n",
       "      <td>Blount County, Alabama</td>\n",
       "      <td>57322</td>\n",
       "      <td>53068</td>\n",
       "      <td>761</td>\n",
       "      <td>307</td>\n",
       "      <td>117</td>\n",
       "      <td>38</td>\n",
       "      <td>2347</td>\n",
       "      <td>684</td>\n",
       "      <td>52696</td>\n",
       "      <td>39.0</td>\n",
       "      <td>38.0</td>\n",
       "      <td>40.0</td>\n",
       "      <td>21578</td>\n",
       "      <td>2.63</td>\n",
       "      <td>14106</td>\n",
       "      <td>9</td>\n",
       "      <td>1</td>\n",
       "    </tr>\n",
       "  </tbody>\n",
       "</table>\n",
       "</div>"
      ],
      "text/plain": [
       "   Unnamed: 0                     NAME  P003001  P003002  P003003  P003004  P003005  P003006  P003007  P003008  P004002  P013001  P013002  P013003  P015001  P017001  P031001  county  state\n",
       "0           0  Autauga County, Alabama    54571    42855     9643      232      474       32      466      869    53261     37.0     35.9     37.9    20221     2.68    14613       1      1\n",
       "1          64  Baldwin County, Alabama   182265   156153    17105     1216     1348       89     3631     2723   174273     41.1     40.1     42.2    73180     2.46    41898       3      1\n",
       "2          65  Barbour County, Alabama    27457    13180    12875      114      107       29      894      258    26070     39.0     37.2     41.6     9820     2.47     6015       5      1\n",
       "3           1     Bibb County, Alabama    22915    17381     5047       64       22       13      185      203    22509     37.8     36.5     39.5     7953     2.60     5201       7      1\n",
       "4           6   Blount County, Alabama    57322    53068      761      307      117       38     2347      684    52696     39.0     38.0     40.0    21578     2.63    14106       9      1"
      ]
     },
     "execution_count": 5,
     "metadata": {},
     "output_type": "execute_result"
    }
   ],
   "source": [
    "# load in data\n",
    "sf1_county = pd.read_csv(\"sf1_county - -  from python using api.csv\")\n",
    "\n",
    "sf1_county.head()"
   ]
  },
  {
   "cell_type": "markdown",
   "metadata": {},
   "source": [
    "<b> Number of rows, number of columns in dataset </b>"
   ]
  },
  {
   "cell_type": "code",
   "execution_count": 6,
   "metadata": {},
   "outputs": [
    {
     "name": "stdout",
     "output_type": "stream",
     "text": [
      "There are # number of rows in the dataset    : 3142\n",
      "There are # number of columns in the dataset : 19\n"
     ]
    }
   ],
   "source": [
    "print('There are # number of rows in the dataset    :', sf1_county.shape[0])\n",
    "print('There are # number of columns in the dataset :', sf1_county.shape[1])"
   ]
  },
  {
   "cell_type": "markdown",
   "metadata": {},
   "source": [
    "| **# Rows** | **# Features** |\n",
    "|----------|--------------|\n",
    "| 12330    | 18           |\n"
   ]
  },
  {
   "cell_type": "markdown",
   "metadata": {},
   "source": [
    "<b> Features datatypes and non-null </b>"
   ]
  },
  {
   "cell_type": "code",
   "execution_count": 7,
   "metadata": {},
   "outputs": [
    {
     "name": "stdout",
     "output_type": "stream",
     "text": [
      "<class 'pandas.core.frame.DataFrame'>\n",
      "RangeIndex: 3142 entries, 0 to 3141\n",
      "Data columns (total 19 columns):\n",
      "Unnamed: 0    3142 non-null int64\n",
      "NAME          3142 non-null object\n",
      "P003001       3142 non-null int64\n",
      "P003002       3142 non-null int64\n",
      "P003003       3142 non-null int64\n",
      "P003004       3142 non-null int64\n",
      "P003005       3142 non-null int64\n",
      "P003006       3142 non-null int64\n",
      "P003007       3142 non-null int64\n",
      "P003008       3142 non-null int64\n",
      "P004002       3142 non-null int64\n",
      "P013001       3142 non-null float64\n",
      "P013002       3142 non-null float64\n",
      "P013003       3142 non-null float64\n",
      "P015001       3142 non-null int64\n",
      "P017001       3142 non-null float64\n",
      "P031001       3142 non-null int64\n",
      "county        3142 non-null int64\n",
      "state         3142 non-null int64\n",
      "dtypes: float64(4), int64(14), object(1)\n",
      "memory usage: 466.5+ KB\n"
     ]
    }
   ],
   "source": [
    "sf1_county.info()"
   ]
  },
  {
   "cell_type": "code",
   "execution_count": 8,
   "metadata": {},
   "outputs": [],
   "source": [
    "# Count of Single Race Households by County\n",
    "    #P003001 Total poulation\n",
    "    #P003002 Population of one race\n",
    "    #P003003 White alone\n",
    "    #P003004 Black or African American alone\n",
    "    #P003005 American Indian and Alaska Native alone\n",
    "    #P003006 Asian alone\n",
    "    #P003007 Native Hawaiian and Other Pacific Islander alone\n",
    "    #P003008 Some other race alone\n",
    "    #P004002 Hispanic or Latino\n",
    "    #P013001 Both sexes MEDIAN AGE BY SEX\n",
    "    #P013002 Male MEDIAN AGE BY SEX\n",
    "    #P013003 Female MEDIAN AGE BY SEX\n",
    "    #P015001 Total HOUSEHOLDS\n",
    "    #P017001 Average household size \n",
    "    #P031001 Total FAMILIES\n"
   ]
  },
  {
   "cell_type": "code",
   "execution_count": 9,
   "metadata": {},
   "outputs": [
    {
     "data": {
      "text/plain": [
       "array([[<matplotlib.axes._subplots.AxesSubplot object at 0x7f102da74ba8>,\n",
       "        <matplotlib.axes._subplots.AxesSubplot object at 0x7f102ba48438>,\n",
       "        <matplotlib.axes._subplots.AxesSubplot object at 0x7f102b9f0eb8>,\n",
       "        <matplotlib.axes._subplots.AxesSubplot object at 0x7f102ba1c978>],\n",
       "       [<matplotlib.axes._subplots.AxesSubplot object at 0x7f102b9ca438>,\n",
       "        <matplotlib.axes._subplots.AxesSubplot object at 0x7f102b9ca470>,\n",
       "        <matplotlib.axes._subplots.AxesSubplot object at 0x7f102b99c978>,\n",
       "        <matplotlib.axes._subplots.AxesSubplot object at 0x7f102b94a438>],\n",
       "       [<matplotlib.axes._subplots.AxesSubplot object at 0x7f102b8f1eb8>,\n",
       "        <matplotlib.axes._subplots.AxesSubplot object at 0x7f102b91f978>,\n",
       "        <matplotlib.axes._subplots.AxesSubplot object at 0x7f102b8cf438>,\n",
       "        <matplotlib.axes._subplots.AxesSubplot object at 0x7f102b874eb8>],\n",
       "       [<matplotlib.axes._subplots.AxesSubplot object at 0x7f102b8a2978>,\n",
       "        <matplotlib.axes._subplots.AxesSubplot object at 0x7f102b849438>,\n",
       "        <matplotlib.axes._subplots.AxesSubplot object at 0x7f102b7f0eb8>,\n",
       "        <matplotlib.axes._subplots.AxesSubplot object at 0x7f102b81e978>],\n",
       "       [<matplotlib.axes._subplots.AxesSubplot object at 0x7f102b7cc438>,\n",
       "        <matplotlib.axes._subplots.AxesSubplot object at 0x7f102b774eb8>,\n",
       "        <matplotlib.axes._subplots.AxesSubplot object at 0x7f102b79f978>,\n",
       "        <matplotlib.axes._subplots.AxesSubplot object at 0x7f102b750438>]],\n",
       "      dtype=object)"
      ]
     },
     "execution_count": 9,
     "metadata": {},
     "output_type": "execute_result"
    },
    {
     "data": {
      "image/png": "[encoded data removed]",
      "text/plain": [
       "<Figure size 1080x1440 with 20 Axes>"
      ]
     },
     "metadata": {
      "needs_background": "light"
     },
     "output_type": "display_data"
    }
   ],
   "source": [
    "sf1_county.hist(figsize = (15,20))"
   ]
  },
  {
   "cell_type": "code",
   "execution_count": null,
   "metadata": {},
   "outputs": [],
   "source": []
  }
 ],
 "metadata": {
  "kernelspec": {
   "display_name": "Python 3",
   "language": "python",
   "name": "python3"
  },
  "language_info": {
   "codemirror_mode": {
    "name": "ipython",
    "version": 3
   },
   "file_extension": ".py",
   "mimetype": "text/x-python",
   "name": "python",
   "nbconvert_exporter": "python",
   "pygments_lexer": "ipython3",
   "version": "3.6.7"
  }
 },
 "nbformat": 4,
 "nbformat_minor": 4
}
